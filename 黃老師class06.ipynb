{
  "cells": [
    {
      "cell_type": "markdown",
      "metadata": {
        "id": "9DD2VrA8cbor"
      },
      "source": [
        "#1、摘要任務\n",
        "對文字內容進行總結摘要。這是多個開發團隊在不同軟體應用中所建構的功能。本課程中，學習如何以程式設計的方式來實現文字摘要任務\n"
      ]
    },
    {
      "cell_type": "code",
      "execution_count": null,
      "metadata": {
        "colab": {
          "base_uri": "https://localhost:8080/"
        },
        "id": "Qf7ce6FKHHjV",
        "outputId": "f3646586-5bd9-45d6-af11-9f9b3defd63f"
      },
      "outputs": [
        {
          "output_type": "stream",
          "name": "stdout",
          "text": [
            "Requirement already satisfied: openai in /usr/local/lib/python3.10/dist-packages (1.3.7)\n",
            "Requirement already satisfied: anyio<4,>=3.5.0 in /usr/local/lib/python3.10/dist-packages (from openai) (3.7.1)\n",
            "Requirement already satisfied: distro<2,>=1.7.0 in /usr/lib/python3/dist-packages (from openai) (1.7.0)\n",
            "Requirement already satisfied: httpx<1,>=0.23.0 in /usr/local/lib/python3.10/dist-packages (from openai) (0.25.2)\n",
            "Requirement already satisfied: pydantic<3,>=1.9.0 in /usr/local/lib/python3.10/dist-packages (from openai) (1.10.13)\n",
            "Requirement already satisfied: sniffio in /usr/local/lib/python3.10/dist-packages (from openai) (1.3.0)\n",
            "Requirement already satisfied: tqdm>4 in /usr/local/lib/python3.10/dist-packages (from openai) (4.66.1)\n",
            "Requirement already satisfied: typing-extensions<5,>=4.5 in /usr/local/lib/python3.10/dist-packages (from openai) (4.5.0)\n",
            "Requirement already satisfied: idna>=2.8 in /usr/local/lib/python3.10/dist-packages (from anyio<4,>=3.5.0->openai) (3.6)\n",
            "Requirement already satisfied: exceptiongroup in /usr/local/lib/python3.10/dist-packages (from anyio<4,>=3.5.0->openai) (1.2.0)\n",
            "Requirement already satisfied: certifi in /usr/local/lib/python3.10/dist-packages (from httpx<1,>=0.23.0->openai) (2023.11.17)\n",
            "Requirement already satisfied: httpcore==1.* in /usr/local/lib/python3.10/dist-packages (from httpx<1,>=0.23.0->openai) (1.0.2)\n",
            "Requirement already satisfied: h11<0.15,>=0.13 in /usr/local/lib/python3.10/dist-packages (from httpcore==1.*->httpx<1,>=0.23.0->openai) (0.14.0)\n"
          ]
        }
      ],
      "source": [
        "!pip install openai"
      ]
    },
    {
      "cell_type": "code",
      "execution_count": null,
      "metadata": {
        "id": "5UBdj8OrhJ4W"
      },
      "outputs": [],
      "source": [
        "from openai import OpenAI\n",
        "client = OpenAI(api_key = \"\")"
      ]
    },
    {
      "cell_type": "code",
      "execution_count": null,
      "metadata": {
        "id": "xzFoVskHhT2N"
      },
      "outputs": [],
      "source": [
        "def get_completion(prompt, temperature=0):\n",
        "  messages = [{\"role\": \"user\", \"content\": prompt}]\n",
        "  response = client.chat.completions.create(\n",
        "    model=\"gpt-3.5-turbo\",\n",
        "    messages=messages,\n",
        "    temperature=temperature\n",
        "  )\n",
        "  return response.choices[0].message.content"
      ]
    },
    {
      "cell_type": "markdown",
      "metadata": {
        "id": "_nGL9bVadGJ3"
      },
      "source": [
        "##1-1生成評論的摘要\n",
        "如果你正在建構一個電子商務網站，並且有大量的評論，需要一個工具來總結冗長的評論，讓你可以更快速地瀏覽更多的評論，更進一步地了解所有客戶的想法。\n",
        "因此，需要有一個生成摘要的提示。你的任務是對電子商務網站上的產品評論生成一個簡短的評論摘要，最多使用 30 個單字。\n"
      ]
    },
    {
      "cell_type": "code",
      "execution_count": null,
      "metadata": {
        "id": "Et1Z564Pc0A3"
      },
      "outputs": [],
      "source": [
        "prod_review = \"\"\"\n",
        "Got this panda plush toy for my daughter's birthday, \\\n",
        "who loves it and takes it everywhere. It's soft and \\\n",
        "super cute, and its face has a friendly look. It's \\\n",
        "a bit small for what I paid though. I think there \\\n",
        "might be other options that are bigger for the \\\n",
        "same price. It arrived a day earlier than expected, \\\n",
        "so I got to play with it myself before I gave it \\\n",
        "to her.\n",
        "\"\"\"\n"
      ]
    },
    {
      "cell_type": "code",
      "execution_count": null,
      "metadata": {
        "colab": {
          "base_uri": "https://localhost:8080/"
        },
        "id": "R7-LGhDKeOF6",
        "outputId": "7b09d73c-220b-4dcf-a0c4-36ea8018677b"
      },
      "outputs": [
        {
          "output_type": "stream",
          "name": "stdout",
          "text": [
            "Soft and cute panda plush toy loved by a child, but a bit small for the price. Arrived early.\n"
          ]
        }
      ],
      "source": [
        "prompt = f\"\"\"\n",
        "Your task is to generate a short summary of a product \\ review from an ecommerce site.\n",
        "\n",
        "Summarize the review below, delimited by triple backticks, in at most 30 words.\n",
        "\n",
        "Review: ```{prod_review}``` \"\"\"\n",
        "\n",
        "response = get_completion(prompt)\n",
        "print(response)\n"
      ]
    },
    {
      "cell_type": "markdown",
      "metadata": {
        "id": "sYNi-5TLeUFH"
      },
      "source": [
        "##1-2指定資訊的摘要\n",
        "舉例來說，如果我要向運輸部門提供回饋，那麼我的關注點就集中在商品的運輸和交付方面，因此對提示進行修改如下"
      ]
    },
    {
      "cell_type": "code",
      "execution_count": null,
      "metadata": {
        "colab": {
          "base_uri": "https://localhost:8080/"
        },
        "id": "adtFNNU9eheV",
        "outputId": "d35f7a18-f470-4cd3-d4e1-8b41ecfac39e"
      },
      "outputs": [
        {
          "output_type": "stream",
          "name": "stdout",
          "text": [
            "The customer is happy with the product but mentions that it is smaller than expected. They also mention that the shipping was faster than expected.\n"
          ]
        }
      ],
      "source": [
        "prompt = f\"\"\"\n",
        "Your task is to generate a short summary of a product \\ review from an ecommerce site to give feedback to the \\ Shipping deparmtment.\n",
        "\n",
        "Summarize the review below, delimited by triple\n",
        "backticks, in at most 30 words, and focusing on any aspects \\ that mention shipping and delivery of the product.\n",
        "\n",
        "Review: ```{prod_review}``` \"\"\"\n",
        "response = get_completion(prompt)\n",
        "print(response)"
      ]
    },
    {
      "cell_type": "markdown",
      "metadata": {
        "id": "5w9T431mesKV"
      },
      "source": [
        "如果我們不想向運輸部門，而是想向定價部門提供回饋。定價部門負責確定產品的價格，所以我要告訴它關注與價格和價值感知相關的內容。"
      ]
    },
    {
      "cell_type": "code",
      "execution_count": null,
      "metadata": {
        "colab": {
          "base_uri": "https://localhost:8080/"
        },
        "id": "zDPcOaAveujS",
        "outputId": "247e683f-4228-43f0-a18a-e4dd0a22d813"
      },
      "outputs": [
        {
          "output_type": "stream",
          "name": "stdout",
          "text": [
            "The panda plush toy is loved by the daughter, but the reviewer feels it is overpriced as there might be larger options available for the same price.\n"
          ]
        }
      ],
      "source": [
        "prompt = f\"\"\"\n",
        "Your task is to generate a short summary of a product \\\n",
        "review from an ecommerce site to give feedback to the \\\n",
        "pricing deparmtment, responsible for determining the \\\n",
        "price of the product.\n",
        "\n",
        "Summarize the review below, delimited by triple \\\n",
        "backticks, in at most 30 words, and focusing on any aspects \\\n",
        "that are relevant to the price and perceived value.\n",
        "\n",
        "Review: ```{prod_review}``` \"\"\"\n",
        "\n",
        "response = get_completion(prompt)\n",
        "print(response)\n"
      ]
    },
    {
      "cell_type": "markdown",
      "metadata": {
        "id": "y7CwkAdyfAlm"
      },
      "source": [
        "## 1-3提取指定的資訊\n",
        "在這些總結中，除了生成了與運輸相關的資訊，也有一些其它的資訊，你可以決定這些資訊是否有幫助。根據你想要總結的方式，你也可以要求它只是提取資訊而非進行總結。這裡有一個提示，它說你的任務是提取相關資訊並給運輸部門回饋。\n"
      ]
    },
    {
      "cell_type": "code",
      "execution_count": null,
      "metadata": {
        "colab": {
          "base_uri": "https://localhost:8080/"
        },
        "id": "LNJ7SlQyfM2a",
        "outputId": "5fcff01e-3e58-4480-f222-458480071177"
      },
      "outputs": [
        {
          "output_type": "stream",
          "name": "stdout",
          "text": [
            "The relevant information about shipping and delivery from the review is: \"It arrived a day earlier than expected.\"\n"
          ]
        }
      ],
      "source": [
        "prompt = f\"\"\"\n",
        "Your task is to extract relevant information from \\\n",
        "a product review from an ecommerce site to give \\\n",
        "feedback to the Shipping department.\n",
        "From the review below, delimited by triple quotes \\\n",
        "extract the information relevant to shipping and \\\n",
        "delivery. Limit to 30 words.\n",
        "\n",
        "Review: ```{prod_review}``` \"\"\"\n",
        "\n",
        "response = get_completion(prompt)\n",
        "print(response)\n"
      ]
    },
    {
      "cell_type": "markdown",
      "metadata": {
        "id": "ljPkY5wIg0ni"
      },
      "source": [
        "##1-4多筆評論的摘要\n",
        "在工作流程中使用它來幫助總結多篇評論，使其更容易閱讀。"
      ]
    },
    {
      "cell_type": "code",
      "execution_count": null,
      "metadata": {
        "colab": {
          "base_uri": "https://localhost:8080/"
        },
        "id": "iQR1Q0LIg7FH",
        "outputId": "80c175f1-0f44-4559-9bca-e2aa36dfd786"
      },
      "outputs": [
        {
          "output_type": "stream",
          "name": "stdout",
          "text": [
            "0 Soft and cute panda plush toy loved by daughter, but small for the price. Arrived early. \n",
            "\n",
            "1 Affordable lamp with storage, fast delivery, excellent customer service, and easy assembly. Great company that values customers. \n",
            "\n",
            "2 The reviewer recommends the electric toothbrush for its impressive battery life, but criticizes the small brush head. \n",
            "\n",
            "3 The reviewer mentions a price increase, a slight flaw in the blade lock, and a motor issue after a year. \n",
            "\n"
          ]
        }
      ],
      "source": [
        "review_1 = prod_review\n",
        "\n",
        "# review for a standing lamp\n",
        "review_2 = \"\"\"\n",
        "Needed a nice lamp for my bedroom, and this one \\ had additional storage and not too high of a price \\ point. Got it fast - arrived in 2 days. The string \\\n",
        "to the lamp broke during the transit and the company \\ happily sent over a new one. Came within a few days \\ as well. It was easy to put together. Then I had a \\ missing part, so I contacted their support and they \\ very quickly got me the missing piece! Seems to me \\\n",
        "to be a great company that cares about their customers \\ and products.\n",
        "\"\"\"\n",
        "\n",
        "# review for an electric toothbrush\n",
        "review_3 = \"\"\"\n",
        "My dental hygienist recommended an electric toothbrush, \\ which is why I got this. The battery life seems to be \\ pretty impressive so far. After initial charging and \\ leaving the charger plugged in for the first week to \\ condition the battery, I've unplugged the charger and \\ been using it for twice daily brushing for the last \\\n",
        "3 weeks all on the same charge. But the toothbrush head \\\n",
        "is too small. I’ve seen baby toothbrushes bigger than \\ this one. I wish the head was bigger with different \\ length bristles to get between teeth better because \\ this one doesn’t. Overall if you can get this one \\\n",
        "around the $50 mark, it's a good deal. The manufactuer's \\ replacements heads are pretty expensive, but you can \\\n",
        "get generic ones that're more reasonably priced. This \\ toothbrush makes me feel like I've been to the dentist \\ every day. My teeth feel sparkly clean!\n",
        "\"\"\"\n",
        "\n",
        "# review for a blender\n",
        "review_4 = \"\"\"\n",
        "So, they still had the 17 piece system on seasonal \\ sale for around $49 in the month of November, about \\ half off, but for some reason (call it price gouging) \\ around the second week of December the prices all went \\ up to about anywhere from between $70-$89 for the same \\ system. And the 11 piece system went up around $10 or \\ so in price also from the earlier sale price of $29. \\\n",
        "So it looks okay, but if you look at the base, the part \\ where the blade locks into place doesn’t look as good \\ as in previous editions from a few years ago, but I \\ plan to be very gentle with it (example, I crush \\\n",
        "very hard items like beans, ice, rice, etc. in the \\ blender first then pulverize them in the serving size \\ I want in the blender then switch to the whipping \\\n",
        "blade for a finer flour, and use the cross cutting blade \\ first when making smoothies, then use the flat blade \\\n",
        "if I need them finer/less pulpy). Special tip when making \\ smoothies, finely cut and freeze the fruits and \\ vegetables (if using spinach-lightly stew soften the \\ spinach then freeze until ready for use-and if making \\ sorbet, use a small to medium sized food processor) \\\n",
        "that you plan to use that way you can avoid adding so \\ much ice if at all-when making your smoothie. \\\n",
        "After about a year, the motor was making a funny noise. \\ I called customer service but the warranty expired \\ already, so I had to buy another one. FYI: The overall \\ quality has gone done in these types of products, so \\ they are kind of counting on brand recognition and \\ consumer loyalty to maintain sales. Got it in about \\\n",
        "two days. \"\"\"\n",
        "\n",
        "reviews = [review_1, review_2, review_3, review_4]\n",
        "for i in range(len(reviews)):\n",
        "  prompt = f\"\"\"\n",
        "Your task is to generate a short summary of a product \\ review from an ecommerce site.\n",
        "Summarize the review below, delimited by triple \\ backticks in at most 20 words.\n",
        "Review: ```{reviews[i]}``` \"\"\"\n",
        "  response = get_completion(prompt)\n",
        "  print(i, response, \"\\n\")\n",
        "\n"
      ]
    },
    {
      "cell_type": "markdown",
      "metadata": {
        "id": "RqDvar_3iGEY"
      },
      "source": [
        "#2、推理任務\n",
        "這些任務看成是模型將文字作為輸入並進行某種分析。這可以是提取標籤，提取名字，理解文字的情感，等等"
      ]
    },
    {
      "cell_type": "markdown",
      "metadata": {
        "id": "kLEyGdOziR-3"
      },
      "source": [
        "## 2-1文字情緒分析\n",
        "如果你想對一段文字提取正面或負面的情緒，在傳統的機器學習工作流程中，你必須收集標籤資料集，訓練一個模型，將模型部署在雲端的某個地方，並進行推斷。這種方法可以極佳地工作，但這個過程需要做很多費力的工作。此外，對於每一項任務，例如情感分析、提取姓名或其他任務，你都必須為其訓練和部署一個單獨的模型。\n",
        "大型語言模型的好處是，對於許多這樣的任務，你只需要撰寫一個提示，就可以讓它馬上生成結果，這極大地加快了應用程式開發的速度。而且你可以只使用一個模型、一個 API 來執行許多不同的任務，而不需要搞清楚如何訓練和部署許多不同的模型。\n"
      ]
    },
    {
      "cell_type": "code",
      "execution_count": null,
      "metadata": {
        "id": "gQPTcd9yipIl"
      },
      "outputs": [],
      "source": [
        "lamp_review = \"\"\"\n",
        "Needed a nice lamp for my bedroom, and this one had \\\n",
        "additional storage and not too high of a price point. \\\n",
        "Got it fast. The string to our lamp broke during the \\\n",
        "transit and the company happily sent over a new one. \\\n",
        "Came within a few days as well. It was easy to put \\\n",
        "together. I had a missing part, so I contacted their \\\n",
        "support and they very quickly got me the missing piece! \\\n",
        "Lumina seems to me to be a great company that cares \\\n",
        "about their customers and products!!\n",
        "\"\"\""
      ]
    },
    {
      "cell_type": "code",
      "execution_count": null,
      "metadata": {
        "colab": {
          "base_uri": "https://localhost:8080/"
        },
        "id": "O0TOYywti0mZ",
        "outputId": "e821ef1e-e9e0-42d7-c9ca-51a2d924074c"
      },
      "outputs": [
        {
          "output_type": "stream",
          "name": "stdout",
          "text": [
            "The sentiment of the product review is positive.\n"
          ]
        }
      ],
      "source": [
        "prompt = f\"\"\"\n",
        "What is the sentiment of the following product review, which is delimited with triple backticks?\n",
        "\n",
        "Review text: '''{lamp_review}''' \"\"\"\n",
        "response = get_completion(prompt)\n",
        "print(response)\n"
      ]
    },
    {
      "cell_type": "markdown",
      "metadata": {
        "id": "UJlmAElii60l"
      },
      "source": [
        "## 2-2控制輸出的樣式\n",
        "舉出一個更簡潔的回答，以便後期處理，我可以在這個提示中添加另一行指令，用一個單字舉出答案，無論是正面的還是負面的"
      ]
    },
    {
      "cell_type": "code",
      "execution_count": null,
      "metadata": {
        "colab": {
          "base_uri": "https://localhost:8080/"
        },
        "id": "C6P5rrD3jCqd",
        "outputId": "78ae1a0c-0c94-47bd-acf7-7fa46cd53611"
      },
      "outputs": [
        {
          "output_type": "stream",
          "name": "stdout",
          "text": [
            "positive\n"
          ]
        }
      ],
      "source": [
        "prompt = f\"\"\"\n",
        "What is the sentiment of the following product review, which is delimited with triple backticks?\n",
        "\n",
        "Give your answer as a single word, either \"positive\" \\ or \"negative\".\n",
        "\n",
        "Review text: '''{lamp_review}''' \"\"\"\n",
        "response = get_completion(prompt)\n",
        "print(response)\n"
      ]
    },
    {
      "cell_type": "markdown",
      "metadata": {
        "id": "1Bqgven3kSrv"
      },
      "source": [
        "在這裡，我讓它舉出這條評論的作者所表達的情緒清單，清單內容不超過五項"
      ]
    },
    {
      "cell_type": "code",
      "execution_count": null,
      "metadata": {
        "colab": {
          "base_uri": "https://localhost:8080/"
        },
        "id": "4ym9gIBQkUwo",
        "outputId": "23f1fb42-2aa9-4763-9183-6f941fd8303e"
      },
      "outputs": [
        {
          "output_type": "stream",
          "name": "stdout",
          "text": [
            "satisfied, pleased, grateful, impressed, happy\n"
          ]
        }
      ],
      "source": [
        "prompt = f\"\"\"\n",
        "Identify a list of emotions that the writer of the \\ following review is expressing. Include no more than \\ five items in the list. Format your answer as a list of \\ lower-case words separated by commas.\n",
        "\n",
        "Review text: '''{lamp_review}''' \"\"\"\n",
        "response = get_completion(prompt)\n",
        "print(response)\n"
      ]
    },
    {
      "cell_type": "markdown",
      "metadata": {
        "id": "96XuC1gDkf6F"
      },
      "source": [
        "客戶支援部門來說，了解特定使用者是否對產品感到非常不滿是很重要的工作。所以你可能會遇到類似這樣的不同的分類問題：“下面這條評論的作者是否在表達憤怒？”"
      ]
    },
    {
      "cell_type": "code",
      "execution_count": null,
      "metadata": {
        "colab": {
          "base_uri": "https://localhost:8080/"
        },
        "id": "pLCDIkBikieu",
        "outputId": "9526bc39-8b8d-4c40-f654-9f0053cb803c"
      },
      "outputs": [
        {
          "output_type": "stream",
          "name": "stdout",
          "text": [
            "No\n"
          ]
        }
      ],
      "source": [
        "prompt = f\"\"\"\n",
        "Is the writer of the following review expressing anger?\\ The review is delimited with triple backticks. \\\n",
        "Give your answer as either yes or no.\n",
        "\n",
        "Review text: '''{lamp_review}''' \"\"\"\n",
        "response = get_completion(prompt)\n",
        "print(response)\n"
      ]
    },
    {
      "cell_type": "markdown",
      "metadata": {
        "id": "4WztNC0YpEnF"
      },
      "source": [
        "## 2-3輸出JSON格式\n",
        "資訊提取是自然語言處理（NLP）的一部分，它涉及到提取一段文字，並從文字中提取你想知道的某些東西。在這個提示中，我要求它提取以下資訊：購買的物品和製造該物品的公司名稱。同樣，如果你試圖對一個網上購物電子商務網站上的大量評論進行總結，那麼對 收集的大量評論來說，找出這些評論所涉及的商品可能會很有用。可以分析評論中 的內容，找出涉及產品的製造商，推斷正面或負面的情緒，由此來追蹤特定商品或 特定製造商的正面或負面情緒的變化趨勢。\n",
        "在這個例子中，我將要求它以 JSON 格式進行格式化的輸出 ，以 item 和 brand作為關鍵字。\n"
      ]
    },
    {
      "cell_type": "code",
      "execution_count": null,
      "metadata": {
        "colab": {
          "base_uri": "https://localhost:8080/"
        },
        "id": "cXF5ZKJpkjUS",
        "outputId": "e160c5a9-5f9a-4681-f1b3-1e4cbdeddea4"
      },
      "outputs": [
        {
          "output_type": "stream",
          "name": "stdout",
          "text": [
            "{\n",
            "  \"Item\": \"lamp\",\n",
            "  \"Brand\": \"Lumina\"\n",
            "}\n"
          ]
        }
      ],
      "source": [
        "prompt = f\"\"\"\n",
        "Identify the following items from the review text:\n",
        "-\tItem purchased by reviewer\n",
        "-\tCompany that made the item\n",
        "\n",
        "The review is delimited with triple backticks. \\\n",
        "Format your response as a JSON object with \\\n",
        "\"Item\" and \"Brand\" as the keys.\n",
        "If the information isn't present, use \"unknown\" \\\n",
        "as the value.\n",
        "Make your response as short as possible.\n",
        "\n",
        "Review text: '''{lamp_review}''' \"\"\"\n",
        "response = get_completion(prompt)\n",
        "print(response)\n"
      ]
    },
    {
      "cell_type": "markdown",
      "metadata": {
        "id": "U9HazBqSpcFJ"
      },
      "source": [
        "##2-4整合多個任務\n",
        "撰寫一個提示來同時提取所有這些資訊。舉例來說，辨識以下的項目：提取情緒，是否在表達憤怒，購買的商品，商品的製造商。然後，我還將要求它將憤怒情緒表示為布林值的格式"
      ]
    },
    {
      "cell_type": "code",
      "execution_count": null,
      "metadata": {
        "colab": {
          "base_uri": "https://localhost:8080/"
        },
        "id": "XZSHP0vGpg6N",
        "outputId": "5e208baa-1ec0-419c-be95-441d95e51634"
      },
      "outputs": [
        {
          "output_type": "stream",
          "name": "stdout",
          "text": [
            "{\n",
            "  \"Sentiment\": \"positive\",\n",
            "  \"Anger\": false,\n",
            "  \"Item\": \"lamp\",\n",
            "  \"Brand\": \"Lumina\"\n",
            "}\n"
          ]
        }
      ],
      "source": [
        "prompt = f\"\"\"\n",
        "Identify the following items from the review text:\n",
        "-\tSentiment (positive or negative)\n",
        "-\tIs the reviewer expressing anger? (true or false)\n",
        "-\tItem purchased by reviewer\n",
        "-\tCompany that made the item\n",
        "\n",
        "The review is delimited with triple backticks. \\ Format your response as a JSON object with \\ \"Sentiment\", \"Anger\", \"Item\" and \"Brand\" as the keys.\n",
        "If the information isn't present, use \"unknown\" \\ as the value.\n",
        "Make your response as short as possible. Format the Anger value as a boolean.\n",
        "\n",
        "Review text: '''{lamp_review}''' \"\"\"\n",
        "response = get_completion(prompt)\n",
        "print(response)\n"
      ]
    },
    {
      "cell_type": "markdown",
      "metadata": {
        "id": "6mmr9XGWpvtv"
      },
      "source": [
        "##2-5文字主題推論\n",
        "給定一段很長的文字，這段文字是關於什麼的？有哪些主題？ 這是一篇虛構的報紙文章，關於政府工作人員對他們所工作機構的感受，最近由政府進行了一項調查，結果是NASA 是一個受歡迎的部門，滿意度很高\n"
      ]
    },
    {
      "cell_type": "code",
      "execution_count": null,
      "metadata": {
        "id": "cNHyz_pxp457"
      },
      "outputs": [],
      "source": [
        "story = \"\"\"\n",
        "In a recent survey conducted by the government,\n",
        "public sector employees were asked to rate their level of satisfaction with the department they work at.\n",
        "The results revealed that NASA was the most popular department with a satisfaction rating of 95%.\n",
        "\n",
        "One NASA employee, John Smith, commented on the findings, stating, \"I'm not surprised that NASA came out on top.\n",
        "It's a great place to work with amazing people and incredible opportunities. I'm proud to be a part of such an innovative organization.\"\n",
        "\n",
        "The results were also welcomed by NASA's management team, with Director Tom Johnson stating, \"We are thrilled to\n",
        "hear that our employees are satisfied with their work at NASA.\n",
        "We have a talented and dedicated team who work tirelessly to achieve our goals, and it's fantastic to see that their hard work is paying off.\"\n",
        "\n",
        "The survey also revealed that the\n",
        "Social Security Administration had the lowest satisfaction rating, with only 45% of employees indicating they were satisfied with their job. The government has pledged to address the concerns raised by employees in the survey and\n",
        "work towards improving job satisfaction across all departments. \"\"\"\n"
      ]
    },
    {
      "cell_type": "markdown",
      "metadata": {
        "id": "IL7FtHALqAFL"
      },
      "source": [
        "確定以下文字中討論的五個主題，把每一項都寫成一到兩個單字，表示為用逗點分隔的列表。"
      ]
    },
    {
      "cell_type": "code",
      "execution_count": null,
      "metadata": {
        "colab": {
          "base_uri": "https://localhost:8080/"
        },
        "id": "4cvcpNztqCh7",
        "outputId": "5c6bb224-11b8-46a3-baad-f2f1f85f03db"
      },
      "outputs": [
        {
          "output_type": "stream",
          "name": "stdout",
          "text": [
            "1. Government survey\n",
            "2. Employee satisfaction\n",
            "3. NASA\n",
            "4. Social Security Administration\n",
            "5. Job satisfaction improvement\n"
          ]
        }
      ],
      "source": [
        "prompt = f\"\"\"\n",
        "Determine five topics that are being discussed in the \\\n",
        "following text, which is delimited by triple backticks.\n",
        "\n",
        "Make each item one or two words long.\n",
        "Format your response as a list of items separated by commas. Text sample: '''{story}'''\n",
        "\"\"\"\n",
        "response = get_completion(prompt)\n",
        "print(response)\n"
      ]
    },
    {
      "cell_type": "markdown",
      "metadata": {
        "id": "50V1DWucqRBL"
      },
      "source": [
        "##1-6文字主題索引\n",
        "如果你有一個文章的集合，並提取主題，那麼還可以使用大型語言模型來幫助你索引不同的主題。讓我使用一個稍微不同的主題清單。舉例來說，我們是一個新聞網站或其他什麼，這些都是我們追蹤的話題，NASA，地方政府，工程，員工滿意度，聯邦政府。\n"
      ]
    },
    {
      "cell_type": "code",
      "execution_count": null,
      "metadata": {
        "id": "gti1ksaTqXxX"
      },
      "outputs": [],
      "source": [
        "topic_list = [\n",
        "\"nasa\", \"local government\", \"engineering\", \"employee satisfaction\", \"federal government\"\n",
        "]\n"
      ]
    },
    {
      "cell_type": "markdown",
      "metadata": {
        "id": "U5XzDywEqapT"
      },
      "source": [
        "如果想弄清楚，給定一篇新聞報導，這篇新聞涉及哪些主題。可以使用這樣一個提示：確定以下主題清單中的每個專案是否都是下面文字中的主題，將答案表示為每個主題的 0/1 的list。\n"
      ]
    },
    {
      "cell_type": "code",
      "execution_count": null,
      "metadata": {
        "colab": {
          "base_uri": "https://localhost:8080/"
        },
        "id": "Fi5LEwGlqiJx",
        "outputId": "b0d61892-cbf6-441a-9689-3b521023dab2"
      },
      "outputs": [
        {
          "output_type": "stream",
          "name": "stdout",
          "text": [
            "[1, 0, 0, 1, 1]\n"
          ]
        }
      ],
      "source": [
        "prompt = f\"\"\"\n",
        "Determine whether each item in the following list of \\ topics is a topic in the text below, which\n",
        "is delimited with triple backticks.\n",
        "\n",
        "Give your answer as list with 0 or 1 for each topic.\\\n",
        "List of topics: {\", \".join(topic_list)}\n",
        "Text sample: '''{story}''' \"\"\"\n",
        "response = get_completion(prompt)\n",
        "print(response)\n"
      ]
    },
    {
      "cell_type": "markdown",
      "metadata": {
        "id": "eYuCT2dmse5e"
      },
      "source": [
        "#2、轉換任務\n",
        "將輸入轉為不同的格式，輸入一種語言的文字，將其轉換或翻譯為另一種語言，或幫助進行拼寫和語法的檢查和修改。因此，將一段不完全符合語法的文字作為輸入，可以讓它幫助你 x 糾正拼寫和語法。或用來轉換文字格式，例如輸入 HTML ，讓它輸出 JSON格式的文字。"
      ]
    },
    {
      "cell_type": "markdown",
      "metadata": {
        "id": "ZcEMJnZusu76"
      },
      "source": [
        "##2-1文字翻譯\n",
        "大型語言模型是在許多來源的大量文字上訓練出來的，其中很多內容來自網際網路，這當然會有許多不同的語言。因此， 這使模型具有翻譯能力。模型以不同程度的熟練掌握數百種語言"
      ]
    },
    {
      "cell_type": "code",
      "execution_count": null,
      "metadata": {
        "colab": {
          "base_uri": "https://localhost:8080/"
        },
        "id": "kqodjWQPstNu",
        "outputId": "bf5e16c2-4aad-449b-a1f6-39603b44ef61"
      },
      "outputs": [
        {
          "output_type": "stream",
          "name": "stdout",
          "text": [
            "嗨，我想要訂購一台攪拌機。\n"
          ]
        }
      ],
      "source": [
        "prompt = f\"\"\"\n",
        "Translate the following English text to Traditional Chinese: \\\n",
        "```Hi, I would like to order a blender``` \"\"\"\n",
        "response = get_completion(prompt)\n",
        "print(response)\n"
      ]
    },
    {
      "cell_type": "code",
      "execution_count": null,
      "metadata": {
        "colab": {
          "base_uri": "https://localhost:8080/"
        },
        "id": "c_GluLA2tC0i",
        "outputId": "40200bd3-7d66-471f-a4b3-d5d1adce3649"
      },
      "outputs": [
        {
          "output_type": "stream",
          "name": "stdout",
          "text": [
            "This language is French.\n"
          ]
        }
      ],
      "source": [
        "prompt = f\"\"\"\n",
        "Tell me which language this is:\n",
        "```Combien coûte le lampadaire?``` \"\"\"\n",
        "response = get_completion(prompt)\n",
        "print(response)\n"
      ]
    },
    {
      "cell_type": "markdown",
      "metadata": {
        "id": "6aXewNp5tZuF"
      },
      "source": [
        "在一些語言中，翻譯可能會因說話者與聽眾的關係而變化。你也可以向語言模型解釋這一點，這樣它就能進行相應的翻譯。在這個例子中，我們提示要求，將以下文字翻譯成中文，分別用正式的和非正式的用法表達"
      ]
    },
    {
      "cell_type": "code",
      "execution_count": null,
      "metadata": {
        "colab": {
          "base_uri": "https://localhost:8080/"
        },
        "id": "ghboPSZktgMR",
        "outputId": "53679cfa-8c35-4999-f9bb-2792e1018306"
      },
      "outputs": [
        {
          "output_type": "stream",
          "name": "stdout",
          "text": [
            "Formal: 您要點飲料嗎？\n",
            "Informal: 你要點飲料嗎？\n"
          ]
        }
      ],
      "source": [
        "prompt = f\"\"\"\n",
        "Translate the following text to Taiwan Chinese in both the \\\n",
        "formal and informal forms:\n",
        "'would you like to order a drink?' \"\"\"\n",
        "response = get_completion(prompt)\n",
        "print(response)\n"
      ]
    },
    {
      "cell_type": "markdown",
      "metadata": {
        "id": "TE-ppaFpt_PX"
      },
      "source": [
        "##1-2通用翻譯器\n",
        "假設我們負責一家跨國電子商務公司，使用者發來的資訊將是各種不同的語言，因此他們會用各種不同的語言，告訴我們關於 IT 的問題。因此，我們需要一個通用的翻譯器。\n",
        "首先，我們將貼上一個各種不同語言的使用者資訊的清單，然後我們將迴圈遍歷每一條使用者訊息。\n"
      ]
    },
    {
      "cell_type": "code",
      "execution_count": null,
      "metadata": {
        "id": "sVYXnAnSuGNO"
      },
      "outputs": [],
      "source": [
        "user_messages = [\"La performance du système est plus lente que d'habitude.\",\n",
        "          \"Mi monitor tiene píxeles que no se iluminan.\",\"Il mio mouse non funziona\",\n",
        "          \"Mój klawisz Ctrl jest zepsuty\",\n",
        "          \"我的屏幕在闪烁\"\n",
        "]\n"
      ]
    },
    {
      "cell_type": "code",
      "execution_count": null,
      "metadata": {
        "colab": {
          "base_uri": "https://localhost:8080/"
        },
        "id": "2bnC5hT4uaZs",
        "outputId": "3a01d248-c9fc-4f08-ec25-eeb08bc86950"
      },
      "outputs": [
        {
          "output_type": "stream",
          "name": "stdout",
          "text": [
            "Original message (The language is French.): La performance du système est plus lente que d'habitude.\n",
            "The system performance is slower than usual.\n",
            "系統的表現比平常慢。 \n",
            "\n",
            "Original message (The language is Spanish.): Mi monitor tiene píxeles que no se iluminan.\n",
            "My monitor has pixels that do not light up.\n",
            "我的显示器有一些像素点不亮。 \n",
            "\n",
            "Original message (The language is Italian.): Il mio mouse non funziona\n",
            "English: My mouse is not working.\n",
            "Traditional Chinese: 我的鼠標不工作。 \n",
            "\n",
            "Original message (The language is Polish.): Mój klawisz Ctrl jest zepsuty\n",
            "My Ctrl key is broken\n",
            "我的Ctrl键坏了 \n",
            "\n",
            "Original message (The language is Chinese.): 我的屏幕在闪烁\n",
            "English: \"My screen is flickering.\"\n",
            "\n",
            "Traditional Chinese: \"我的屏幕在閃爍\" \n",
            "\n"
          ]
        }
      ],
      "source": [
        "for issue in user_messages:\n",
        "  prompt = f\"Tell me what language this is: ```{issue}```\"\n",
        "  lang = get_completion(prompt)\n",
        "  print(f\"Original message ({lang}): {issue}\")\n",
        "\n",
        "  prompt = f\"\"\"\n",
        "Translate the following text to English \\\n",
        "and Traditional Chinese: ```{issue}```\n",
        "\"\"\"\n",
        "  response = get_completion(prompt)\n",
        "  print(response, \"\\n\")\n"
      ]
    },
    {
      "cell_type": "markdown",
      "metadata": {
        "id": "yALOZH11OSwF"
      },
      "source": [
        "#1-3語氣和風格變換\n",
        "寫作可以根據預期的受眾不同而變化，我給同事或教授寫郵件的方式，顯然會與我給弟弟發簡訊的方式大不相同。ChatGPT 也可以幫助產生不同的語氣。"
      ]
    },
    {
      "cell_type": "code",
      "execution_count": null,
      "metadata": {
        "colab": {
          "base_uri": "https://localhost:8080/"
        },
        "id": "_0JAomjQObKO",
        "outputId": "8a31a143-3011-4d96-8146-495bedfa923b"
      },
      "outputs": [
        {
          "output_type": "stream",
          "name": "stdout",
          "text": [
            "Dear Sir/Madam,\n",
            "\n",
            "I hope this letter finds you well. My name is Joe, and I am writing to bring your attention to a specification document regarding a standing lamp. \n",
            "\n",
            "I kindly request that you take a moment to review the attached spec, as it provides detailed information about the features and qualities of the aforementioned standing lamp. \n",
            "\n",
            "Thank you for your time and consideration. I look forward to discussing this further with you.\n",
            "\n",
            "Yours sincerely,\n",
            "Joe\n"
          ]
        }
      ],
      "source": [
        "prompt = f\"\"\"\n",
        "Translate the following from slang to a business letter: 'Dude, This is Joe, check out this spec on this standing lamp.' \"\"\"\n",
        "response = get_completion(prompt)\n",
        "print(response)\n"
      ]
    },
    {
      "cell_type": "markdown",
      "metadata": {
        "id": "Lwz_he1NOkgK"
      },
      "source": [
        "#1-6文字格式轉換\n",
        "不同的格式之間進行轉換，比如從 JSON 到 HTML，XML， markdown\t，\t等\t等\t。在提示中，我們將描述輸入和輸出格式。這裡有一個例子。因此，我們一個 JSON 格式，包含一個餐廳員工的名單，包括他們的名字和電子郵件。在提示中，我們要求模型將其從 JSON 轉為 HTML，提示是：將以下的 Python字典從 JSON 轉為具有列頭和標題行的 HTML 表格。然後我們將從模型中獲得響應並將其列印出來。"
      ]
    },
    {
      "cell_type": "code",
      "execution_count": null,
      "metadata": {
        "colab": {
          "base_uri": "https://localhost:8080/"
        },
        "id": "OPDDJlzuOtYy",
        "outputId": "ccf84811-2d6d-4f06-cb94-71cacbf153d6"
      },
      "outputs": [
        {
          "output_type": "stream",
          "name": "stdout",
          "text": [
            "<!DOCTYPE html>\n",
            "<html>\n",
            "<head>\n",
            "<style>\n",
            "table {\n",
            "  font-family: arial, sans-serif;\n",
            "  border-collapse: collapse;\n",
            "  width: 100%;\n",
            "}\n",
            "\n",
            "td, th {\n",
            "  border: 1px solid #dddddd;\n",
            "  text-align: left;\n",
            "  padding: 8px;\n",
            "}\n",
            "\n",
            "tr:nth-child(even) {\n",
            "  background-color: #dddddd;\n",
            "}\n",
            "</style>\n",
            "</head>\n",
            "<body>\n",
            "\n",
            "<h2>Restaurant Employees</h2>\n",
            "\n",
            "<table>\n",
            "  <tr>\n",
            "    <th>Name</th>\n",
            "    <th>Email</th>\n",
            "  </tr>\n",
            "  <tr>\n",
            "    <td>Shyam</td>\n",
            "    <td>shyamjaiswal@gmail.com</td>\n",
            "  </tr>\n",
            "  <tr>\n",
            "    <td>Bob</td>\n",
            "    <td>bob32@gmail.com</td>\n",
            "  </tr>\n",
            "  <tr>\n",
            "    <td>Jai</td>\n",
            "    <td>jai87@gmail.com</td>\n",
            "  </tr>\n",
            "</table>\n",
            "\n",
            "</body>\n",
            "</html>\n"
          ]
        }
      ],
      "source": [
        "data_json = { \"resturant employees\" :[\n",
        "{\"name\":\"Shyam\", \"email\":\"shyamjaiswal@gmail.com\"},\n",
        "{\"name\":\"Bob\", \"email\":\"bob32@gmail.com\"},\n",
        "{\"name\":\"Jai\", \"email\":\"jai87@gmail.com\"}\n",
        "]}\n",
        "\n",
        "prompt = f\"\"\"\n",
        "Translate the following python dictionary from JSON to an HTML \\\n",
        "table with column headers and title: {data_json}\n",
        "\"\"\"\n",
        "response = get_completion(prompt)\n",
        "print(response)"
      ]
    },
    {
      "cell_type": "code",
      "execution_count": null,
      "metadata": {
        "colab": {
          "base_uri": "https://localhost:8080/",
          "height": 203
        },
        "id": "JO2WV3kCPO6O",
        "outputId": "136b3de8-ebf7-4aac-ad9a-5c15cb868c06"
      },
      "outputs": [
        {
          "output_type": "display_data",
          "data": {
            "text/plain": [
              "<IPython.core.display.HTML object>"
            ],
            "text/html": [
              "<!DOCTYPE html>\n",
              "<html>\n",
              "<head>\n",
              "<style>\n",
              "table {\n",
              "  font-family: arial, sans-serif;\n",
              "  border-collapse: collapse;\n",
              "  width: 100%;\n",
              "}\n",
              "\n",
              "td, th {\n",
              "  border: 1px solid #dddddd;\n",
              "  text-align: left;\n",
              "  padding: 8px;\n",
              "}\n",
              "\n",
              "tr:nth-child(even) {\n",
              "  background-color: #dddddd;\n",
              "}\n",
              "</style>\n",
              "</head>\n",
              "<body>\n",
              "\n",
              "<h2>Restaurant Employees</h2>\n",
              "\n",
              "<table>\n",
              "  <tr>\n",
              "    <th>Name</th>\n",
              "    <th>Email</th>\n",
              "  </tr>\n",
              "  <tr>\n",
              "    <td>Shyam</td>\n",
              "    <td>shyamjaiswal@gmail.com</td>\n",
              "  </tr>\n",
              "  <tr>\n",
              "    <td>Bob</td>\n",
              "    <td>bob32@gmail.com</td>\n",
              "  </tr>\n",
              "  <tr>\n",
              "    <td>Jai</td>\n",
              "    <td>jai87@gmail.com</td>\n",
              "  </tr>\n",
              "</table>\n",
              "\n",
              "</body>\n",
              "</html>"
            ]
          },
          "metadata": {}
        }
      ],
      "source": [
        "from IPython.display import display, Markdown, Latex, HTML, JSON\n",
        "display(HTML(response))"
      ]
    },
    {
      "cell_type": "markdown",
      "metadata": {
        "id": "yIyUP45_PTln"
      },
      "source": [
        "##1-6拼寫檢查/語法檢查\n",
        "這裡有一些常見的語法和拼寫問題的例子，這個例子展示語言模型如何幫助解決這些問題。\n",
        "我將貼上一個有一些語法或拼寫錯誤的句子清單，然後我們將迴圈遍歷每個句子，要求模型校對並進行糾正。我們要使用一些分隔符號。最後獲取回應並將其列印出來。\n"
      ]
    },
    {
      "cell_type": "code",
      "execution_count": null,
      "metadata": {
        "colab": {
          "base_uri": "https://localhost:8080/"
        },
        "id": "Lcqc_zTvPbvw",
        "outputId": "1ebbdefe-98e5-4e2b-8c30-49ec85225475"
      },
      "outputs": [
        {
          "output_type": "stream",
          "name": "stdout",
          "text": [
            "The girl with the black and white puppies has a ball.\n",
            "Yolanda has her notebook.\n",
            "\"It's going to be a long day. Does the car need its oil changed?\"\n",
            "There goes my freedom. They're going to bring their suitcases.\n",
            "\"You're going to need your notebook.\"\n",
            "Proofread and corrected: \"That medicine affects my ability to sleep. Have you heard of the butterfly effect?\"\n",
            "This phrase is to check chatGPT for spelling ability.\n"
          ]
        }
      ],
      "source": [
        "text = [\n",
        "\"The girl with the black and white puppies have a ball.\", # The girl has a ball.\n",
        "\"Yolanda has her notebook.\", # ok\n",
        "\"Its going to be a long day. Does the car need it’s oil changed?\", #Homonyms\n",
        "\"Their goes my freedom. There going to bring they’re suitcases.\", # Homonyms\n",
        "\"Your going to need you’re notebook.\", # Homonyms\n",
        "\"That medicine effects my ability to sleep. Have you heard of the butt erfly affect?\", # Homonyms\n",
        "\"This phrase is to cherck chatGPT for speling abilitty\" # spelling\n",
        "]\n",
        "for t in text:\n",
        "  prompt = f\"Proofread and correct: ```{t}```\"\n",
        "  response = get_completion(prompt)\n",
        "  print(response)\n"
      ]
    },
    {
      "cell_type": "markdown",
      "metadata": {
        "id": "7yfxusmBPyLD"
      },
      "source": [
        "可以說，校對和糾正以下文字， 並重寫整個校正後的版本。如果沒有發現任何錯誤，只需輸出“沒有發現錯誤”。"
      ]
    },
    {
      "cell_type": "code",
      "execution_count": null,
      "metadata": {
        "colab": {
          "base_uri": "https://localhost:8080/"
        },
        "id": "uI9CQX6IP02s",
        "outputId": "647b02b7-a055-4c54-f5d7-f1f4f7e2fefe"
      },
      "outputs": [
        {
          "output_type": "stream",
          "name": "stdout",
          "text": [
            "The girl with the black and white puppies has a ball.\n",
            "No errors found.\n",
            "No errors found.\n",
            "There goes my freedom. They're going to bring their suitcases.\n",
            "No errors found.\n",
            "That medicine affects my ability to sleep. Have you heard of the butterfly effect?\n",
            "No errors found.\n"
          ]
        }
      ],
      "source": [
        "text = [\n",
        "\"The girl with the black and white puppies have a ball.\", # The girl has a ball.\n",
        "\"Yolanda has her notebook.\", # ok\n",
        "\"Its going to be a long day. Does the car need it’s oil changed?\", # Homonyms\n",
        "\"Their goes my freedom. There going to bring they’re suitcases.\", # Homonyms\n",
        "\"Your going to need you’re notebook.\", # Homonyms\n",
        "\"That medicine effects my ability to sleep. Have you heard of the butt erfly affect?\", # Homonyms\n",
        "\"This phrase is to cherck chatGPT for speling abilitty\" # spelling\n",
        "]\n",
        "for t in text:\n",
        "  prompt = f\"\"\"Proofread and correct the following text and rewrite the corrected version. If you don't find and errors, just say \"No errors found\". Don't use\n",
        "any punctuation around the text:\n",
        "```{t}```\"\"\"\n",
        "  response = get_completion(prompt)\n",
        "  print(response)\n"
      ]
    },
    {
      "cell_type": "markdown",
      "metadata": {
        "id": "xyY7bTaNQS5O"
      },
      "source": [
        "透過一點點迭代地進行提示開發，你能夠找到一個更加可靠的提示方式，每一次都能更進一步地工作。現在我們再舉一個例子。在你把文字發佈到公共討論區之前，檢查一下總是很有 用的。因此，我們將舉一個檢查評論的例子。下面是一篇關於毛絨熊貓玩具的評論。我們將要求模型校對和糾正這篇評論。\n"
      ]
    },
    {
      "cell_type": "code",
      "execution_count": null,
      "metadata": {
        "colab": {
          "base_uri": "https://localhost:8080/"
        },
        "id": "GDlzgK-TQVub",
        "outputId": "15b290a2-7ad3-4131-d567-b73e28618708"
      },
      "outputs": [
        {
          "output_type": "stream",
          "name": "stdout",
          "text": [
            "Got this for my daughter for her birthday because she keeps taking mine from my room. Yes, adults also like pandas too. She takes it everywhere with her, and it's super soft and cute. However, one of the ears is a bit lower than the other, and I don't think that was designed to be asymmetrical. Additionally, it's a bit small for what I paid for it. I believe there might be other options that are bigger for the same price. On the positive side, it arrived a day earlier than expected, so I got to play with it myself before I gave it to my daughter.\n"
          ]
        }
      ],
      "source": [
        "text = f\"\"\"\n",
        "Got this for my daughter for her birthday cuz she keeps taking \\ mine from my room. Yes, adults also like pandas too. She takes \\ it everywhere with her, and it's super soft and cute. One of the \\ ears is a bit lower than the other, and I don't think that was \\\n",
        "designed to be asymmetrical. It's a bit small for what I paid for it \\ though. I think there might be other options that are bigger for \\ the same price. It arrived a day earlier than expected, so I got \\ to play with it myself before I gave it to my daughter.\n",
        "\"\"\"\n",
        "prompt = f\"proofread and correct this review: ```{text}```\"\n",
        "response = get_completion(prompt)\n",
        "print(response)\n"
      ]
    },
    {
      "cell_type": "code",
      "execution_count": null,
      "metadata": {
        "colab": {
          "base_uri": "https://localhost:8080/",
          "height": 307
        },
        "id": "4PNpzUbkQohH",
        "outputId": "293163a8-92bf-44b0-fa8f-b89bc862a6f4"
      },
      "outputs": [
        {
          "output_type": "stream",
          "name": "stdout",
          "text": [
            "Collecting redlines\n",
            "  Downloading redlines-0.4.2-py3-none-any.whl (8.0 kB)\n",
            "Requirement already satisfied: click<9.0.0,>=8.1.3 in /usr/local/lib/python3.10/dist-packages (from redlines) (8.1.7)\n",
            "Requirement already satisfied: rich<14.0.0,>=13.3.5 in /usr/local/lib/python3.10/dist-packages (from redlines) (13.7.0)\n",
            "Collecting rich-click<2.0.0,>=1.6.1 (from redlines)\n",
            "  Downloading rich_click-1.7.2-py3-none-any.whl (32 kB)\n",
            "Requirement already satisfied: markdown-it-py>=2.2.0 in /usr/local/lib/python3.10/dist-packages (from rich<14.0.0,>=13.3.5->redlines) (3.0.0)\n",
            "Requirement already satisfied: pygments<3.0.0,>=2.13.0 in /usr/local/lib/python3.10/dist-packages (from rich<14.0.0,>=13.3.5->redlines) (2.16.1)\n",
            "Requirement already satisfied: typing-extensions in /usr/local/lib/python3.10/dist-packages (from rich-click<2.0.0,>=1.6.1->redlines) (4.5.0)\n",
            "Requirement already satisfied: mdurl~=0.1 in /usr/local/lib/python3.10/dist-packages (from markdown-it-py>=2.2.0->rich<14.0.0,>=13.3.5->redlines) (0.1.2)\n",
            "Installing collected packages: rich-click, redlines\n",
            "Successfully installed redlines-0.4.2 rich-click-1.7.2\n"
          ]
        },
        {
          "output_type": "display_data",
          "data": {
            "text/plain": [
              "<IPython.core.display.Markdown object>"
            ],
            "text/markdown": "Got this for my daughter for her birthday <span style='color:red;font-weight:700;text-decoration:line-through;'>cuz </span><span style='color:green;font-weight:700;'>because </span>she keeps taking <span style='color:red;font-weight:700;text-decoration:line-through;'>\\ </span>mine from my room. Yes, adults also like pandas too. She takes <span style='color:red;font-weight:700;text-decoration:line-through;'>\\ </span>it everywhere with her, and it's super soft and cute. <span style='color:red;font-weight:700;text-decoration:line-through;'>One </span><span style='color:green;font-weight:700;'>However, one </span>of the <span style='color:red;font-weight:700;text-decoration:line-through;'>\\ </span>ears is a bit lower than the other, and I don't think that was designed to be asymmetrical. <span style='color:red;font-weight:700;text-decoration:line-through;'>It's </span><span style='color:green;font-weight:700;'>Additionally, it's </span>a bit small for what I paid for <span style='color:red;font-weight:700;text-decoration:line-through;'>it \\ though. </span><span style='color:green;font-weight:700;'>it. </span>I <span style='color:red;font-weight:700;text-decoration:line-through;'>think </span><span style='color:green;font-weight:700;'>believe </span>there might be other options that are bigger for <span style='color:red;font-weight:700;text-decoration:line-through;'>\\ </span>the same price. <span style='color:red;font-weight:700;text-decoration:line-through;'>It </span><span style='color:green;font-weight:700;'>On the positive side, it </span>arrived a day earlier than expected, so I got <span style='color:red;font-weight:700;text-decoration:line-through;'>\\ </span>to play with it myself before I gave it to my daughter."
          },
          "metadata": {}
        }
      ],
      "source": [
        "! pip install redlines\n",
        "from redlines import Redlines\n",
        "\n",
        "diff = Redlines(text,response)\n",
        "display(Markdown(diff.output_markdown))\n"
      ]
    },
    {
      "cell_type": "markdown",
      "metadata": {
        "id": "v7VhP__vQ9Eg"
      },
      "source": [
        "我們要求模型校對和更正這篇相同的評論，但也要求對內容進\n",
        "行修改使其更有說服力，並確保它遵循 APA 風格。針對高級讀者。我們還將要求以\n",
        "markdown 格式輸出。在這裡我們使用與原始評論相同的文字\n"
      ]
    },
    {
      "cell_type": "code",
      "execution_count": null,
      "metadata": {
        "colab": {
          "base_uri": "https://localhost:8080/",
          "height": 285
        },
        "id": "oOc3SHuTQ8KK",
        "outputId": "9715151b-69db-49c4-eea5-44776f10b2c0"
      },
      "outputs": [
        {
          "output_type": "display_data",
          "data": {
            "text/plain": [
              "<IPython.core.display.Markdown object>"
            ],
            "text/markdown": "**Review of the Panda Plush Toy: A Perfect Gift for Panda Enthusiasts**\n\nI purchased this adorable panda plush toy as a birthday gift for my daughter, who has a penchant for sneaking into my room and borrowing mine. Contrary to popular belief, adults can also appreciate the charm of pandas. This cuddly companion has quickly become her constant companion, accompanying her wherever she goes. \n\nThe plush toy is undeniably soft and exudes an irresistible cuteness that is hard to resist. However, upon closer inspection, I noticed a slight asymmetry in the placement of the ears. While some may argue that this adds to its uniqueness, I personally believe it was not intended to be asymmetrical. \n\nOne aspect that slightly disappointed me was the size of the toy in relation to its price. Although I was willing to pay a premium for this high-quality item, I expected it to be larger. It is worth noting that there may be alternative options available at the same price point that offer a more substantial size.\n\nDespite this minor setback, I was pleasantly surprised by the prompt delivery of the plush toy. It arrived a day earlier than expected, allowing me to indulge in some playtime with it before presenting it to my daughter. This unexpected bonus further enhanced my overall satisfaction with the purchase.\n\nIn conclusion, the panda plush toy is a delightful gift for both children and adults who appreciate the allure of these magnificent creatures. Its softness and undeniable cuteness make it an irresistible companion. While the slight asymmetry and smaller size may be minor drawbacks, the early delivery and the joy it brings to my daughter's life outweigh these concerns. For those seeking a charming and endearing panda plush toy, this option is certainly worth considering."
          },
          "metadata": {}
        }
      ],
      "source": [
        "prompt = f\"\"\"\n",
        "proofread and correct this review. Make it more compelling. Ensure it follows APA style guide and targets an advanced reader. Output in markdown format.\n",
        "Text: ```{text}``` \"\"\"\n",
        "response = get_completion(prompt)\n",
        "display(Markdown(response))\n"
      ]
    },
    {
      "cell_type": "markdown",
      "metadata": {
        "id": "RY2x0yMLRYq5"
      },
      "source": [
        "#2、擴充任務\n",
        "將一小段簡短的文字，例如一組說明或主題清單，用大型語言模型生成一段更長的文字，例如關於某個主題的電子郵件或一篇文章"
      ]
    },
    {
      "cell_type": "markdown",
      "metadata": {
        "id": "Cez0CtuFRnYy"
      },
      "source": [
        "##2-1自動回覆郵件\n",
        "使用語言模型，根據客戶的評論和評論的情緒，給客戶發送一封訂製的的電子郵件"
      ]
    },
    {
      "cell_type": "code",
      "execution_count": null,
      "metadata": {
        "colab": {
          "base_uri": "https://localhost:8080/"
        },
        "id": "twyUVe1ISEOG",
        "outputId": "b024d2ee-3e38-405c-81e9-445e61f7b102"
      },
      "outputs": [
        {
          "output_type": "stream",
          "name": "stdout",
          "text": [
            "Dear Valued Customer,\n",
            "\n",
            "Thank you for taking the time to share your review with us. We appreciate your feedback and apologize for any inconvenience you may have experienced.\n",
            "\n",
            "We are sorry to hear about the price increase you noticed in December. Our prices are subject to change based on various factors, including market conditions. However, we understand your concern and apologize for any confusion caused.\n",
            "\n",
            "Regarding the base of the system, we appreciate your feedback about the locking mechanism. We continuously strive to improve our products, and your comments will be taken into consideration for future enhancements.\n",
            "\n",
            "We understand that you have been using the blender for various purposes, and we appreciate your tips for making smoothies. Your suggestions will be helpful for other customers as well.\n",
            "\n",
            "We apologize for the issue you encountered with the motor after a year of use. Our customer service team is always available to assist you, even if the warranty has expired. Please feel free to reach out to them for any further assistance or guidance.\n",
            "\n",
            "We value your loyalty and appreciate your trust in our brand. We will continue to work hard to maintain the quality of our products and provide excellent customer service.\n",
            "\n",
            "Thank you once again for your review. If you have any further questions or concerns, please do not hesitate to contact us.\n",
            "\n",
            "Best regards,\n",
            "\n",
            "AI customer agent\n"
          ]
        }
      ],
      "source": [
        "# given the sentiment from the lesson on \"inferring\",\n",
        "# and the original customer message, customize the email\n",
        "sentiment = \"negative\"\n",
        "\n",
        "# review for a blender\n",
        "review = f\"\"\"\n",
        "So, they still had the 17 piece system on seasonal \\ sale for around $49 in the month of November, about \\ half off, but for some reason (call it price gouging) \\ around the second week of December the prices all went \\ up to about anywhere from between $70-$89 for the same \\ system. And the 11 piece system went up around $10 or \\ so in price also from the earlier sale price of $29. \\\n",
        "So it looks okay, but if you look at the base, the part \\ where the blade locks into place doesn’t look as good \\ as in previous editions from a few years ago, but I \\ plan to be very gentle with it (example, I crush \\\n",
        "very hard items like beans, ice, rice, etc. in the \\ blender first then pulverize them in the serving size \\ I want in the blender then switch to the whipping \\\n",
        "blade for a finer flour, and use the cross cutting blade \\ first when making smoothies, then use the flat blade \\\n",
        "if I need them finer/less pulpy). Special tip when making \\ smoothies, finely cut and freeze the fruits and \\ vegetables (if using spinach-lightly stew soften the \\ spinach then freeze until ready for use-and if making \\ sorbet, use a small to medium sized food processor) \\\n",
        "that you plan to use that way you can avoid adding so \\ much ice if at all-when making your smoothie. \\\n",
        "After about a year, the motor was making a funny noise. \\ I called customer service but the warranty expired \\ already, so I had to buy another one. FYI: The overall \\ quality has gone done in these types of products, so \\ they are kind of counting on brand recognition and \\\n",
        "consumer loyalty to maintain sales. Got it in about \\ two days.\n",
        "\"\"\"\n",
        "prompt = f\"\"\"\n",
        "You are a customer service AI assistant.\n",
        "Your task is to send an email reply to a valued customer. Given the customer email delimited by ```, \\\n",
        "Generate a reply to thank the customer for their review. If the sentiment is positive or neutral, thank them for \\ their review.\n",
        "If the sentiment is negative, apologize and suggest that \\ they can reach out to customer service.\n",
        "Make sure to use specific details from the review. Write in a concise and professional tone.\n",
        "Sign the email as `AI customer agent`. Customer review: ```{review}```\n",
        "Review sentiment: {sentiment} \"\"\"\n",
        "\n",
        "response = get_completion(prompt)\n",
        "print(response)\n",
        "\n"
      ]
    },
    {
      "cell_type": "markdown",
      "metadata": {
        "id": "EprtKvwVSVCu"
      },
      "source": [
        "## 2-2 Temperature參數\n",
        "允許我們能改變模型響應的多樣性。你可以把溫度看作是模型的探索或隨機性的程度\n",
        "我最喜歡的食物是……”，模型預測最有可能的下一個單 詞是披薩，其次最有可能的單字是壽司和墨西哥卷餅。因此，在 temperature=0 時，模型總是會選擇最有可能的下一個單字，在這種情況下是披薩。而在更高的溫度參  數下，它也可能會選擇一個不是最大機率的單字。在更高溫度時，甚至可能選擇玉  米卷，雖然只有 5% 的機率被選中。\n",
        "![image.png](data:image/png;base64,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)"
      ]
    },
    {
      "cell_type": "code",
      "execution_count": null,
      "metadata": {
        "colab": {
          "base_uri": "https://localhost:8080/"
        },
        "id": "p_9W9PFWTQcN",
        "outputId": "ff247120-9990-4d2d-fd5b-ce7b7f591aae"
      },
      "outputs": [
        {
          "output_type": "stream",
          "name": "stdout",
          "text": [
            "Dear Valued Customer,\n",
            "\n",
            "Thank you for taking the time to share your review with us. We appreciate your feedback and apologize for any inconvenience you may have experienced with our pricing and product quality.\n",
            "\n",
            "We are sorry to hear that you noticed a significant increase in prices for our 17 piece system during the holiday season. We understand how frustrating this can be, and we apologize for any confusion caused. We constantly evaluate our pricing to ensure that it aligns with market trends and production costs. However, we acknowledge that the sudden price change may have seemed unfair.\n",
            "\n",
            "In addition, we apologize for the issue you encountered with the base of the product. We strive to provide high-quality products, and we understand your disappointment with the blade locking mechanism. Your feedback regarding the previous editions will be shared with our product development team for further improvement.\n",
            "\n",
            "If you experience any further concerns or require assistance, we encourage you to reach out to our customer service team. They are available to address any questions or issues you may have.\n",
            "\n",
            "Thank you for your loyalty and support. We value your feedback and will take it into consideration as we continue to improve our products and services.\n",
            "\n",
            "Best regards,\n",
            "\n",
            "AI customer agent\n",
            "Dear Valued Customer,\n",
            "\n",
            "Thank you for taking the time to provide us with your feedback. We appreciate your review and apologize for any inconvenience you may have experienced with our pricing.\n",
            "\n",
            "We understand your concerns regarding the increase in prices for the 17 piece system during the second week of December. We assure you that this was not intentional price gouging, but rather a result of various factors affecting our production costs.\n",
            "\n",
            "We appreciate your feedback regarding the base of the system and will take it into consideration for future improvements. We recommend reaching out to our customer service team for any further assistance or inquiries you may have.\n",
            "\n",
            "We value your loyalty as a customer and apologize for any frustration caused by the expiration of the warranty. Please don't hesitate to contact our customer service department if you encounter any issues with your new purchase.\n",
            "\n",
            "Thank you again for your review and for choosing our products. We hope to provide you with an improved experience in the future.\n",
            "\n",
            "Best regards,\n",
            "\n",
            "AI customer agent\n"
          ]
        }
      ],
      "source": [
        "prompt = f\"\"\"\n",
        "You are a customer service AI assistant.\n",
        "Your task is to send an email reply to a valued customer. Given the customer email delimited by ```, \\\n",
        "Generate a reply to thank the customer for their review. If the sentiment is positive or neutral, thank them for \\ their review.\n",
        "If the sentiment is negative, apologize and suggest that \\ they can reach out to customer service.\n",
        "Make sure to use specific details from the review. Write in a concise and professional tone.\n",
        "Sign the email as `AI customer agent`. Customer review: ```{review}```\n",
        "Review sentiment: {sentiment} \"\"\"\n",
        "response1 = get_completion(prompt, temperature=0.7)\n",
        "response2 = get_completion(prompt, temperature=0.7)\n",
        "print(response1)\n",
        "print(response2)\n"
      ]
    },
    {
      "cell_type": "markdown",
      "metadata": {
        "id": "XkiCsfWil0wd"
      },
      "source": [
        "#3、聊天機器人(Chatbot)\n",
        "使用大型語言模型來建構你的自訂聊天機器人，可以扮演一個AI 客服代理或餐廳的AI 訂單員的角色，使用OpenAI的Chat Completions格式"
      ]
    },
    {
      "cell_type": "markdown",
      "metadata": {
        "id": "aoHV1yGso7ki"
      },
      "source": [
        "## 3-1聊天格式\n",
        "在這個函數內部，我們實際是將這個提示放入看起來像某種使用者訊息的內容中。這是因為 ChatGPT 模型是一個聊天模型，這表示它被訓練成接受一系列訊息作為輸入，然後返回模型生成的訊息作為輸出。所以使用者訊息是一種輸入，然後助理（模型）的訊息是輸出。"
      ]
    },
    {
      "cell_type": "code",
      "execution_count": null,
      "metadata": {
        "id": "nV-5cBGxoDT0"
      },
      "outputs": [],
      "source": [
        "def get_completion(prompt, temperature=0):\n",
        "  messages = [{\"role\": \"user\", \"content\": prompt}]\n",
        "  response = client.chat.completions.create(\n",
        "    model=\"gpt-3.5-turbo\",\n",
        "    messages=messages,\n",
        "    temperature=temperature\n",
        "  )\n",
        "  return response.choices[0].message.content\n",
        "\n",
        "def get_completion_from_messages(messages, model=\"gpt-3.5-turbo\", temperature=0):\n",
        "  response = client.chat.completions.create(\n",
        "    model=model,\n",
        "    messages=messages,\n",
        "    temperature=temperature\n",
        "  )\n",
        "  return response.choices[0].message.content\n"
      ]
    },
    {
      "cell_type": "code",
      "execution_count": null,
      "metadata": {
        "id": "Pso_8cpypWqW"
      },
      "outputs": [],
      "source": [
        "ss"
      ]
    },
    {
      "cell_type": "markdown",
      "metadata": {
        "id": "0rxrzNyfpKs9"
      },
      "source": [
        "如果你曾經使用過 ChatGPT 的 Web 介面，那麼你輸入的內容就是user訊息，然後ChatGPT 輸出的內容就是assistant訊息。\\n\n",
        "\n",
        "system訊息有助在某種程度上設置assistant的行為和角色，它充當了對話的高級指令。因此，你可以將其視為在assistant耳邊竊竊私語，並引導它的回應，而user並不知道system的訊息。所以，作為user，如果你曾經使用過 ChatGPT，你可能不知道 ChatGPT 的system訊息中有什麼\n",
        "\n",
        "system訊息的好處是，它為開發人員提供了一種建構對話的方法，而無需將請求本身作為對話的一部分。因此，你可以悄悄地引導asistant，指導模型的回覆，而不讓user意識到。\n",
        "現在讓我們試著在對話中使用這些訊息。我們將使用新的輔助函數，從訊息中獲取完成情況。我們將使用更高的溫度值。\n"
      ]
    },
    {
      "cell_type": "code",
      "execution_count": null,
      "metadata": {
        "id": "hcEcn6CqpnhJ"
      },
      "outputs": [],
      "source": [
        "messages = [\n",
        "  {'role':'system', 'content':'You are an assistant that speaks like Shake speare.'},\n",
        "  {'role':'user', 'content':'tell me a joke'},\n",
        "  {'role':'assistant', 'content':'Why did the chicken cross the road'},\n",
        "  {'role':'user', 'content':'I don\\'t know'}\n",
        "]\n"
      ]
    },
    {
      "cell_type": "code",
      "execution_count": null,
      "metadata": {
        "colab": {
          "base_uri": "https://localhost:8080/"
        },
        "id": "g_vOi5RUqDHg",
        "outputId": "f6e17b48-6df0-4774-ab95-0608b1ed3485"
      },
      "outputs": [
        {
          "output_type": "stream",
          "name": "stdout",
          "text": [
            "Why, to get to the other side, of course! Though I bet there were some jesters along the way, making light of the fowl's journey.\n"
          ]
        }
      ],
      "source": [
        "response = get_completion_from_messages(messages, temperature=1)\n",
        "print(response)"
      ]
    },
    {
      "cell_type": "markdown",
      "metadata": {
        "id": "GNF5AmcAriS_"
      },
      "source": [
        "##3-2上下文訊息"
      ]
    },
    {
      "cell_type": "code",
      "execution_count": null,
      "metadata": {
        "colab": {
          "base_uri": "https://localhost:8080/"
        },
        "id": "UwmFyurtrseQ",
        "outputId": "a75b42d2-4ab5-4e5a-da89-64f983cb802c"
      },
      "outputs": [
        {
          "output_type": "stream",
          "name": "stdout",
          "text": [
            "Hi Josh, nice to meet you! How can I help you today?\n"
          ]
        }
      ],
      "source": [
        "messages = [\n",
        "  {'role':'system', 'content':'You are friendly chatbot.'},\n",
        "  {'role':'user', 'content':'Hi, my name is Josh'}\n",
        "]\n",
        "response = get_completion_from_messages(messages, temperature=1)\n",
        "print(response)\n"
      ]
    },
    {
      "cell_type": "code",
      "execution_count": null,
      "metadata": {
        "colab": {
          "base_uri": "https://localhost:8080/"
        },
        "id": "OgntR1X7r_EQ",
        "outputId": "90dfccc2-e60e-48e7-ee87-e027db1248b0"
      },
      "outputs": [
        {
          "output_type": "stream",
          "name": "stdout",
          "text": [
            "I'm sorry, but as a chatbot, I do not have access to personal information or the ability to remember names.\n"
          ]
        }
      ],
      "source": [
        "messages = [\n",
        "  {'role':'system', 'content':'You are friendly chatbot.'},\n",
        "  {'role':'user', 'content':'Yes, can you remind me, What is my name?'}\n",
        "]\n",
        "response = get_completion_from_messages(messages, temperature=1)\n",
        "print(response)\n"
      ]
    },
    {
      "cell_type": "markdown",
      "metadata": {
        "id": "goL6ao6O7dU9"
      },
      "source": [
        "如果你想讓模型從前期的對話中引用內容，或記住前期的對話內容，你就必須在模型的輸入中提供前期的交流內容。我們將把這稱為上下文。"
      ]
    },
    {
      "cell_type": "code",
      "execution_count": null,
      "metadata": {
        "colab": {
          "base_uri": "https://localhost:8080/"
        },
        "id": "bATJ9nTb7gnF",
        "outputId": "460c63ba-4ffd-42a2-9096-212afe867b80"
      },
      "outputs": [
        {
          "output_type": "stream",
          "name": "stdout",
          "text": [
            "Apologies for the mistake earlier. Your name is Josh, not Isa. Thank you for correcting me. How can I assist you, Josh?\n"
          ]
        }
      ],
      "source": [
        "messages = [\n",
        "{'role':'system', 'content':'You are friendly chatbot.'},\n",
        "{'role':'user', 'content':'Hi, my name is Josh'},\n",
        "{'role':'assistant', 'content': \"Hi Isa! It's nice to meet you. \\ Is there anything I can help you with today?\"},\n",
        "{'role':'user', 'content':'Yes, you can remind me, What is my name?'} ]\n",
        "response = get_completion_from_messages(messages, temperature=1)\n",
        "print(response)\n"
      ]
    },
    {
      "cell_type": "markdown",
      "metadata": {
        "id": "avdB6ISh8CCo"
      },
      "source": [
        "##3-3點餐機器人"
      ]
    },
    {
      "cell_type": "code",
      "execution_count": null,
      "metadata": {
        "id": "ULBh0_S68G14"
      },
      "outputs": [],
      "source": [
        "def collect_messages(_):\n",
        "  prompt = inp.value_input\n",
        "  inp.value = ''\n",
        "  context.append({'role':'user', 'content':f\"{prompt}\"})\n",
        "  response = get_completion_from_messages(context)\n",
        "  context.append({'role':'assistant', 'content':f\"{response}\"})\n",
        "  panels.append(\n",
        "  pn.Row('User:', pn.pane.Markdown(prompt, width=600)))\n",
        "  panels.append(\n",
        "  pn.Row('Assistant:', pn.pane.Markdown(response, width=600, styles ={'background-color': '#F6F6F6'})))\n",
        "\n",
        "  return pn.Column(*panels)\n",
        "\n"
      ]
    },
    {
      "cell_type": "code",
      "execution_count": null,
      "metadata": {
        "colab": {
          "base_uri": "https://localhost:8080/",
          "height": 399
        },
        "id": "BHVsQmSZ8e3P",
        "outputId": "eb6ffa33-2943-4541-9db8-c2cb86e332cc"
      },
      "outputs": [
        {
          "output_type": "display_data",
          "data": {
            "application/javascript": [
              "(function(root) {\n",
              "  function now() {\n",
              "    return new Date();\n",
              "  }\n",
              "\n",
              "  var force = true;\n",
              "  var py_version = '3.3.1'.replace('rc', '-rc.').replace('.dev', '-dev.');\n",
              "  var reloading = false;\n",
              "  var Bokeh = root.Bokeh;\n",
              "\n",
              "  if (typeof (root._bokeh_timeout) === \"undefined\" || force) {\n",
              "    root._bokeh_timeout = Date.now() + 5000;\n",
              "    root._bokeh_failed_load = false;\n",
              "  }\n",
              "\n",
              "  function run_callbacks() {\n",
              "    try {\n",
              "      root._bokeh_onload_callbacks.forEach(function(callback) {\n",
              "        if (callback != null)\n",
              "          callback();\n",
              "      });\n",
              "    } finally {\n",
              "      delete root._bokeh_onload_callbacks;\n",
              "    }\n",
              "    console.debug(\"Bokeh: all callbacks have finished\");\n",
              "  }\n",
              "\n",
              "  function load_libs(css_urls, js_urls, js_modules, js_exports, callback) {\n",
              "    if (css_urls == null) css_urls = [];\n",
              "    if (js_urls == null) js_urls = [];\n",
              "    if (js_modules == null) js_modules = [];\n",
              "    if (js_exports == null) js_exports = {};\n",
              "\n",
              "    root._bokeh_onload_callbacks.push(callback);\n",
              "\n",
              "    if (root._bokeh_is_loading > 0) {\n",
              "      console.debug(\"Bokeh: BokehJS is being loaded, scheduling callback at\", now());\n",
              "      return null;\n",
              "    }\n",
              "    if (js_urls.length === 0 && js_modules.length === 0 && Object.keys(js_exports).length === 0) {\n",
              "      run_callbacks();\n",
              "      return null;\n",
              "    }\n",
              "    if (!reloading) {\n",
              "      console.debug(\"Bokeh: BokehJS not loaded, scheduling load and callback at\", now());\n",
              "    }\n",
              "\n",
              "    function on_load() {\n",
              "      root._bokeh_is_loading--;\n",
              "      if (root._bokeh_is_loading === 0) {\n",
              "        console.debug(\"Bokeh: all BokehJS libraries/stylesheets loaded\");\n",
              "        run_callbacks()\n",
              "      }\n",
              "    }\n",
              "    window._bokeh_on_load = on_load\n",
              "\n",
              "    function on_error() {\n",
              "      console.error(\"failed to load \" + url);\n",
              "    }\n",
              "\n",
              "    var skip = [];\n",
              "    if (window.requirejs) {\n",
              "      window.requirejs.config({'packages': {}, 'paths': {'jspanel': 'https://cdn.jsdelivr.net/npm/jspanel4@4.12.0/dist/jspanel', 'jspanel-modal': 'https://cdn.jsdelivr.net/npm/jspanel4@4.12.0/dist/extensions/modal/jspanel.modal', 'jspanel-tooltip': 'https://cdn.jsdelivr.net/npm/jspanel4@4.12.0/dist/extensions/tooltip/jspanel.tooltip', 'jspanel-hint': 'https://cdn.jsdelivr.net/npm/jspanel4@4.12.0/dist/extensions/hint/jspanel.hint', 'jspanel-layout': 'https://cdn.jsdelivr.net/npm/jspanel4@4.12.0/dist/extensions/layout/jspanel.layout', 'jspanel-contextmenu': 'https://cdn.jsdelivr.net/npm/jspanel4@4.12.0/dist/extensions/contextmenu/jspanel.contextmenu', 'jspanel-dock': 'https://cdn.jsdelivr.net/npm/jspanel4@4.12.0/dist/extensions/dock/jspanel.dock', 'gridstack': 'https://cdn.jsdelivr.net/npm/gridstack@7.2.3/dist/gridstack-all', 'notyf': 'https://cdn.jsdelivr.net/npm/notyf@3/notyf.min'}, 'shim': {'jspanel': {'exports': 'jsPanel'}, 'gridstack': {'exports': 'GridStack'}}});\n",
              "      require([\"jspanel\"], function(jsPanel) {\n",
              "\twindow.jsPanel = jsPanel\n",
              "\ton_load()\n",
              "      })\n",
              "      require([\"jspanel-modal\"], function() {\n",
              "\ton_load()\n",
              "      })\n",
              "      require([\"jspanel-tooltip\"], function() {\n",
              "\ton_load()\n",
              "      })\n",
              "      require([\"jspanel-hint\"], function() {\n",
              "\ton_load()\n",
              "      })\n",
              "      require([\"jspanel-layout\"], function() {\n",
              "\ton_load()\n",
              "      })\n",
              "      require([\"jspanel-contextmenu\"], function() {\n",
              "\ton_load()\n",
              "      })\n",
              "      require([\"jspanel-dock\"], function() {\n",
              "\ton_load()\n",
              "      })\n",
              "      require([\"gridstack\"], function(GridStack) {\n",
              "\twindow.GridStack = GridStack\n",
              "\ton_load()\n",
              "      })\n",
              "      require([\"notyf\"], function() {\n",
              "\ton_load()\n",
              "      })\n",
              "      root._bokeh_is_loading = css_urls.length + 9;\n",
              "    } else {\n",
              "      root._bokeh_is_loading = css_urls.length + js_urls.length + js_modules.length + Object.keys(js_exports).length;\n",
              "    }\n",
              "\n",
              "    var existing_stylesheets = []\n",
              "    var links = document.getElementsByTagName('link')\n",
              "    for (var i = 0; i < links.length; i++) {\n",
              "      var link = links[i]\n",
              "      if (link.href != null) {\n",
              "\texisting_stylesheets.push(link.href)\n",
              "      }\n",
              "    }\n",
              "    for (var i = 0; i < css_urls.length; i++) {\n",
              "      var url = css_urls[i];\n",
              "      if (existing_stylesheets.indexOf(url) !== -1) {\n",
              "\ton_load()\n",
              "\tcontinue;\n",
              "      }\n",
              "      const element = document.createElement(\"link\");\n",
              "      element.onload = on_load;\n",
              "      element.onerror = on_error;\n",
              "      element.rel = \"stylesheet\";\n",
              "      element.type = \"text/css\";\n",
              "      element.href = url;\n",
              "      console.debug(\"Bokeh: injecting link tag for BokehJS stylesheet: \", url);\n",
              "      document.body.appendChild(element);\n",
              "    }    if (((window['jsPanel'] !== undefined) && (!(window['jsPanel'] instanceof HTMLElement))) || window.requirejs) {\n",
              "      var urls = ['https://cdn.holoviz.org/panel/1.3.4/dist/bundled/floatpanel/jspanel4@4.12.0/dist/jspanel.js', 'https://cdn.holoviz.org/panel/1.3.4/dist/bundled/floatpanel/jspanel4@4.12.0/dist/extensions/modal/jspanel.modal.js', 'https://cdn.holoviz.org/panel/1.3.4/dist/bundled/floatpanel/jspanel4@4.12.0/dist/extensions/tooltip/jspanel.tooltip.js', 'https://cdn.holoviz.org/panel/1.3.4/dist/bundled/floatpanel/jspanel4@4.12.0/dist/extensions/hint/jspanel.hint.js', 'https://cdn.holoviz.org/panel/1.3.4/dist/bundled/floatpanel/jspanel4@4.12.0/dist/extensions/layout/jspanel.layout.js', 'https://cdn.holoviz.org/panel/1.3.4/dist/bundled/floatpanel/jspanel4@4.12.0/dist/extensions/contextmenu/jspanel.contextmenu.js', 'https://cdn.holoviz.org/panel/1.3.4/dist/bundled/floatpanel/jspanel4@4.12.0/dist/extensions/dock/jspanel.dock.js'];\n",
              "      for (var i = 0; i < urls.length; i++) {\n",
              "        skip.push(urls[i])\n",
              "      }\n",
              "    }    if (((window['GridStack'] !== undefined) && (!(window['GridStack'] instanceof HTMLElement))) || window.requirejs) {\n",
              "      var urls = ['https://cdn.holoviz.org/panel/1.3.4/dist/bundled/gridstack/gridstack@7.2.3/dist/gridstack-all.js'];\n",
              "      for (var i = 0; i < urls.length; i++) {\n",
              "        skip.push(urls[i])\n",
              "      }\n",
              "    }    if (((window['Notyf'] !== undefined) && (!(window['Notyf'] instanceof HTMLElement))) || window.requirejs) {\n",
              "      var urls = ['https://cdn.holoviz.org/panel/1.3.4/dist/bundled/notificationarea/notyf@3/notyf.min.js'];\n",
              "      for (var i = 0; i < urls.length; i++) {\n",
              "        skip.push(urls[i])\n",
              "      }\n",
              "    }    var existing_scripts = []\n",
              "    var scripts = document.getElementsByTagName('script')\n",
              "    for (var i = 0; i < scripts.length; i++) {\n",
              "      var script = scripts[i]\n",
              "      if (script.src != null) {\n",
              "\texisting_scripts.push(script.src)\n",
              "      }\n",
              "    }\n",
              "    for (var i = 0; i < js_urls.length; i++) {\n",
              "      var url = js_urls[i];\n",
              "      if (skip.indexOf(url) !== -1 || existing_scripts.indexOf(url) !== -1) {\n",
              "\tif (!window.requirejs) {\n",
              "\t  on_load();\n",
              "\t}\n",
              "\tcontinue;\n",
              "      }\n",
              "      var element = document.createElement('script');\n",
              "      element.onload = on_load;\n",
              "      element.onerror = on_error;\n",
              "      element.async = false;\n",
              "      element.src = url;\n",
              "      console.debug(\"Bokeh: injecting script tag for BokehJS library: \", url);\n",
              "      document.head.appendChild(element);\n",
              "    }\n",
              "    for (var i = 0; i < js_modules.length; i++) {\n",
              "      var url = js_modules[i];\n",
              "      if (skip.indexOf(url) !== -1 || existing_scripts.indexOf(url) !== -1) {\n",
              "\tif (!window.requirejs) {\n",
              "\t  on_load();\n",
              "\t}\n",
              "\tcontinue;\n",
              "      }\n",
              "      var element = document.createElement('script');\n",
              "      element.onload = on_load;\n",
              "      element.onerror = on_error;\n",
              "      element.async = false;\n",
              "      element.src = url;\n",
              "      element.type = \"module\";\n",
              "      console.debug(\"Bokeh: injecting script tag for BokehJS library: \", url);\n",
              "      document.head.appendChild(element);\n",
              "    }\n",
              "    for (const name in js_exports) {\n",
              "      var url = js_exports[name];\n",
              "      if (skip.indexOf(url) >= 0 || root[name] != null) {\n",
              "\tif (!window.requirejs) {\n",
              "\t  on_load();\n",
              "\t}\n",
              "\tcontinue;\n",
              "      }\n",
              "      var element = document.createElement('script');\n",
              "      element.onerror = on_error;\n",
              "      element.async = false;\n",
              "      element.type = \"module\";\n",
              "      console.debug(\"Bokeh: injecting script tag for BokehJS library: \", url);\n",
              "      element.textContent = `\n",
              "      import ${name} from \"${url}\"\n",
              "      window.${name} = ${name}\n",
              "      window._bokeh_on_load()\n",
              "      `\n",
              "      document.head.appendChild(element);\n",
              "    }\n",
              "    if (!js_urls.length && !js_modules.length) {\n",
              "      on_load()\n",
              "    }\n",
              "  };\n",
              "\n",
              "  function inject_raw_css(css) {\n",
              "    const element = document.createElement(\"style\");\n",
              "    element.appendChild(document.createTextNode(css));\n",
              "    document.body.appendChild(element);\n",
              "  }\n",
              "\n",
              "  var js_urls = [\"https://cdn.bokeh.org/bokeh/release/bokeh-3.3.1.min.js\", \"https://cdn.bokeh.org/bokeh/release/bokeh-gl-3.3.1.min.js\", \"https://cdn.bokeh.org/bokeh/release/bokeh-widgets-3.3.1.min.js\", \"https://cdn.bokeh.org/bokeh/release/bokeh-tables-3.3.1.min.js\", \"https://cdn.holoviz.org/panel/1.3.4/dist/panel.min.js\"];\n",
              "  var js_modules = [];\n",
              "  var js_exports = {};\n",
              "  var css_urls = [];\n",
              "  var inline_js = [    function(Bokeh) {\n",
              "      Bokeh.set_log_level(\"info\");\n",
              "    },\n",
              "function(Bokeh) {} // ensure no trailing comma for IE\n",
              "  ];\n",
              "\n",
              "  function run_inline_js() {\n",
              "    if ((root.Bokeh !== undefined) || (force === true)) {\n",
              "      for (var i = 0; i < inline_js.length; i++) {\n",
              "\ttry {\n",
              "          inline_js[i].call(root, root.Bokeh);\n",
              "\t} catch(e) {\n",
              "\t  if (!reloading) {\n",
              "\t    throw e;\n",
              "\t  }\n",
              "\t}\n",
              "      }\n",
              "      // Cache old bokeh versions\n",
              "      if (Bokeh != undefined && !reloading) {\n",
              "\tvar NewBokeh = root.Bokeh;\n",
              "\tif (Bokeh.versions === undefined) {\n",
              "\t  Bokeh.versions = new Map();\n",
              "\t}\n",
              "\tif (NewBokeh.version !== Bokeh.version) {\n",
              "\t  Bokeh.versions.set(NewBokeh.version, NewBokeh)\n",
              "\t}\n",
              "\troot.Bokeh = Bokeh;\n",
              "      }} else if (Date.now() < root._bokeh_timeout) {\n",
              "      setTimeout(run_inline_js, 100);\n",
              "    } else if (!root._bokeh_failed_load) {\n",
              "      console.log(\"Bokeh: BokehJS failed to load within specified timeout.\");\n",
              "      root._bokeh_failed_load = true;\n",
              "    }\n",
              "    root._bokeh_is_initializing = false\n",
              "  }\n",
              "\n",
              "  function load_or_wait() {\n",
              "    // Implement a backoff loop that tries to ensure we do not load multiple\n",
              "    // versions of Bokeh and its dependencies at the same time.\n",
              "    // In recent versions we use the root._bokeh_is_initializing flag\n",
              "    // to determine whether there is an ongoing attempt to initialize\n",
              "    // bokeh, however for backward compatibility we also try to ensure\n",
              "    // that we do not start loading a newer (Panel>=1.0 and Bokeh>3) version\n",
              "    // before older versions are fully initialized.\n",
              "    if (root._bokeh_is_initializing && Date.now() > root._bokeh_timeout) {\n",
              "      root._bokeh_is_initializing = false;\n",
              "      root._bokeh_onload_callbacks = undefined;\n",
              "      console.log(\"Bokeh: BokehJS was loaded multiple times but one version failed to initialize.\");\n",
              "      load_or_wait();\n",
              "    } else if (root._bokeh_is_initializing || (typeof root._bokeh_is_initializing === \"undefined\" && root._bokeh_onload_callbacks !== undefined)) {\n",
              "      setTimeout(load_or_wait, 100);\n",
              "    } else {\n",
              "      root._bokeh_is_initializing = true\n",
              "      root._bokeh_onload_callbacks = []\n",
              "      var bokeh_loaded = Bokeh != null && (Bokeh.version === py_version || (Bokeh.versions !== undefined && Bokeh.versions.has(py_version)));\n",
              "      if (!reloading && !bokeh_loaded) {\n",
              "\troot.Bokeh = undefined;\n",
              "      }\n",
              "      load_libs(css_urls, js_urls, js_modules, js_exports, function() {\n",
              "\tconsole.debug(\"Bokeh: BokehJS plotting callback run at\", now());\n",
              "\trun_inline_js();\n",
              "      });\n",
              "    }\n",
              "  }\n",
              "  // Give older versions of the autoload script a head-start to ensure\n",
              "  // they initialize before we start loading newer version.\n",
              "  setTimeout(load_or_wait, 100)\n",
              "}(window));"
            ],
            "application/vnd.holoviews_load.v0+json": "(function(root) {\n  function now() {\n    return new Date();\n  }\n\n  var force = true;\n  var py_version = '3.3.1'.replace('rc', '-rc.').replace('.dev', '-dev.');\n  var reloading = false;\n  var Bokeh = root.Bokeh;\n\n  if (typeof (root._bokeh_timeout) === \"undefined\" || force) {\n    root._bokeh_timeout = Date.now() + 5000;\n    root._bokeh_failed_load = false;\n  }\n\n  function run_callbacks() {\n    try {\n      root._bokeh_onload_callbacks.forEach(function(callback) {\n        if (callback != null)\n          callback();\n      });\n    } finally {\n      delete root._bokeh_onload_callbacks;\n    }\n    console.debug(\"Bokeh: all callbacks have finished\");\n  }\n\n  function load_libs(css_urls, js_urls, js_modules, js_exports, callback) {\n    if (css_urls == null) css_urls = [];\n    if (js_urls == null) js_urls = [];\n    if (js_modules == null) js_modules = [];\n    if (js_exports == null) js_exports = {};\n\n    root._bokeh_onload_callbacks.push(callback);\n\n    if (root._bokeh_is_loading > 0) {\n      console.debug(\"Bokeh: BokehJS is being loaded, scheduling callback at\", now());\n      return null;\n    }\n    if (js_urls.length === 0 && js_modules.length === 0 && Object.keys(js_exports).length === 0) {\n      run_callbacks();\n      return null;\n    }\n    if (!reloading) {\n      console.debug(\"Bokeh: BokehJS not loaded, scheduling load and callback at\", now());\n    }\n\n    function on_load() {\n      root._bokeh_is_loading--;\n      if (root._bokeh_is_loading === 0) {\n        console.debug(\"Bokeh: all BokehJS libraries/stylesheets loaded\");\n        run_callbacks()\n      }\n    }\n    window._bokeh_on_load = on_load\n\n    function on_error() {\n      console.error(\"failed to load \" + url);\n    }\n\n    var skip = [];\n    if (window.requirejs) {\n      window.requirejs.config({'packages': {}, 'paths': {'jspanel': 'https://cdn.jsdelivr.net/npm/jspanel4@4.12.0/dist/jspanel', 'jspanel-modal': 'https://cdn.jsdelivr.net/npm/jspanel4@4.12.0/dist/extensions/modal/jspanel.modal', 'jspanel-tooltip': 'https://cdn.jsdelivr.net/npm/jspanel4@4.12.0/dist/extensions/tooltip/jspanel.tooltip', 'jspanel-hint': 'https://cdn.jsdelivr.net/npm/jspanel4@4.12.0/dist/extensions/hint/jspanel.hint', 'jspanel-layout': 'https://cdn.jsdelivr.net/npm/jspanel4@4.12.0/dist/extensions/layout/jspanel.layout', 'jspanel-contextmenu': 'https://cdn.jsdelivr.net/npm/jspanel4@4.12.0/dist/extensions/contextmenu/jspanel.contextmenu', 'jspanel-dock': 'https://cdn.jsdelivr.net/npm/jspanel4@4.12.0/dist/extensions/dock/jspanel.dock', 'gridstack': 'https://cdn.jsdelivr.net/npm/gridstack@7.2.3/dist/gridstack-all', 'notyf': 'https://cdn.jsdelivr.net/npm/notyf@3/notyf.min'}, 'shim': {'jspanel': {'exports': 'jsPanel'}, 'gridstack': {'exports': 'GridStack'}}});\n      require([\"jspanel\"], function(jsPanel) {\n\twindow.jsPanel = jsPanel\n\ton_load()\n      })\n      require([\"jspanel-modal\"], function() {\n\ton_load()\n      })\n      require([\"jspanel-tooltip\"], function() {\n\ton_load()\n      })\n      require([\"jspanel-hint\"], function() {\n\ton_load()\n      })\n      require([\"jspanel-layout\"], function() {\n\ton_load()\n      })\n      require([\"jspanel-contextmenu\"], function() {\n\ton_load()\n      })\n      require([\"jspanel-dock\"], function() {\n\ton_load()\n      })\n      require([\"gridstack\"], function(GridStack) {\n\twindow.GridStack = GridStack\n\ton_load()\n      })\n      require([\"notyf\"], function() {\n\ton_load()\n      })\n      root._bokeh_is_loading = css_urls.length + 9;\n    } else {\n      root._bokeh_is_loading = css_urls.length + js_urls.length + js_modules.length + Object.keys(js_exports).length;\n    }\n\n    var existing_stylesheets = []\n    var links = document.getElementsByTagName('link')\n    for (var i = 0; i < links.length; i++) {\n      var link = links[i]\n      if (link.href != null) {\n\texisting_stylesheets.push(link.href)\n      }\n    }\n    for (var i = 0; i < css_urls.length; i++) {\n      var url = css_urls[i];\n      if (existing_stylesheets.indexOf(url) !== -1) {\n\ton_load()\n\tcontinue;\n      }\n      const element = document.createElement(\"link\");\n      element.onload = on_load;\n      element.onerror = on_error;\n      element.rel = \"stylesheet\";\n      element.type = \"text/css\";\n      element.href = url;\n      console.debug(\"Bokeh: injecting link tag for BokehJS stylesheet: \", url);\n      document.body.appendChild(element);\n    }    if (((window['jsPanel'] !== undefined) && (!(window['jsPanel'] instanceof HTMLElement))) || window.requirejs) {\n      var urls = ['https://cdn.holoviz.org/panel/1.3.4/dist/bundled/floatpanel/jspanel4@4.12.0/dist/jspanel.js', 'https://cdn.holoviz.org/panel/1.3.4/dist/bundled/floatpanel/jspanel4@4.12.0/dist/extensions/modal/jspanel.modal.js', 'https://cdn.holoviz.org/panel/1.3.4/dist/bundled/floatpanel/jspanel4@4.12.0/dist/extensions/tooltip/jspanel.tooltip.js', 'https://cdn.holoviz.org/panel/1.3.4/dist/bundled/floatpanel/jspanel4@4.12.0/dist/extensions/hint/jspanel.hint.js', 'https://cdn.holoviz.org/panel/1.3.4/dist/bundled/floatpanel/jspanel4@4.12.0/dist/extensions/layout/jspanel.layout.js', 'https://cdn.holoviz.org/panel/1.3.4/dist/bundled/floatpanel/jspanel4@4.12.0/dist/extensions/contextmenu/jspanel.contextmenu.js', 'https://cdn.holoviz.org/panel/1.3.4/dist/bundled/floatpanel/jspanel4@4.12.0/dist/extensions/dock/jspanel.dock.js'];\n      for (var i = 0; i < urls.length; i++) {\n        skip.push(urls[i])\n      }\n    }    if (((window['GridStack'] !== undefined) && (!(window['GridStack'] instanceof HTMLElement))) || window.requirejs) {\n      var urls = ['https://cdn.holoviz.org/panel/1.3.4/dist/bundled/gridstack/gridstack@7.2.3/dist/gridstack-all.js'];\n      for (var i = 0; i < urls.length; i++) {\n        skip.push(urls[i])\n      }\n    }    if (((window['Notyf'] !== undefined) && (!(window['Notyf'] instanceof HTMLElement))) || window.requirejs) {\n      var urls = ['https://cdn.holoviz.org/panel/1.3.4/dist/bundled/notificationarea/notyf@3/notyf.min.js'];\n      for (var i = 0; i < urls.length; i++) {\n        skip.push(urls[i])\n      }\n    }    var existing_scripts = []\n    var scripts = document.getElementsByTagName('script')\n    for (var i = 0; i < scripts.length; i++) {\n      var script = scripts[i]\n      if (script.src != null) {\n\texisting_scripts.push(script.src)\n      }\n    }\n    for (var i = 0; i < js_urls.length; i++) {\n      var url = js_urls[i];\n      if (skip.indexOf(url) !== -1 || existing_scripts.indexOf(url) !== -1) {\n\tif (!window.requirejs) {\n\t  on_load();\n\t}\n\tcontinue;\n      }\n      var element = document.createElement('script');\n      element.onload = on_load;\n      element.onerror = on_error;\n      element.async = false;\n      element.src = url;\n      console.debug(\"Bokeh: injecting script tag for BokehJS library: \", url);\n      document.head.appendChild(element);\n    }\n    for (var i = 0; i < js_modules.length; i++) {\n      var url = js_modules[i];\n      if (skip.indexOf(url) !== -1 || existing_scripts.indexOf(url) !== -1) {\n\tif (!window.requirejs) {\n\t  on_load();\n\t}\n\tcontinue;\n      }\n      var element = document.createElement('script');\n      element.onload = on_load;\n      element.onerror = on_error;\n      element.async = false;\n      element.src = url;\n      element.type = \"module\";\n      console.debug(\"Bokeh: injecting script tag for BokehJS library: \", url);\n      document.head.appendChild(element);\n    }\n    for (const name in js_exports) {\n      var url = js_exports[name];\n      if (skip.indexOf(url) >= 0 || root[name] != null) {\n\tif (!window.requirejs) {\n\t  on_load();\n\t}\n\tcontinue;\n      }\n      var element = document.createElement('script');\n      element.onerror = on_error;\n      element.async = false;\n      element.type = \"module\";\n      console.debug(\"Bokeh: injecting script tag for BokehJS library: \", url);\n      element.textContent = `\n      import ${name} from \"${url}\"\n      window.${name} = ${name}\n      window._bokeh_on_load()\n      `\n      document.head.appendChild(element);\n    }\n    if (!js_urls.length && !js_modules.length) {\n      on_load()\n    }\n  };\n\n  function inject_raw_css(css) {\n    const element = document.createElement(\"style\");\n    element.appendChild(document.createTextNode(css));\n    document.body.appendChild(element);\n  }\n\n  var js_urls = [\"https://cdn.bokeh.org/bokeh/release/bokeh-3.3.1.min.js\", \"https://cdn.bokeh.org/bokeh/release/bokeh-gl-3.3.1.min.js\", \"https://cdn.bokeh.org/bokeh/release/bokeh-widgets-3.3.1.min.js\", \"https://cdn.bokeh.org/bokeh/release/bokeh-tables-3.3.1.min.js\", \"https://cdn.holoviz.org/panel/1.3.4/dist/panel.min.js\"];\n  var js_modules = [];\n  var js_exports = {};\n  var css_urls = [];\n  var inline_js = [    function(Bokeh) {\n      Bokeh.set_log_level(\"info\");\n    },\nfunction(Bokeh) {} // ensure no trailing comma for IE\n  ];\n\n  function run_inline_js() {\n    if ((root.Bokeh !== undefined) || (force === true)) {\n      for (var i = 0; i < inline_js.length; i++) {\n\ttry {\n          inline_js[i].call(root, root.Bokeh);\n\t} catch(e) {\n\t  if (!reloading) {\n\t    throw e;\n\t  }\n\t}\n      }\n      // Cache old bokeh versions\n      if (Bokeh != undefined && !reloading) {\n\tvar NewBokeh = root.Bokeh;\n\tif (Bokeh.versions === undefined) {\n\t  Bokeh.versions = new Map();\n\t}\n\tif (NewBokeh.version !== Bokeh.version) {\n\t  Bokeh.versions.set(NewBokeh.version, NewBokeh)\n\t}\n\troot.Bokeh = Bokeh;\n      }} else if (Date.now() < root._bokeh_timeout) {\n      setTimeout(run_inline_js, 100);\n    } else if (!root._bokeh_failed_load) {\n      console.log(\"Bokeh: BokehJS failed to load within specified timeout.\");\n      root._bokeh_failed_load = true;\n    }\n    root._bokeh_is_initializing = false\n  }\n\n  function load_or_wait() {\n    // Implement a backoff loop that tries to ensure we do not load multiple\n    // versions of Bokeh and its dependencies at the same time.\n    // In recent versions we use the root._bokeh_is_initializing flag\n    // to determine whether there is an ongoing attempt to initialize\n    // bokeh, however for backward compatibility we also try to ensure\n    // that we do not start loading a newer (Panel>=1.0 and Bokeh>3) version\n    // before older versions are fully initialized.\n    if (root._bokeh_is_initializing && Date.now() > root._bokeh_timeout) {\n      root._bokeh_is_initializing = false;\n      root._bokeh_onload_callbacks = undefined;\n      console.log(\"Bokeh: BokehJS was loaded multiple times but one version failed to initialize.\");\n      load_or_wait();\n    } else if (root._bokeh_is_initializing || (typeof root._bokeh_is_initializing === \"undefined\" && root._bokeh_onload_callbacks !== undefined)) {\n      setTimeout(load_or_wait, 100);\n    } else {\n      root._bokeh_is_initializing = true\n      root._bokeh_onload_callbacks = []\n      var bokeh_loaded = Bokeh != null && (Bokeh.version === py_version || (Bokeh.versions !== undefined && Bokeh.versions.has(py_version)));\n      if (!reloading && !bokeh_loaded) {\n\troot.Bokeh = undefined;\n      }\n      load_libs(css_urls, js_urls, js_modules, js_exports, function() {\n\tconsole.debug(\"Bokeh: BokehJS plotting callback run at\", now());\n\trun_inline_js();\n      });\n    }\n  }\n  // Give older versions of the autoload script a head-start to ensure\n  // they initialize before we start loading newer version.\n  setTimeout(load_or_wait, 100)\n}(window));"
          },
          "metadata": {}
        },
        {
          "output_type": "display_data",
          "data": {
            "application/vnd.holoviews_load.v0+json": "\nif ((window.PyViz === undefined) || (window.PyViz instanceof HTMLElement)) {\n  window.PyViz = {comms: {}, comm_status:{}, kernels:{}, receivers: {}, plot_index: []}\n}\n\n\n    function JupyterCommManager() {\n    }\n\n    JupyterCommManager.prototype.register_target = function(plot_id, comm_id, msg_handler) {\n      if (window.comm_manager || ((window.Jupyter !== undefined) && (Jupyter.notebook.kernel != null))) {\n        var comm_manager = window.comm_manager || Jupyter.notebook.kernel.comm_manager;\n        comm_manager.register_target(comm_id, function(comm) {\n          comm.on_msg(msg_handler);\n        });\n      } else if ((plot_id in window.PyViz.kernels) && (window.PyViz.kernels[plot_id])) {\n        window.PyViz.kernels[plot_id].registerCommTarget(comm_id, function(comm) {\n          comm.onMsg = msg_handler;\n        });\n      } else if (typeof google != 'undefined' && google.colab.kernel != null) {\n        google.colab.kernel.comms.registerTarget(comm_id, (comm) => {\n          var messages = comm.messages[Symbol.asyncIterator]();\n          function processIteratorResult(result) {\n            var message = result.value;\n            console.log(message)\n            var content = {data: message.data, comm_id};\n            var buffers = []\n            for (var buffer of message.buffers || []) {\n              buffers.push(new DataView(buffer))\n            }\n            var metadata = message.metadata || {};\n            var msg = {content, buffers, metadata}\n            msg_handler(msg);\n            return messages.next().then(processIteratorResult);\n          }\n          return messages.next().then(processIteratorResult);\n        })\n      }\n    }\n\n    JupyterCommManager.prototype.get_client_comm = function(plot_id, comm_id, msg_handler) {\n      if (comm_id in window.PyViz.comms) {\n        return window.PyViz.comms[comm_id];\n      } else if (window.comm_manager || ((window.Jupyter !== undefined) && (Jupyter.notebook.kernel != null))) {\n        var comm_manager = window.comm_manager || Jupyter.notebook.kernel.comm_manager;\n        var comm = comm_manager.new_comm(comm_id, {}, {}, {}, comm_id);\n        if (msg_handler) {\n          comm.on_msg(msg_handler);\n        }\n      } else if ((plot_id in window.PyViz.kernels) && (window.PyViz.kernels[plot_id])) {\n        var comm = window.PyViz.kernels[plot_id].connectToComm(comm_id);\n        comm.open();\n        if (msg_handler) {\n          comm.onMsg = msg_handler;\n        }\n      } else if (typeof google != 'undefined' && google.colab.kernel != null) {\n        var comm_promise = google.colab.kernel.comms.open(comm_id)\n        comm_promise.then((comm) => {\n          window.PyViz.comms[comm_id] = comm;\n          if (msg_handler) {\n            var messages = comm.messages[Symbol.asyncIterator]();\n            function processIteratorResult(result) {\n              var message = result.value;\n              var content = {data: message.data};\n              var metadata = message.metadata || {comm_id};\n              var msg = {content, metadata}\n              msg_handler(msg);\n              return messages.next().then(processIteratorResult);\n            }\n            return messages.next().then(processIteratorResult);\n          }\n        }) \n        var sendClosure = (data, metadata, buffers, disposeOnDone) => {\n          return comm_promise.then((comm) => {\n            comm.send(data, metadata, buffers, disposeOnDone);\n          });\n        };\n        var comm = {\n          send: sendClosure\n        };\n      }\n      window.PyViz.comms[comm_id] = comm;\n      return comm;\n    }\n    window.PyViz.comm_manager = new JupyterCommManager();\n    \n\n\nvar JS_MIME_TYPE = 'application/javascript';\nvar HTML_MIME_TYPE = 'text/html';\nvar EXEC_MIME_TYPE = 'application/vnd.holoviews_exec.v0+json';\nvar CLASS_NAME = 'output';\n\n/**\n * Render data to the DOM node\n */\nfunction render(props, node) {\n  var div = document.createElement(\"div\");\n  var script = document.createElement(\"script\");\n  node.appendChild(div);\n  node.appendChild(script);\n}\n\n/**\n * Handle when a new output is added\n */\nfunction handle_add_output(event, handle) {\n  var output_area = handle.output_area;\n  var output = handle.output;\n  if ((output.data == undefined) || (!output.data.hasOwnProperty(EXEC_MIME_TYPE))) {\n    return\n  }\n  var id = output.metadata[EXEC_MIME_TYPE][\"id\"];\n  var toinsert = output_area.element.find(\".\" + CLASS_NAME.split(' ')[0]);\n  if (id !== undefined) {\n    var nchildren = toinsert.length;\n    var html_node = toinsert[nchildren-1].children[0];\n    html_node.innerHTML = output.data[HTML_MIME_TYPE];\n    var scripts = [];\n    var nodelist = html_node.querySelectorAll(\"script\");\n    for (var i in nodelist) {\n      if (nodelist.hasOwnProperty(i)) {\n        scripts.push(nodelist[i])\n      }\n    }\n\n    scripts.forEach( function (oldScript) {\n      var newScript = document.createElement(\"script\");\n      var attrs = [];\n      var nodemap = oldScript.attributes;\n      for (var j in nodemap) {\n        if (nodemap.hasOwnProperty(j)) {\n          attrs.push(nodemap[j])\n        }\n      }\n      attrs.forEach(function(attr) { newScript.setAttribute(attr.name, attr.value) });\n      newScript.appendChild(document.createTextNode(oldScript.innerHTML));\n      oldScript.parentNode.replaceChild(newScript, oldScript);\n    });\n    if (JS_MIME_TYPE in output.data) {\n      toinsert[nchildren-1].children[1].textContent = output.data[JS_MIME_TYPE];\n    }\n    output_area._hv_plot_id = id;\n    if ((window.Bokeh !== undefined) && (id in Bokeh.index)) {\n      window.PyViz.plot_index[id] = Bokeh.index[id];\n    } else {\n      window.PyViz.plot_index[id] = null;\n    }\n  } else if (output.metadata[EXEC_MIME_TYPE][\"server_id\"] !== undefined) {\n    var bk_div = document.createElement(\"div\");\n    bk_div.innerHTML = output.data[HTML_MIME_TYPE];\n    var script_attrs = bk_div.children[0].attributes;\n    for (var i = 0; i < script_attrs.length; i++) {\n      toinsert[toinsert.length - 1].childNodes[1].setAttribute(script_attrs[i].name, script_attrs[i].value);\n    }\n    // store reference to server id on output_area\n    output_area._bokeh_server_id = output.metadata[EXEC_MIME_TYPE][\"server_id\"];\n  }\n}\n\n/**\n * Handle when an output is cleared or removed\n */\nfunction handle_clear_output(event, handle) {\n  var id = handle.cell.output_area._hv_plot_id;\n  var server_id = handle.cell.output_area._bokeh_server_id;\n  if (((id === undefined) || !(id in PyViz.plot_index)) && (server_id !== undefined)) { return; }\n  var comm = window.PyViz.comm_manager.get_client_comm(\"hv-extension-comm\", \"hv-extension-comm\", function () {});\n  if (server_id !== null) {\n    comm.send({event_type: 'server_delete', 'id': server_id});\n    return;\n  } else if (comm !== null) {\n    comm.send({event_type: 'delete', 'id': id});\n  }\n  delete PyViz.plot_index[id];\n  if ((window.Bokeh !== undefined) & (id in window.Bokeh.index)) {\n    var doc = window.Bokeh.index[id].model.document\n    doc.clear();\n    const i = window.Bokeh.documents.indexOf(doc);\n    if (i > -1) {\n      window.Bokeh.documents.splice(i, 1);\n    }\n  }\n}\n\n/**\n * Handle kernel restart event\n */\nfunction handle_kernel_cleanup(event, handle) {\n  delete PyViz.comms[\"hv-extension-comm\"];\n  window.PyViz.plot_index = {}\n}\n\n/**\n * Handle update_display_data messages\n */\nfunction handle_update_output(event, handle) {\n  handle_clear_output(event, {cell: {output_area: handle.output_area}})\n  handle_add_output(event, handle)\n}\n\nfunction register_renderer(events, OutputArea) {\n  function append_mime(data, metadata, element) {\n    // create a DOM node to render to\n    var toinsert = this.create_output_subarea(\n    metadata,\n    CLASS_NAME,\n    EXEC_MIME_TYPE\n    );\n    this.keyboard_manager.register_events(toinsert);\n    // Render to node\n    var props = {data: data, metadata: metadata[EXEC_MIME_TYPE]};\n    render(props, toinsert[0]);\n    element.append(toinsert);\n    return toinsert\n  }\n\n  events.on('output_added.OutputArea', handle_add_output);\n  events.on('output_updated.OutputArea', handle_update_output);\n  events.on('clear_output.CodeCell', handle_clear_output);\n  events.on('delete.Cell', handle_clear_output);\n  events.on('kernel_ready.Kernel', handle_kernel_cleanup);\n\n  OutputArea.prototype.register_mime_type(EXEC_MIME_TYPE, append_mime, {\n    safe: true,\n    index: 0\n  });\n}\n\nif (window.Jupyter !== undefined) {\n  try {\n    var events = require('base/js/events');\n    var OutputArea = require('notebook/js/outputarea').OutputArea;\n    if (OutputArea.prototype.mime_types().indexOf(EXEC_MIME_TYPE) == -1) {\n      register_renderer(events, OutputArea);\n    }\n  } catch(err) {\n  }\n}\n",
            "application/javascript": [
              "\n",
              "if ((window.PyViz === undefined) || (window.PyViz instanceof HTMLElement)) {\n",
              "  window.PyViz = {comms: {}, comm_status:{}, kernels:{}, receivers: {}, plot_index: []}\n",
              "}\n",
              "\n",
              "\n",
              "    function JupyterCommManager() {\n",
              "    }\n",
              "\n",
              "    JupyterCommManager.prototype.register_target = function(plot_id, comm_id, msg_handler) {\n",
              "      if (window.comm_manager || ((window.Jupyter !== undefined) && (Jupyter.notebook.kernel != null))) {\n",
              "        var comm_manager = window.comm_manager || Jupyter.notebook.kernel.comm_manager;\n",
              "        comm_manager.register_target(comm_id, function(comm) {\n",
              "          comm.on_msg(msg_handler);\n",
              "        });\n",
              "      } else if ((plot_id in window.PyViz.kernels) && (window.PyViz.kernels[plot_id])) {\n",
              "        window.PyViz.kernels[plot_id].registerCommTarget(comm_id, function(comm) {\n",
              "          comm.onMsg = msg_handler;\n",
              "        });\n",
              "      } else if (typeof google != 'undefined' && google.colab.kernel != null) {\n",
              "        google.colab.kernel.comms.registerTarget(comm_id, (comm) => {\n",
              "          var messages = comm.messages[Symbol.asyncIterator]();\n",
              "          function processIteratorResult(result) {\n",
              "            var message = result.value;\n",
              "            console.log(message)\n",
              "            var content = {data: message.data, comm_id};\n",
              "            var buffers = []\n",
              "            for (var buffer of message.buffers || []) {\n",
              "              buffers.push(new DataView(buffer))\n",
              "            }\n",
              "            var metadata = message.metadata || {};\n",
              "            var msg = {content, buffers, metadata}\n",
              "            msg_handler(msg);\n",
              "            return messages.next().then(processIteratorResult);\n",
              "          }\n",
              "          return messages.next().then(processIteratorResult);\n",
              "        })\n",
              "      }\n",
              "    }\n",
              "\n",
              "    JupyterCommManager.prototype.get_client_comm = function(plot_id, comm_id, msg_handler) {\n",
              "      if (comm_id in window.PyViz.comms) {\n",
              "        return window.PyViz.comms[comm_id];\n",
              "      } else if (window.comm_manager || ((window.Jupyter !== undefined) && (Jupyter.notebook.kernel != null))) {\n",
              "        var comm_manager = window.comm_manager || Jupyter.notebook.kernel.comm_manager;\n",
              "        var comm = comm_manager.new_comm(comm_id, {}, {}, {}, comm_id);\n",
              "        if (msg_handler) {\n",
              "          comm.on_msg(msg_handler);\n",
              "        }\n",
              "      } else if ((plot_id in window.PyViz.kernels) && (window.PyViz.kernels[plot_id])) {\n",
              "        var comm = window.PyViz.kernels[plot_id].connectToComm(comm_id);\n",
              "        comm.open();\n",
              "        if (msg_handler) {\n",
              "          comm.onMsg = msg_handler;\n",
              "        }\n",
              "      } else if (typeof google != 'undefined' && google.colab.kernel != null) {\n",
              "        var comm_promise = google.colab.kernel.comms.open(comm_id)\n",
              "        comm_promise.then((comm) => {\n",
              "          window.PyViz.comms[comm_id] = comm;\n",
              "          if (msg_handler) {\n",
              "            var messages = comm.messages[Symbol.asyncIterator]();\n",
              "            function processIteratorResult(result) {\n",
              "              var message = result.value;\n",
              "              var content = {data: message.data};\n",
              "              var metadata = message.metadata || {comm_id};\n",
              "              var msg = {content, metadata}\n",
              "              msg_handler(msg);\n",
              "              return messages.next().then(processIteratorResult);\n",
              "            }\n",
              "            return messages.next().then(processIteratorResult);\n",
              "          }\n",
              "        }) \n",
              "        var sendClosure = (data, metadata, buffers, disposeOnDone) => {\n",
              "          return comm_promise.then((comm) => {\n",
              "            comm.send(data, metadata, buffers, disposeOnDone);\n",
              "          });\n",
              "        };\n",
              "        var comm = {\n",
              "          send: sendClosure\n",
              "        };\n",
              "      }\n",
              "      window.PyViz.comms[comm_id] = comm;\n",
              "      return comm;\n",
              "    }\n",
              "    window.PyViz.comm_manager = new JupyterCommManager();\n",
              "    \n",
              "\n",
              "\n",
              "var JS_MIME_TYPE = 'application/javascript';\n",
              "var HTML_MIME_TYPE = 'text/html';\n",
              "var EXEC_MIME_TYPE = 'application/vnd.holoviews_exec.v0+json';\n",
              "var CLASS_NAME = 'output';\n",
              "\n",
              "/**\n",
              " * Render data to the DOM node\n",
              " */\n",
              "function render(props, node) {\n",
              "  var div = document.createElement(\"div\");\n",
              "  var script = document.createElement(\"script\");\n",
              "  node.appendChild(div);\n",
              "  node.appendChild(script);\n",
              "}\n",
              "\n",
              "/**\n",
              " * Handle when a new output is added\n",
              " */\n",
              "function handle_add_output(event, handle) {\n",
              "  var output_area = handle.output_area;\n",
              "  var output = handle.output;\n",
              "  if ((output.data == undefined) || (!output.data.hasOwnProperty(EXEC_MIME_TYPE))) {\n",
              "    return\n",
              "  }\n",
              "  var id = output.metadata[EXEC_MIME_TYPE][\"id\"];\n",
              "  var toinsert = output_area.element.find(\".\" + CLASS_NAME.split(' ')[0]);\n",
              "  if (id !== undefined) {\n",
              "    var nchildren = toinsert.length;\n",
              "    var html_node = toinsert[nchildren-1].children[0];\n",
              "    html_node.innerHTML = output.data[HTML_MIME_TYPE];\n",
              "    var scripts = [];\n",
              "    var nodelist = html_node.querySelectorAll(\"script\");\n",
              "    for (var i in nodelist) {\n",
              "      if (nodelist.hasOwnProperty(i)) {\n",
              "        scripts.push(nodelist[i])\n",
              "      }\n",
              "    }\n",
              "\n",
              "    scripts.forEach( function (oldScript) {\n",
              "      var newScript = document.createElement(\"script\");\n",
              "      var attrs = [];\n",
              "      var nodemap = oldScript.attributes;\n",
              "      for (var j in nodemap) {\n",
              "        if (nodemap.hasOwnProperty(j)) {\n",
              "          attrs.push(nodemap[j])\n",
              "        }\n",
              "      }\n",
              "      attrs.forEach(function(attr) { newScript.setAttribute(attr.name, attr.value) });\n",
              "      newScript.appendChild(document.createTextNode(oldScript.innerHTML));\n",
              "      oldScript.parentNode.replaceChild(newScript, oldScript);\n",
              "    });\n",
              "    if (JS_MIME_TYPE in output.data) {\n",
              "      toinsert[nchildren-1].children[1].textContent = output.data[JS_MIME_TYPE];\n",
              "    }\n",
              "    output_area._hv_plot_id = id;\n",
              "    if ((window.Bokeh !== undefined) && (id in Bokeh.index)) {\n",
              "      window.PyViz.plot_index[id] = Bokeh.index[id];\n",
              "    } else {\n",
              "      window.PyViz.plot_index[id] = null;\n",
              "    }\n",
              "  } else if (output.metadata[EXEC_MIME_TYPE][\"server_id\"] !== undefined) {\n",
              "    var bk_div = document.createElement(\"div\");\n",
              "    bk_div.innerHTML = output.data[HTML_MIME_TYPE];\n",
              "    var script_attrs = bk_div.children[0].attributes;\n",
              "    for (var i = 0; i < script_attrs.length; i++) {\n",
              "      toinsert[toinsert.length - 1].childNodes[1].setAttribute(script_attrs[i].name, script_attrs[i].value);\n",
              "    }\n",
              "    // store reference to server id on output_area\n",
              "    output_area._bokeh_server_id = output.metadata[EXEC_MIME_TYPE][\"server_id\"];\n",
              "  }\n",
              "}\n",
              "\n",
              "/**\n",
              " * Handle when an output is cleared or removed\n",
              " */\n",
              "function handle_clear_output(event, handle) {\n",
              "  var id = handle.cell.output_area._hv_plot_id;\n",
              "  var server_id = handle.cell.output_area._bokeh_server_id;\n",
              "  if (((id === undefined) || !(id in PyViz.plot_index)) && (server_id !== undefined)) { return; }\n",
              "  var comm = window.PyViz.comm_manager.get_client_comm(\"hv-extension-comm\", \"hv-extension-comm\", function () {});\n",
              "  if (server_id !== null) {\n",
              "    comm.send({event_type: 'server_delete', 'id': server_id});\n",
              "    return;\n",
              "  } else if (comm !== null) {\n",
              "    comm.send({event_type: 'delete', 'id': id});\n",
              "  }\n",
              "  delete PyViz.plot_index[id];\n",
              "  if ((window.Bokeh !== undefined) & (id in window.Bokeh.index)) {\n",
              "    var doc = window.Bokeh.index[id].model.document\n",
              "    doc.clear();\n",
              "    const i = window.Bokeh.documents.indexOf(doc);\n",
              "    if (i > -1) {\n",
              "      window.Bokeh.documents.splice(i, 1);\n",
              "    }\n",
              "  }\n",
              "}\n",
              "\n",
              "/**\n",
              " * Handle kernel restart event\n",
              " */\n",
              "function handle_kernel_cleanup(event, handle) {\n",
              "  delete PyViz.comms[\"hv-extension-comm\"];\n",
              "  window.PyViz.plot_index = {}\n",
              "}\n",
              "\n",
              "/**\n",
              " * Handle update_display_data messages\n",
              " */\n",
              "function handle_update_output(event, handle) {\n",
              "  handle_clear_output(event, {cell: {output_area: handle.output_area}})\n",
              "  handle_add_output(event, handle)\n",
              "}\n",
              "\n",
              "function register_renderer(events, OutputArea) {\n",
              "  function append_mime(data, metadata, element) {\n",
              "    // create a DOM node to render to\n",
              "    var toinsert = this.create_output_subarea(\n",
              "    metadata,\n",
              "    CLASS_NAME,\n",
              "    EXEC_MIME_TYPE\n",
              "    );\n",
              "    this.keyboard_manager.register_events(toinsert);\n",
              "    // Render to node\n",
              "    var props = {data: data, metadata: metadata[EXEC_MIME_TYPE]};\n",
              "    render(props, toinsert[0]);\n",
              "    element.append(toinsert);\n",
              "    return toinsert\n",
              "  }\n",
              "\n",
              "  events.on('output_added.OutputArea', handle_add_output);\n",
              "  events.on('output_updated.OutputArea', handle_update_output);\n",
              "  events.on('clear_output.CodeCell', handle_clear_output);\n",
              "  events.on('delete.Cell', handle_clear_output);\n",
              "  events.on('kernel_ready.Kernel', handle_kernel_cleanup);\n",
              "\n",
              "  OutputArea.prototype.register_mime_type(EXEC_MIME_TYPE, append_mime, {\n",
              "    safe: true,\n",
              "    index: 0\n",
              "  });\n",
              "}\n",
              "\n",
              "if (window.Jupyter !== undefined) {\n",
              "  try {\n",
              "    var events = require('base/js/events');\n",
              "    var OutputArea = require('notebook/js/outputarea').OutputArea;\n",
              "    if (OutputArea.prototype.mime_types().indexOf(EXEC_MIME_TYPE) == -1) {\n",
              "      register_renderer(events, OutputArea);\n",
              "    }\n",
              "  } catch(err) {\n",
              "  }\n",
              "}\n"
            ]
          },
          "metadata": {}
        },
        {
          "output_type": "display_data",
          "data": {
            "text/html": [
              "<style>*[data-root-id],\n",
              "*[data-root-id] > * {\n",
              "  box-sizing: border-box;\n",
              "  font-family: var(--jp-ui-font-family);\n",
              "  font-size: var(--jp-ui-font-size1);\n",
              "  color: var(--vscode-editor-foreground, var(--jp-ui-font-color1));\n",
              "}\n",
              "\n",
              "/* Override VSCode background color */\n",
              ".cell-output-ipywidget-background:has(\n",
              "    > .cell-output-ipywidget-background > .lm-Widget > *[data-root-id]\n",
              "  ),\n",
              ".cell-output-ipywidget-background:has(> .lm-Widget > *[data-root-id]) {\n",
              "  background-color: transparent !important;\n",
              "}\n",
              "</style>"
            ]
          },
          "metadata": {}
        },
        {
          "output_type": "display_data",
          "data": {
            "text/html": [
              "<div id='07c9f225-1a57-4e86-bc84-d188d7ceb077'>\n",
              "  <div id=\"a86dd89f-b540-440d-9a78-1a3526200bc5\" data-root-id=\"07c9f225-1a57-4e86-bc84-d188d7ceb077\" style=\"display: contents;\"></div>\n",
              "</div>\n",
              "<script type=\"application/javascript\">(function(root) {\n",
              "  var docs_json = {\"e5e6cf66-c09a-4e55-8468-6619a92deba4\":{\"version\":\"3.3.1\",\"title\":\"Bokeh Application\",\"roots\":[{\"type\":\"object\",\"name\":\"panel.models.browser.BrowserInfo\",\"id\":\"07c9f225-1a57-4e86-bc84-d188d7ceb077\"},{\"type\":\"object\",\"name\":\"panel.models.comm_manager.CommManager\",\"id\":\"c2e5ad00-9a63-4d60-99c8-d566eb0f9714\",\"attributes\":{\"plot_id\":\"07c9f225-1a57-4e86-bc84-d188d7ceb077\",\"comm_id\":\"774185fdebe148cb999a8055de2c07ff\",\"client_comm_id\":\"c56bf66e795d4108b8dafc73d01bd0c8\"}}],\"defs\":[{\"type\":\"model\",\"name\":\"ReactiveHTML1\"},{\"type\":\"model\",\"name\":\"FlexBox1\",\"properties\":[{\"name\":\"align_content\",\"kind\":\"Any\",\"default\":\"flex-start\"},{\"name\":\"align_items\",\"kind\":\"Any\",\"default\":\"flex-start\"},{\"name\":\"flex_direction\",\"kind\":\"Any\",\"default\":\"row\"},{\"name\":\"flex_wrap\",\"kind\":\"Any\",\"default\":\"wrap\"},{\"name\":\"justify_content\",\"kind\":\"Any\",\"default\":\"flex-start\"}]},{\"type\":\"model\",\"name\":\"FloatPanel1\",\"properties\":[{\"name\":\"config\",\"kind\":\"Any\",\"default\":{\"type\":\"map\"}},{\"name\":\"contained\",\"kind\":\"Any\",\"default\":true},{\"name\":\"position\",\"kind\":\"Any\",\"default\":\"right-top\"},{\"name\":\"offsetx\",\"kind\":\"Any\",\"default\":null},{\"name\":\"offsety\",\"kind\":\"Any\",\"default\":null},{\"name\":\"theme\",\"kind\":\"Any\",\"default\":\"primary\"},{\"name\":\"status\",\"kind\":\"Any\",\"default\":\"normalized\"}]},{\"type\":\"model\",\"name\":\"GridStack1\",\"properties\":[{\"name\":\"mode\",\"kind\":\"Any\",\"default\":\"warn\"},{\"name\":\"ncols\",\"kind\":\"Any\",\"default\":null},{\"name\":\"nrows\",\"kind\":\"Any\",\"default\":null},{\"name\":\"allow_resize\",\"kind\":\"Any\",\"default\":true},{\"name\":\"allow_drag\",\"kind\":\"Any\",\"default\":true},{\"name\":\"state\",\"kind\":\"Any\",\"default\":[]}]},{\"type\":\"model\",\"name\":\"drag1\",\"properties\":[{\"name\":\"slider_width\",\"kind\":\"Any\",\"default\":5},{\"name\":\"slider_color\",\"kind\":\"Any\",\"default\":\"black\"},{\"name\":\"value\",\"kind\":\"Any\",\"default\":50}]},{\"type\":\"model\",\"name\":\"click1\",\"properties\":[{\"name\":\"terminal_output\",\"kind\":\"Any\",\"default\":\"\"},{\"name\":\"debug_name\",\"kind\":\"Any\",\"default\":\"\"},{\"name\":\"clears\",\"kind\":\"Any\",\"default\":0}]},{\"type\":\"model\",\"name\":\"toggle_value1\",\"properties\":[{\"name\":\"active_icons\",\"kind\":\"Any\",\"default\":{\"type\":\"map\"}},{\"name\":\"options\",\"kind\":\"Any\",\"default\":{\"type\":\"map\",\"entries\":[[\"favorite\",\"heart\"]]}},{\"name\":\"value\",\"kind\":\"Any\",\"default\":[]},{\"name\":\"_reactions\",\"kind\":\"Any\",\"default\":[]},{\"name\":\"_base_url\",\"kind\":\"Any\",\"default\":\"https://tabler-icons.io/static/tabler-icons/icons/\"}]},{\"type\":\"model\",\"name\":\"copy_to_clipboard1\",\"properties\":[{\"name\":\"value\",\"kind\":\"Any\",\"default\":null},{\"name\":\"fill\",\"kind\":\"Any\",\"default\":\"none\"}]},{\"type\":\"model\",\"name\":\"FastWrapper1\",\"properties\":[{\"name\":\"object\",\"kind\":\"Any\",\"default\":null},{\"name\":\"style\",\"kind\":\"Any\",\"default\":null}]},{\"type\":\"model\",\"name\":\"NotificationAreaBase1\",\"properties\":[{\"name\":\"js_events\",\"kind\":\"Any\",\"default\":{\"type\":\"map\"}},{\"name\":\"position\",\"kind\":\"Any\",\"default\":\"bottom-right\"},{\"name\":\"_clear\",\"kind\":\"Any\",\"default\":0}]},{\"type\":\"model\",\"name\":\"NotificationArea1\",\"properties\":[{\"name\":\"js_events\",\"kind\":\"Any\",\"default\":{\"type\":\"map\"}},{\"name\":\"notifications\",\"kind\":\"Any\",\"default\":[]},{\"name\":\"position\",\"kind\":\"Any\",\"default\":\"bottom-right\"},{\"name\":\"_clear\",\"kind\":\"Any\",\"default\":0},{\"name\":\"types\",\"kind\":\"Any\",\"default\":[{\"type\":\"map\",\"entries\":[[\"type\",\"warning\"],[\"background\",\"#ffc107\"],[\"icon\",{\"type\":\"map\",\"entries\":[[\"className\",\"fas fa-exclamation-triangle\"],[\"tagName\",\"i\"],[\"color\",\"white\"]]}]]},{\"type\":\"map\",\"entries\":[[\"type\",\"info\"],[\"background\",\"#007bff\"],[\"icon\",{\"type\":\"map\",\"entries\":[[\"className\",\"fas fa-info-circle\"],[\"tagName\",\"i\"],[\"color\",\"white\"]]}]]}]}]},{\"type\":\"model\",\"name\":\"Notification\",\"properties\":[{\"name\":\"background\",\"kind\":\"Any\",\"default\":null},{\"name\":\"duration\",\"kind\":\"Any\",\"default\":3000},{\"name\":\"icon\",\"kind\":\"Any\",\"default\":null},{\"name\":\"message\",\"kind\":\"Any\",\"default\":\"\"},{\"name\":\"notification_type\",\"kind\":\"Any\",\"default\":null},{\"name\":\"_destroyed\",\"kind\":\"Any\",\"default\":false}]},{\"type\":\"model\",\"name\":\"TemplateActions1\",\"properties\":[{\"name\":\"open_modal\",\"kind\":\"Any\",\"default\":0},{\"name\":\"close_modal\",\"kind\":\"Any\",\"default\":0}]},{\"type\":\"model\",\"name\":\"BootstrapTemplateActions1\",\"properties\":[{\"name\":\"open_modal\",\"kind\":\"Any\",\"default\":0},{\"name\":\"close_modal\",\"kind\":\"Any\",\"default\":0}]},{\"type\":\"model\",\"name\":\"MaterialTemplateActions1\",\"properties\":[{\"name\":\"open_modal\",\"kind\":\"Any\",\"default\":0},{\"name\":\"close_modal\",\"kind\":\"Any\",\"default\":0}]}]}};\n",
              "  var render_items = [{\"docid\":\"e5e6cf66-c09a-4e55-8468-6619a92deba4\",\"roots\":{\"07c9f225-1a57-4e86-bc84-d188d7ceb077\":\"a86dd89f-b540-440d-9a78-1a3526200bc5\"},\"root_ids\":[\"07c9f225-1a57-4e86-bc84-d188d7ceb077\"]}];\n",
              "  var docs = Object.values(docs_json)\n",
              "  if (!docs) {\n",
              "    return\n",
              "  }\n",
              "  const py_version = docs[0].version.replace('rc', '-rc.').replace('.dev', '-dev.')\n",
              "  function embed_document(root) {\n",
              "    var Bokeh = get_bokeh(root)\n",
              "    Bokeh.embed.embed_items_notebook(docs_json, render_items);\n",
              "    for (const render_item of render_items) {\n",
              "      for (const root_id of render_item.root_ids) {\n",
              "\tconst id_el = document.getElementById(root_id)\n",
              "\tif (id_el.children.length && (id_el.children[0].className === 'bk-root')) {\n",
              "\t  const root_el = id_el.children[0]\n",
              "\t  root_el.id = root_el.id + '-rendered'\n",
              "\t}\n",
              "      }\n",
              "    }\n",
              "  }\n",
              "  function get_bokeh(root) {\n",
              "    if (root.Bokeh === undefined) {\n",
              "      return null\n",
              "    } else if (root.Bokeh.version !== py_version) {\n",
              "      if (root.Bokeh.versions === undefined || !root.Bokeh.versions.has(py_version)) {\n",
              "\treturn null\n",
              "      }\n",
              "      return root.Bokeh.versions.get(py_version);\n",
              "    } else if (root.Bokeh.version === py_version) {\n",
              "      return root.Bokeh\n",
              "    }\n",
              "    return null\n",
              "  }\n",
              "  function is_loaded(root) {\n",
              "    var Bokeh = get_bokeh(root)\n",
              "    return (Bokeh != null && Bokeh.Panel !== undefined)\n",
              "  }\n",
              "  if (is_loaded(root)) {\n",
              "    embed_document(root);\n",
              "  } else {\n",
              "    var attempts = 0;\n",
              "    var timer = setInterval(function(root) {\n",
              "      if (is_loaded(root)) {\n",
              "        clearInterval(timer);\n",
              "        embed_document(root);\n",
              "      } else if (document.readyState == \"complete\") {\n",
              "        attempts++;\n",
              "        if (attempts > 200) {\n",
              "          clearInterval(timer);\n",
              "\t  var Bokeh = get_bokeh(root)\n",
              "\t  if (Bokeh == null || Bokeh.Panel == null) {\n",
              "            console.warn(\"Panel: ERROR: Unable to run Panel code because Bokeh or Panel library is missing\");\n",
              "\t  } else {\n",
              "\t    console.warn(\"Panel: WARNING: Attempting to render but not all required libraries could be resolved.\")\n",
              "\t    embed_document(root)\n",
              "\t  }\n",
              "        }\n",
              "      }\n",
              "    }, 25, root)\n",
              "  }\n",
              "})(window);</script>"
            ],
            "application/vnd.holoviews_exec.v0+json": ""
          },
          "metadata": {
            "application/vnd.holoviews_exec.v0+json": {
              "id": "07c9f225-1a57-4e86-bc84-d188d7ceb077"
            }
          }
        },
        {
          "output_type": "display_data",
          "data": {
            "application/javascript": [
              "(function(root) {\n",
              "  function now() {\n",
              "    return new Date();\n",
              "  }\n",
              "\n",
              "  var force = true;\n",
              "  var py_version = '3.3.1'.replace('rc', '-rc.').replace('.dev', '-dev.');\n",
              "  var reloading = false;\n",
              "  var Bokeh = root.Bokeh;\n",
              "\n",
              "  if (typeof (root._bokeh_timeout) === \"undefined\" || force) {\n",
              "    root._bokeh_timeout = Date.now() + 5000;\n",
              "    root._bokeh_failed_load = false;\n",
              "  }\n",
              "\n",
              "  function run_callbacks() {\n",
              "    try {\n",
              "      root._bokeh_onload_callbacks.forEach(function(callback) {\n",
              "        if (callback != null)\n",
              "          callback();\n",
              "      });\n",
              "    } finally {\n",
              "      delete root._bokeh_onload_callbacks;\n",
              "    }\n",
              "    console.debug(\"Bokeh: all callbacks have finished\");\n",
              "  }\n",
              "\n",
              "  function load_libs(css_urls, js_urls, js_modules, js_exports, callback) {\n",
              "    if (css_urls == null) css_urls = [];\n",
              "    if (js_urls == null) js_urls = [];\n",
              "    if (js_modules == null) js_modules = [];\n",
              "    if (js_exports == null) js_exports = {};\n",
              "\n",
              "    root._bokeh_onload_callbacks.push(callback);\n",
              "\n",
              "    if (root._bokeh_is_loading > 0) {\n",
              "      console.debug(\"Bokeh: BokehJS is being loaded, scheduling callback at\", now());\n",
              "      return null;\n",
              "    }\n",
              "    if (js_urls.length === 0 && js_modules.length === 0 && Object.keys(js_exports).length === 0) {\n",
              "      run_callbacks();\n",
              "      return null;\n",
              "    }\n",
              "    if (!reloading) {\n",
              "      console.debug(\"Bokeh: BokehJS not loaded, scheduling load and callback at\", now());\n",
              "    }\n",
              "\n",
              "    function on_load() {\n",
              "      root._bokeh_is_loading--;\n",
              "      if (root._bokeh_is_loading === 0) {\n",
              "        console.debug(\"Bokeh: all BokehJS libraries/stylesheets loaded\");\n",
              "        run_callbacks()\n",
              "      }\n",
              "    }\n",
              "    window._bokeh_on_load = on_load\n",
              "\n",
              "    function on_error() {\n",
              "      console.error(\"failed to load \" + url);\n",
              "    }\n",
              "\n",
              "    var skip = [];\n",
              "    if (window.requirejs) {\n",
              "      window.requirejs.config({'packages': {}, 'paths': {'jspanel': 'https://cdn.jsdelivr.net/npm/jspanel4@4.12.0/dist/jspanel', 'jspanel-modal': 'https://cdn.jsdelivr.net/npm/jspanel4@4.12.0/dist/extensions/modal/jspanel.modal', 'jspanel-tooltip': 'https://cdn.jsdelivr.net/npm/jspanel4@4.12.0/dist/extensions/tooltip/jspanel.tooltip', 'jspanel-hint': 'https://cdn.jsdelivr.net/npm/jspanel4@4.12.0/dist/extensions/hint/jspanel.hint', 'jspanel-layout': 'https://cdn.jsdelivr.net/npm/jspanel4@4.12.0/dist/extensions/layout/jspanel.layout', 'jspanel-contextmenu': 'https://cdn.jsdelivr.net/npm/jspanel4@4.12.0/dist/extensions/contextmenu/jspanel.contextmenu', 'jspanel-dock': 'https://cdn.jsdelivr.net/npm/jspanel4@4.12.0/dist/extensions/dock/jspanel.dock', 'gridstack': 'https://cdn.jsdelivr.net/npm/gridstack@7.2.3/dist/gridstack-all', 'notyf': 'https://cdn.jsdelivr.net/npm/notyf@3/notyf.min'}, 'shim': {'jspanel': {'exports': 'jsPanel'}, 'gridstack': {'exports': 'GridStack'}}});\n",
              "      require([\"jspanel\"], function(jsPanel) {\n",
              "\twindow.jsPanel = jsPanel\n",
              "\ton_load()\n",
              "      })\n",
              "      require([\"jspanel-modal\"], function() {\n",
              "\ton_load()\n",
              "      })\n",
              "      require([\"jspanel-tooltip\"], function() {\n",
              "\ton_load()\n",
              "      })\n",
              "      require([\"jspanel-hint\"], function() {\n",
              "\ton_load()\n",
              "      })\n",
              "      require([\"jspanel-layout\"], function() {\n",
              "\ton_load()\n",
              "      })\n",
              "      require([\"jspanel-contextmenu\"], function() {\n",
              "\ton_load()\n",
              "      })\n",
              "      require([\"jspanel-dock\"], function() {\n",
              "\ton_load()\n",
              "      })\n",
              "      require([\"gridstack\"], function(GridStack) {\n",
              "\twindow.GridStack = GridStack\n",
              "\ton_load()\n",
              "      })\n",
              "      require([\"notyf\"], function() {\n",
              "\ton_load()\n",
              "      })\n",
              "      root._bokeh_is_loading = css_urls.length + 9;\n",
              "    } else {\n",
              "      root._bokeh_is_loading = css_urls.length + js_urls.length + js_modules.length + Object.keys(js_exports).length;\n",
              "    }\n",
              "\n",
              "    var existing_stylesheets = []\n",
              "    var links = document.getElementsByTagName('link')\n",
              "    for (var i = 0; i < links.length; i++) {\n",
              "      var link = links[i]\n",
              "      if (link.href != null) {\n",
              "\texisting_stylesheets.push(link.href)\n",
              "      }\n",
              "    }\n",
              "    for (var i = 0; i < css_urls.length; i++) {\n",
              "      var url = css_urls[i];\n",
              "      if (existing_stylesheets.indexOf(url) !== -1) {\n",
              "\ton_load()\n",
              "\tcontinue;\n",
              "      }\n",
              "      const element = document.createElement(\"link\");\n",
              "      element.onload = on_load;\n",
              "      element.onerror = on_error;\n",
              "      element.rel = \"stylesheet\";\n",
              "      element.type = \"text/css\";\n",
              "      element.href = url;\n",
              "      console.debug(\"Bokeh: injecting link tag for BokehJS stylesheet: \", url);\n",
              "      document.body.appendChild(element);\n",
              "    }    if (((window['jsPanel'] !== undefined) && (!(window['jsPanel'] instanceof HTMLElement))) || window.requirejs) {\n",
              "      var urls = ['https://cdn.holoviz.org/panel/1.3.4/dist/bundled/floatpanel/jspanel4@4.12.0/dist/jspanel.js', 'https://cdn.holoviz.org/panel/1.3.4/dist/bundled/floatpanel/jspanel4@4.12.0/dist/extensions/modal/jspanel.modal.js', 'https://cdn.holoviz.org/panel/1.3.4/dist/bundled/floatpanel/jspanel4@4.12.0/dist/extensions/tooltip/jspanel.tooltip.js', 'https://cdn.holoviz.org/panel/1.3.4/dist/bundled/floatpanel/jspanel4@4.12.0/dist/extensions/hint/jspanel.hint.js', 'https://cdn.holoviz.org/panel/1.3.4/dist/bundled/floatpanel/jspanel4@4.12.0/dist/extensions/layout/jspanel.layout.js', 'https://cdn.holoviz.org/panel/1.3.4/dist/bundled/floatpanel/jspanel4@4.12.0/dist/extensions/contextmenu/jspanel.contextmenu.js', 'https://cdn.holoviz.org/panel/1.3.4/dist/bundled/floatpanel/jspanel4@4.12.0/dist/extensions/dock/jspanel.dock.js'];\n",
              "      for (var i = 0; i < urls.length; i++) {\n",
              "        skip.push(urls[i])\n",
              "      }\n",
              "    }    if (((window['GridStack'] !== undefined) && (!(window['GridStack'] instanceof HTMLElement))) || window.requirejs) {\n",
              "      var urls = ['https://cdn.holoviz.org/panel/1.3.4/dist/bundled/gridstack/gridstack@7.2.3/dist/gridstack-all.js'];\n",
              "      for (var i = 0; i < urls.length; i++) {\n",
              "        skip.push(urls[i])\n",
              "      }\n",
              "    }    if (((window['Notyf'] !== undefined) && (!(window['Notyf'] instanceof HTMLElement))) || window.requirejs) {\n",
              "      var urls = ['https://cdn.holoviz.org/panel/1.3.4/dist/bundled/notificationarea/notyf@3/notyf.min.js'];\n",
              "      for (var i = 0; i < urls.length; i++) {\n",
              "        skip.push(urls[i])\n",
              "      }\n",
              "    }    var existing_scripts = []\n",
              "    var scripts = document.getElementsByTagName('script')\n",
              "    for (var i = 0; i < scripts.length; i++) {\n",
              "      var script = scripts[i]\n",
              "      if (script.src != null) {\n",
              "\texisting_scripts.push(script.src)\n",
              "      }\n",
              "    }\n",
              "    for (var i = 0; i < js_urls.length; i++) {\n",
              "      var url = js_urls[i];\n",
              "      if (skip.indexOf(url) !== -1 || existing_scripts.indexOf(url) !== -1) {\n",
              "\tif (!window.requirejs) {\n",
              "\t  on_load();\n",
              "\t}\n",
              "\tcontinue;\n",
              "      }\n",
              "      var element = document.createElement('script');\n",
              "      element.onload = on_load;\n",
              "      element.onerror = on_error;\n",
              "      element.async = false;\n",
              "      element.src = url;\n",
              "      console.debug(\"Bokeh: injecting script tag for BokehJS library: \", url);\n",
              "      document.head.appendChild(element);\n",
              "    }\n",
              "    for (var i = 0; i < js_modules.length; i++) {\n",
              "      var url = js_modules[i];\n",
              "      if (skip.indexOf(url) !== -1 || existing_scripts.indexOf(url) !== -1) {\n",
              "\tif (!window.requirejs) {\n",
              "\t  on_load();\n",
              "\t}\n",
              "\tcontinue;\n",
              "      }\n",
              "      var element = document.createElement('script');\n",
              "      element.onload = on_load;\n",
              "      element.onerror = on_error;\n",
              "      element.async = false;\n",
              "      element.src = url;\n",
              "      element.type = \"module\";\n",
              "      console.debug(\"Bokeh: injecting script tag for BokehJS library: \", url);\n",
              "      document.head.appendChild(element);\n",
              "    }\n",
              "    for (const name in js_exports) {\n",
              "      var url = js_exports[name];\n",
              "      if (skip.indexOf(url) >= 0 || root[name] != null) {\n",
              "\tif (!window.requirejs) {\n",
              "\t  on_load();\n",
              "\t}\n",
              "\tcontinue;\n",
              "      }\n",
              "      var element = document.createElement('script');\n",
              "      element.onerror = on_error;\n",
              "      element.async = false;\n",
              "      element.type = \"module\";\n",
              "      console.debug(\"Bokeh: injecting script tag for BokehJS library: \", url);\n",
              "      element.textContent = `\n",
              "      import ${name} from \"${url}\"\n",
              "      window.${name} = ${name}\n",
              "      window._bokeh_on_load()\n",
              "      `\n",
              "      document.head.appendChild(element);\n",
              "    }\n",
              "    if (!js_urls.length && !js_modules.length) {\n",
              "      on_load()\n",
              "    }\n",
              "  };\n",
              "\n",
              "  function inject_raw_css(css) {\n",
              "    const element = document.createElement(\"style\");\n",
              "    element.appendChild(document.createTextNode(css));\n",
              "    document.body.appendChild(element);\n",
              "  }\n",
              "\n",
              "  var js_urls = [\"https://cdn.bokeh.org/bokeh/release/bokeh-3.3.1.min.js\", \"https://cdn.bokeh.org/bokeh/release/bokeh-gl-3.3.1.min.js\", \"https://cdn.bokeh.org/bokeh/release/bokeh-widgets-3.3.1.min.js\", \"https://cdn.bokeh.org/bokeh/release/bokeh-tables-3.3.1.min.js\", \"https://cdn.holoviz.org/panel/1.3.4/dist/panel.min.js\"];\n",
              "  var js_modules = [];\n",
              "  var js_exports = {};\n",
              "  var css_urls = [];\n",
              "  var inline_js = [    function(Bokeh) {\n",
              "      Bokeh.set_log_level(\"info\");\n",
              "    },\n",
              "function(Bokeh) {} // ensure no trailing comma for IE\n",
              "  ];\n",
              "\n",
              "  function run_inline_js() {\n",
              "    if ((root.Bokeh !== undefined) || (force === true)) {\n",
              "      for (var i = 0; i < inline_js.length; i++) {\n",
              "\ttry {\n",
              "          inline_js[i].call(root, root.Bokeh);\n",
              "\t} catch(e) {\n",
              "\t  if (!reloading) {\n",
              "\t    throw e;\n",
              "\t  }\n",
              "\t}\n",
              "      }\n",
              "      // Cache old bokeh versions\n",
              "      if (Bokeh != undefined && !reloading) {\n",
              "\tvar NewBokeh = root.Bokeh;\n",
              "\tif (Bokeh.versions === undefined) {\n",
              "\t  Bokeh.versions = new Map();\n",
              "\t}\n",
              "\tif (NewBokeh.version !== Bokeh.version) {\n",
              "\t  Bokeh.versions.set(NewBokeh.version, NewBokeh)\n",
              "\t}\n",
              "\troot.Bokeh = Bokeh;\n",
              "      }} else if (Date.now() < root._bokeh_timeout) {\n",
              "      setTimeout(run_inline_js, 100);\n",
              "    } else if (!root._bokeh_failed_load) {\n",
              "      console.log(\"Bokeh: BokehJS failed to load within specified timeout.\");\n",
              "      root._bokeh_failed_load = true;\n",
              "    }\n",
              "    root._bokeh_is_initializing = false\n",
              "  }\n",
              "\n",
              "  function load_or_wait() {\n",
              "    // Implement a backoff loop that tries to ensure we do not load multiple\n",
              "    // versions of Bokeh and its dependencies at the same time.\n",
              "    // In recent versions we use the root._bokeh_is_initializing flag\n",
              "    // to determine whether there is an ongoing attempt to initialize\n",
              "    // bokeh, however for backward compatibility we also try to ensure\n",
              "    // that we do not start loading a newer (Panel>=1.0 and Bokeh>3) version\n",
              "    // before older versions are fully initialized.\n",
              "    if (root._bokeh_is_initializing && Date.now() > root._bokeh_timeout) {\n",
              "      root._bokeh_is_initializing = false;\n",
              "      root._bokeh_onload_callbacks = undefined;\n",
              "      console.log(\"Bokeh: BokehJS was loaded multiple times but one version failed to initialize.\");\n",
              "      load_or_wait();\n",
              "    } else if (root._bokeh_is_initializing || (typeof root._bokeh_is_initializing === \"undefined\" && root._bokeh_onload_callbacks !== undefined)) {\n",
              "      setTimeout(load_or_wait, 100);\n",
              "    } else {\n",
              "      root._bokeh_is_initializing = true\n",
              "      root._bokeh_onload_callbacks = []\n",
              "      var bokeh_loaded = Bokeh != null && (Bokeh.version === py_version || (Bokeh.versions !== undefined && Bokeh.versions.has(py_version)));\n",
              "      if (!reloading && !bokeh_loaded) {\n",
              "\troot.Bokeh = undefined;\n",
              "      }\n",
              "      load_libs(css_urls, js_urls, js_modules, js_exports, function() {\n",
              "\tconsole.debug(\"Bokeh: BokehJS plotting callback run at\", now());\n",
              "\trun_inline_js();\n",
              "      });\n",
              "    }\n",
              "  }\n",
              "  // Give older versions of the autoload script a head-start to ensure\n",
              "  // they initialize before we start loading newer version.\n",
              "  setTimeout(load_or_wait, 100)\n",
              "}(window));"
            ],
            "application/vnd.holoviews_load.v0+json": "(function(root) {\n  function now() {\n    return new Date();\n  }\n\n  var force = true;\n  var py_version = '3.3.1'.replace('rc', '-rc.').replace('.dev', '-dev.');\n  var reloading = false;\n  var Bokeh = root.Bokeh;\n\n  if (typeof (root._bokeh_timeout) === \"undefined\" || force) {\n    root._bokeh_timeout = Date.now() + 5000;\n    root._bokeh_failed_load = false;\n  }\n\n  function run_callbacks() {\n    try {\n      root._bokeh_onload_callbacks.forEach(function(callback) {\n        if (callback != null)\n          callback();\n      });\n    } finally {\n      delete root._bokeh_onload_callbacks;\n    }\n    console.debug(\"Bokeh: all callbacks have finished\");\n  }\n\n  function load_libs(css_urls, js_urls, js_modules, js_exports, callback) {\n    if (css_urls == null) css_urls = [];\n    if (js_urls == null) js_urls = [];\n    if (js_modules == null) js_modules = [];\n    if (js_exports == null) js_exports = {};\n\n    root._bokeh_onload_callbacks.push(callback);\n\n    if (root._bokeh_is_loading > 0) {\n      console.debug(\"Bokeh: BokehJS is being loaded, scheduling callback at\", now());\n      return null;\n    }\n    if (js_urls.length === 0 && js_modules.length === 0 && Object.keys(js_exports).length === 0) {\n      run_callbacks();\n      return null;\n    }\n    if (!reloading) {\n      console.debug(\"Bokeh: BokehJS not loaded, scheduling load and callback at\", now());\n    }\n\n    function on_load() {\n      root._bokeh_is_loading--;\n      if (root._bokeh_is_loading === 0) {\n        console.debug(\"Bokeh: all BokehJS libraries/stylesheets loaded\");\n        run_callbacks()\n      }\n    }\n    window._bokeh_on_load = on_load\n\n    function on_error() {\n      console.error(\"failed to load \" + url);\n    }\n\n    var skip = [];\n    if (window.requirejs) {\n      window.requirejs.config({'packages': {}, 'paths': {'jspanel': 'https://cdn.jsdelivr.net/npm/jspanel4@4.12.0/dist/jspanel', 'jspanel-modal': 'https://cdn.jsdelivr.net/npm/jspanel4@4.12.0/dist/extensions/modal/jspanel.modal', 'jspanel-tooltip': 'https://cdn.jsdelivr.net/npm/jspanel4@4.12.0/dist/extensions/tooltip/jspanel.tooltip', 'jspanel-hint': 'https://cdn.jsdelivr.net/npm/jspanel4@4.12.0/dist/extensions/hint/jspanel.hint', 'jspanel-layout': 'https://cdn.jsdelivr.net/npm/jspanel4@4.12.0/dist/extensions/layout/jspanel.layout', 'jspanel-contextmenu': 'https://cdn.jsdelivr.net/npm/jspanel4@4.12.0/dist/extensions/contextmenu/jspanel.contextmenu', 'jspanel-dock': 'https://cdn.jsdelivr.net/npm/jspanel4@4.12.0/dist/extensions/dock/jspanel.dock', 'gridstack': 'https://cdn.jsdelivr.net/npm/gridstack@7.2.3/dist/gridstack-all', 'notyf': 'https://cdn.jsdelivr.net/npm/notyf@3/notyf.min'}, 'shim': {'jspanel': {'exports': 'jsPanel'}, 'gridstack': {'exports': 'GridStack'}}});\n      require([\"jspanel\"], function(jsPanel) {\n\twindow.jsPanel = jsPanel\n\ton_load()\n      })\n      require([\"jspanel-modal\"], function() {\n\ton_load()\n      })\n      require([\"jspanel-tooltip\"], function() {\n\ton_load()\n      })\n      require([\"jspanel-hint\"], function() {\n\ton_load()\n      })\n      require([\"jspanel-layout\"], function() {\n\ton_load()\n      })\n      require([\"jspanel-contextmenu\"], function() {\n\ton_load()\n      })\n      require([\"jspanel-dock\"], function() {\n\ton_load()\n      })\n      require([\"gridstack\"], function(GridStack) {\n\twindow.GridStack = GridStack\n\ton_load()\n      })\n      require([\"notyf\"], function() {\n\ton_load()\n      })\n      root._bokeh_is_loading = css_urls.length + 9;\n    } else {\n      root._bokeh_is_loading = css_urls.length + js_urls.length + js_modules.length + Object.keys(js_exports).length;\n    }\n\n    var existing_stylesheets = []\n    var links = document.getElementsByTagName('link')\n    for (var i = 0; i < links.length; i++) {\n      var link = links[i]\n      if (link.href != null) {\n\texisting_stylesheets.push(link.href)\n      }\n    }\n    for (var i = 0; i < css_urls.length; i++) {\n      var url = css_urls[i];\n      if (existing_stylesheets.indexOf(url) !== -1) {\n\ton_load()\n\tcontinue;\n      }\n      const element = document.createElement(\"link\");\n      element.onload = on_load;\n      element.onerror = on_error;\n      element.rel = \"stylesheet\";\n      element.type = \"text/css\";\n      element.href = url;\n      console.debug(\"Bokeh: injecting link tag for BokehJS stylesheet: \", url);\n      document.body.appendChild(element);\n    }    if (((window['jsPanel'] !== undefined) && (!(window['jsPanel'] instanceof HTMLElement))) || window.requirejs) {\n      var urls = ['https://cdn.holoviz.org/panel/1.3.4/dist/bundled/floatpanel/jspanel4@4.12.0/dist/jspanel.js', 'https://cdn.holoviz.org/panel/1.3.4/dist/bundled/floatpanel/jspanel4@4.12.0/dist/extensions/modal/jspanel.modal.js', 'https://cdn.holoviz.org/panel/1.3.4/dist/bundled/floatpanel/jspanel4@4.12.0/dist/extensions/tooltip/jspanel.tooltip.js', 'https://cdn.holoviz.org/panel/1.3.4/dist/bundled/floatpanel/jspanel4@4.12.0/dist/extensions/hint/jspanel.hint.js', 'https://cdn.holoviz.org/panel/1.3.4/dist/bundled/floatpanel/jspanel4@4.12.0/dist/extensions/layout/jspanel.layout.js', 'https://cdn.holoviz.org/panel/1.3.4/dist/bundled/floatpanel/jspanel4@4.12.0/dist/extensions/contextmenu/jspanel.contextmenu.js', 'https://cdn.holoviz.org/panel/1.3.4/dist/bundled/floatpanel/jspanel4@4.12.0/dist/extensions/dock/jspanel.dock.js'];\n      for (var i = 0; i < urls.length; i++) {\n        skip.push(urls[i])\n      }\n    }    if (((window['GridStack'] !== undefined) && (!(window['GridStack'] instanceof HTMLElement))) || window.requirejs) {\n      var urls = ['https://cdn.holoviz.org/panel/1.3.4/dist/bundled/gridstack/gridstack@7.2.3/dist/gridstack-all.js'];\n      for (var i = 0; i < urls.length; i++) {\n        skip.push(urls[i])\n      }\n    }    if (((window['Notyf'] !== undefined) && (!(window['Notyf'] instanceof HTMLElement))) || window.requirejs) {\n      var urls = ['https://cdn.holoviz.org/panel/1.3.4/dist/bundled/notificationarea/notyf@3/notyf.min.js'];\n      for (var i = 0; i < urls.length; i++) {\n        skip.push(urls[i])\n      }\n    }    var existing_scripts = []\n    var scripts = document.getElementsByTagName('script')\n    for (var i = 0; i < scripts.length; i++) {\n      var script = scripts[i]\n      if (script.src != null) {\n\texisting_scripts.push(script.src)\n      }\n    }\n    for (var i = 0; i < js_urls.length; i++) {\n      var url = js_urls[i];\n      if (skip.indexOf(url) !== -1 || existing_scripts.indexOf(url) !== -1) {\n\tif (!window.requirejs) {\n\t  on_load();\n\t}\n\tcontinue;\n      }\n      var element = document.createElement('script');\n      element.onload = on_load;\n      element.onerror = on_error;\n      element.async = false;\n      element.src = url;\n      console.debug(\"Bokeh: injecting script tag for BokehJS library: \", url);\n      document.head.appendChild(element);\n    }\n    for (var i = 0; i < js_modules.length; i++) {\n      var url = js_modules[i];\n      if (skip.indexOf(url) !== -1 || existing_scripts.indexOf(url) !== -1) {\n\tif (!window.requirejs) {\n\t  on_load();\n\t}\n\tcontinue;\n      }\n      var element = document.createElement('script');\n      element.onload = on_load;\n      element.onerror = on_error;\n      element.async = false;\n      element.src = url;\n      element.type = \"module\";\n      console.debug(\"Bokeh: injecting script tag for BokehJS library: \", url);\n      document.head.appendChild(element);\n    }\n    for (const name in js_exports) {\n      var url = js_exports[name];\n      if (skip.indexOf(url) >= 0 || root[name] != null) {\n\tif (!window.requirejs) {\n\t  on_load();\n\t}\n\tcontinue;\n      }\n      var element = document.createElement('script');\n      element.onerror = on_error;\n      element.async = false;\n      element.type = \"module\";\n      console.debug(\"Bokeh: injecting script tag for BokehJS library: \", url);\n      element.textContent = `\n      import ${name} from \"${url}\"\n      window.${name} = ${name}\n      window._bokeh_on_load()\n      `\n      document.head.appendChild(element);\n    }\n    if (!js_urls.length && !js_modules.length) {\n      on_load()\n    }\n  };\n\n  function inject_raw_css(css) {\n    const element = document.createElement(\"style\");\n    element.appendChild(document.createTextNode(css));\n    document.body.appendChild(element);\n  }\n\n  var js_urls = [\"https://cdn.bokeh.org/bokeh/release/bokeh-3.3.1.min.js\", \"https://cdn.bokeh.org/bokeh/release/bokeh-gl-3.3.1.min.js\", \"https://cdn.bokeh.org/bokeh/release/bokeh-widgets-3.3.1.min.js\", \"https://cdn.bokeh.org/bokeh/release/bokeh-tables-3.3.1.min.js\", \"https://cdn.holoviz.org/panel/1.3.4/dist/panel.min.js\"];\n  var js_modules = [];\n  var js_exports = {};\n  var css_urls = [];\n  var inline_js = [    function(Bokeh) {\n      Bokeh.set_log_level(\"info\");\n    },\nfunction(Bokeh) {} // ensure no trailing comma for IE\n  ];\n\n  function run_inline_js() {\n    if ((root.Bokeh !== undefined) || (force === true)) {\n      for (var i = 0; i < inline_js.length; i++) {\n\ttry {\n          inline_js[i].call(root, root.Bokeh);\n\t} catch(e) {\n\t  if (!reloading) {\n\t    throw e;\n\t  }\n\t}\n      }\n      // Cache old bokeh versions\n      if (Bokeh != undefined && !reloading) {\n\tvar NewBokeh = root.Bokeh;\n\tif (Bokeh.versions === undefined) {\n\t  Bokeh.versions = new Map();\n\t}\n\tif (NewBokeh.version !== Bokeh.version) {\n\t  Bokeh.versions.set(NewBokeh.version, NewBokeh)\n\t}\n\troot.Bokeh = Bokeh;\n      }} else if (Date.now() < root._bokeh_timeout) {\n      setTimeout(run_inline_js, 100);\n    } else if (!root._bokeh_failed_load) {\n      console.log(\"Bokeh: BokehJS failed to load within specified timeout.\");\n      root._bokeh_failed_load = true;\n    }\n    root._bokeh_is_initializing = false\n  }\n\n  function load_or_wait() {\n    // Implement a backoff loop that tries to ensure we do not load multiple\n    // versions of Bokeh and its dependencies at the same time.\n    // In recent versions we use the root._bokeh_is_initializing flag\n    // to determine whether there is an ongoing attempt to initialize\n    // bokeh, however for backward compatibility we also try to ensure\n    // that we do not start loading a newer (Panel>=1.0 and Bokeh>3) version\n    // before older versions are fully initialized.\n    if (root._bokeh_is_initializing && Date.now() > root._bokeh_timeout) {\n      root._bokeh_is_initializing = false;\n      root._bokeh_onload_callbacks = undefined;\n      console.log(\"Bokeh: BokehJS was loaded multiple times but one version failed to initialize.\");\n      load_or_wait();\n    } else if (root._bokeh_is_initializing || (typeof root._bokeh_is_initializing === \"undefined\" && root._bokeh_onload_callbacks !== undefined)) {\n      setTimeout(load_or_wait, 100);\n    } else {\n      root._bokeh_is_initializing = true\n      root._bokeh_onload_callbacks = []\n      var bokeh_loaded = Bokeh != null && (Bokeh.version === py_version || (Bokeh.versions !== undefined && Bokeh.versions.has(py_version)));\n      if (!reloading && !bokeh_loaded) {\n\troot.Bokeh = undefined;\n      }\n      load_libs(css_urls, js_urls, js_modules, js_exports, function() {\n\tconsole.debug(\"Bokeh: BokehJS plotting callback run at\", now());\n\trun_inline_js();\n      });\n    }\n  }\n  // Give older versions of the autoload script a head-start to ensure\n  // they initialize before we start loading newer version.\n  setTimeout(load_or_wait, 100)\n}(window));"
          },
          "metadata": {}
        },
        {
          "output_type": "display_data",
          "data": {
            "application/vnd.holoviews_load.v0+json": "\nif ((window.PyViz === undefined) || (window.PyViz instanceof HTMLElement)) {\n  window.PyViz = {comms: {}, comm_status:{}, kernels:{}, receivers: {}, plot_index: []}\n}\n\n\n    function JupyterCommManager() {\n    }\n\n    JupyterCommManager.prototype.register_target = function(plot_id, comm_id, msg_handler) {\n      if (window.comm_manager || ((window.Jupyter !== undefined) && (Jupyter.notebook.kernel != null))) {\n        var comm_manager = window.comm_manager || Jupyter.notebook.kernel.comm_manager;\n        comm_manager.register_target(comm_id, function(comm) {\n          comm.on_msg(msg_handler);\n        });\n      } else if ((plot_id in window.PyViz.kernels) && (window.PyViz.kernels[plot_id])) {\n        window.PyViz.kernels[plot_id].registerCommTarget(comm_id, function(comm) {\n          comm.onMsg = msg_handler;\n        });\n      } else if (typeof google != 'undefined' && google.colab.kernel != null) {\n        google.colab.kernel.comms.registerTarget(comm_id, (comm) => {\n          var messages = comm.messages[Symbol.asyncIterator]();\n          function processIteratorResult(result) {\n            var message = result.value;\n            console.log(message)\n            var content = {data: message.data, comm_id};\n            var buffers = []\n            for (var buffer of message.buffers || []) {\n              buffers.push(new DataView(buffer))\n            }\n            var metadata = message.metadata || {};\n            var msg = {content, buffers, metadata}\n            msg_handler(msg);\n            return messages.next().then(processIteratorResult);\n          }\n          return messages.next().then(processIteratorResult);\n        })\n      }\n    }\n\n    JupyterCommManager.prototype.get_client_comm = function(plot_id, comm_id, msg_handler) {\n      if (comm_id in window.PyViz.comms) {\n        return window.PyViz.comms[comm_id];\n      } else if (window.comm_manager || ((window.Jupyter !== undefined) && (Jupyter.notebook.kernel != null))) {\n        var comm_manager = window.comm_manager || Jupyter.notebook.kernel.comm_manager;\n        var comm = comm_manager.new_comm(comm_id, {}, {}, {}, comm_id);\n        if (msg_handler) {\n          comm.on_msg(msg_handler);\n        }\n      } else if ((plot_id in window.PyViz.kernels) && (window.PyViz.kernels[plot_id])) {\n        var comm = window.PyViz.kernels[plot_id].connectToComm(comm_id);\n        comm.open();\n        if (msg_handler) {\n          comm.onMsg = msg_handler;\n        }\n      } else if (typeof google != 'undefined' && google.colab.kernel != null) {\n        var comm_promise = google.colab.kernel.comms.open(comm_id)\n        comm_promise.then((comm) => {\n          window.PyViz.comms[comm_id] = comm;\n          if (msg_handler) {\n            var messages = comm.messages[Symbol.asyncIterator]();\n            function processIteratorResult(result) {\n              var message = result.value;\n              var content = {data: message.data};\n              var metadata = message.metadata || {comm_id};\n              var msg = {content, metadata}\n              msg_handler(msg);\n              return messages.next().then(processIteratorResult);\n            }\n            return messages.next().then(processIteratorResult);\n          }\n        }) \n        var sendClosure = (data, metadata, buffers, disposeOnDone) => {\n          return comm_promise.then((comm) => {\n            comm.send(data, metadata, buffers, disposeOnDone);\n          });\n        };\n        var comm = {\n          send: sendClosure\n        };\n      }\n      window.PyViz.comms[comm_id] = comm;\n      return comm;\n    }\n    window.PyViz.comm_manager = new JupyterCommManager();\n    \n\n\nvar JS_MIME_TYPE = 'application/javascript';\nvar HTML_MIME_TYPE = 'text/html';\nvar EXEC_MIME_TYPE = 'application/vnd.holoviews_exec.v0+json';\nvar CLASS_NAME = 'output';\n\n/**\n * Render data to the DOM node\n */\nfunction render(props, node) {\n  var div = document.createElement(\"div\");\n  var script = document.createElement(\"script\");\n  node.appendChild(div);\n  node.appendChild(script);\n}\n\n/**\n * Handle when a new output is added\n */\nfunction handle_add_output(event, handle) {\n  var output_area = handle.output_area;\n  var output = handle.output;\n  if ((output.data == undefined) || (!output.data.hasOwnProperty(EXEC_MIME_TYPE))) {\n    return\n  }\n  var id = output.metadata[EXEC_MIME_TYPE][\"id\"];\n  var toinsert = output_area.element.find(\".\" + CLASS_NAME.split(' ')[0]);\n  if (id !== undefined) {\n    var nchildren = toinsert.length;\n    var html_node = toinsert[nchildren-1].children[0];\n    html_node.innerHTML = output.data[HTML_MIME_TYPE];\n    var scripts = [];\n    var nodelist = html_node.querySelectorAll(\"script\");\n    for (var i in nodelist) {\n      if (nodelist.hasOwnProperty(i)) {\n        scripts.push(nodelist[i])\n      }\n    }\n\n    scripts.forEach( function (oldScript) {\n      var newScript = document.createElement(\"script\");\n      var attrs = [];\n      var nodemap = oldScript.attributes;\n      for (var j in nodemap) {\n        if (nodemap.hasOwnProperty(j)) {\n          attrs.push(nodemap[j])\n        }\n      }\n      attrs.forEach(function(attr) { newScript.setAttribute(attr.name, attr.value) });\n      newScript.appendChild(document.createTextNode(oldScript.innerHTML));\n      oldScript.parentNode.replaceChild(newScript, oldScript);\n    });\n    if (JS_MIME_TYPE in output.data) {\n      toinsert[nchildren-1].children[1].textContent = output.data[JS_MIME_TYPE];\n    }\n    output_area._hv_plot_id = id;\n    if ((window.Bokeh !== undefined) && (id in Bokeh.index)) {\n      window.PyViz.plot_index[id] = Bokeh.index[id];\n    } else {\n      window.PyViz.plot_index[id] = null;\n    }\n  } else if (output.metadata[EXEC_MIME_TYPE][\"server_id\"] !== undefined) {\n    var bk_div = document.createElement(\"div\");\n    bk_div.innerHTML = output.data[HTML_MIME_TYPE];\n    var script_attrs = bk_div.children[0].attributes;\n    for (var i = 0; i < script_attrs.length; i++) {\n      toinsert[toinsert.length - 1].childNodes[1].setAttribute(script_attrs[i].name, script_attrs[i].value);\n    }\n    // store reference to server id on output_area\n    output_area._bokeh_server_id = output.metadata[EXEC_MIME_TYPE][\"server_id\"];\n  }\n}\n\n/**\n * Handle when an output is cleared or removed\n */\nfunction handle_clear_output(event, handle) {\n  var id = handle.cell.output_area._hv_plot_id;\n  var server_id = handle.cell.output_area._bokeh_server_id;\n  if (((id === undefined) || !(id in PyViz.plot_index)) && (server_id !== undefined)) { return; }\n  var comm = window.PyViz.comm_manager.get_client_comm(\"hv-extension-comm\", \"hv-extension-comm\", function () {});\n  if (server_id !== null) {\n    comm.send({event_type: 'server_delete', 'id': server_id});\n    return;\n  } else if (comm !== null) {\n    comm.send({event_type: 'delete', 'id': id});\n  }\n  delete PyViz.plot_index[id];\n  if ((window.Bokeh !== undefined) & (id in window.Bokeh.index)) {\n    var doc = window.Bokeh.index[id].model.document\n    doc.clear();\n    const i = window.Bokeh.documents.indexOf(doc);\n    if (i > -1) {\n      window.Bokeh.documents.splice(i, 1);\n    }\n  }\n}\n\n/**\n * Handle kernel restart event\n */\nfunction handle_kernel_cleanup(event, handle) {\n  delete PyViz.comms[\"hv-extension-comm\"];\n  window.PyViz.plot_index = {}\n}\n\n/**\n * Handle update_display_data messages\n */\nfunction handle_update_output(event, handle) {\n  handle_clear_output(event, {cell: {output_area: handle.output_area}})\n  handle_add_output(event, handle)\n}\n\nfunction register_renderer(events, OutputArea) {\n  function append_mime(data, metadata, element) {\n    // create a DOM node to render to\n    var toinsert = this.create_output_subarea(\n    metadata,\n    CLASS_NAME,\n    EXEC_MIME_TYPE\n    );\n    this.keyboard_manager.register_events(toinsert);\n    // Render to node\n    var props = {data: data, metadata: metadata[EXEC_MIME_TYPE]};\n    render(props, toinsert[0]);\n    element.append(toinsert);\n    return toinsert\n  }\n\n  events.on('output_added.OutputArea', handle_add_output);\n  events.on('output_updated.OutputArea', handle_update_output);\n  events.on('clear_output.CodeCell', handle_clear_output);\n  events.on('delete.Cell', handle_clear_output);\n  events.on('kernel_ready.Kernel', handle_kernel_cleanup);\n\n  OutputArea.prototype.register_mime_type(EXEC_MIME_TYPE, append_mime, {\n    safe: true,\n    index: 0\n  });\n}\n\nif (window.Jupyter !== undefined) {\n  try {\n    var events = require('base/js/events');\n    var OutputArea = require('notebook/js/outputarea').OutputArea;\n    if (OutputArea.prototype.mime_types().indexOf(EXEC_MIME_TYPE) == -1) {\n      register_renderer(events, OutputArea);\n    }\n  } catch(err) {\n  }\n}\n",
            "application/javascript": [
              "\n",
              "if ((window.PyViz === undefined) || (window.PyViz instanceof HTMLElement)) {\n",
              "  window.PyViz = {comms: {}, comm_status:{}, kernels:{}, receivers: {}, plot_index: []}\n",
              "}\n",
              "\n",
              "\n",
              "    function JupyterCommManager() {\n",
              "    }\n",
              "\n",
              "    JupyterCommManager.prototype.register_target = function(plot_id, comm_id, msg_handler) {\n",
              "      if (window.comm_manager || ((window.Jupyter !== undefined) && (Jupyter.notebook.kernel != null))) {\n",
              "        var comm_manager = window.comm_manager || Jupyter.notebook.kernel.comm_manager;\n",
              "        comm_manager.register_target(comm_id, function(comm) {\n",
              "          comm.on_msg(msg_handler);\n",
              "        });\n",
              "      } else if ((plot_id in window.PyViz.kernels) && (window.PyViz.kernels[plot_id])) {\n",
              "        window.PyViz.kernels[plot_id].registerCommTarget(comm_id, function(comm) {\n",
              "          comm.onMsg = msg_handler;\n",
              "        });\n",
              "      } else if (typeof google != 'undefined' && google.colab.kernel != null) {\n",
              "        google.colab.kernel.comms.registerTarget(comm_id, (comm) => {\n",
              "          var messages = comm.messages[Symbol.asyncIterator]();\n",
              "          function processIteratorResult(result) {\n",
              "            var message = result.value;\n",
              "            console.log(message)\n",
              "            var content = {data: message.data, comm_id};\n",
              "            var buffers = []\n",
              "            for (var buffer of message.buffers || []) {\n",
              "              buffers.push(new DataView(buffer))\n",
              "            }\n",
              "            var metadata = message.metadata || {};\n",
              "            var msg = {content, buffers, metadata}\n",
              "            msg_handler(msg);\n",
              "            return messages.next().then(processIteratorResult);\n",
              "          }\n",
              "          return messages.next().then(processIteratorResult);\n",
              "        })\n",
              "      }\n",
              "    }\n",
              "\n",
              "    JupyterCommManager.prototype.get_client_comm = function(plot_id, comm_id, msg_handler) {\n",
              "      if (comm_id in window.PyViz.comms) {\n",
              "        return window.PyViz.comms[comm_id];\n",
              "      } else if (window.comm_manager || ((window.Jupyter !== undefined) && (Jupyter.notebook.kernel != null))) {\n",
              "        var comm_manager = window.comm_manager || Jupyter.notebook.kernel.comm_manager;\n",
              "        var comm = comm_manager.new_comm(comm_id, {}, {}, {}, comm_id);\n",
              "        if (msg_handler) {\n",
              "          comm.on_msg(msg_handler);\n",
              "        }\n",
              "      } else if ((plot_id in window.PyViz.kernels) && (window.PyViz.kernels[plot_id])) {\n",
              "        var comm = window.PyViz.kernels[plot_id].connectToComm(comm_id);\n",
              "        comm.open();\n",
              "        if (msg_handler) {\n",
              "          comm.onMsg = msg_handler;\n",
              "        }\n",
              "      } else if (typeof google != 'undefined' && google.colab.kernel != null) {\n",
              "        var comm_promise = google.colab.kernel.comms.open(comm_id)\n",
              "        comm_promise.then((comm) => {\n",
              "          window.PyViz.comms[comm_id] = comm;\n",
              "          if (msg_handler) {\n",
              "            var messages = comm.messages[Symbol.asyncIterator]();\n",
              "            function processIteratorResult(result) {\n",
              "              var message = result.value;\n",
              "              var content = {data: message.data};\n",
              "              var metadata = message.metadata || {comm_id};\n",
              "              var msg = {content, metadata}\n",
              "              msg_handler(msg);\n",
              "              return messages.next().then(processIteratorResult);\n",
              "            }\n",
              "            return messages.next().then(processIteratorResult);\n",
              "          }\n",
              "        }) \n",
              "        var sendClosure = (data, metadata, buffers, disposeOnDone) => {\n",
              "          return comm_promise.then((comm) => {\n",
              "            comm.send(data, metadata, buffers, disposeOnDone);\n",
              "          });\n",
              "        };\n",
              "        var comm = {\n",
              "          send: sendClosure\n",
              "        };\n",
              "      }\n",
              "      window.PyViz.comms[comm_id] = comm;\n",
              "      return comm;\n",
              "    }\n",
              "    window.PyViz.comm_manager = new JupyterCommManager();\n",
              "    \n",
              "\n",
              "\n",
              "var JS_MIME_TYPE = 'application/javascript';\n",
              "var HTML_MIME_TYPE = 'text/html';\n",
              "var EXEC_MIME_TYPE = 'application/vnd.holoviews_exec.v0+json';\n",
              "var CLASS_NAME = 'output';\n",
              "\n",
              "/**\n",
              " * Render data to the DOM node\n",
              " */\n",
              "function render(props, node) {\n",
              "  var div = document.createElement(\"div\");\n",
              "  var script = document.createElement(\"script\");\n",
              "  node.appendChild(div);\n",
              "  node.appendChild(script);\n",
              "}\n",
              "\n",
              "/**\n",
              " * Handle when a new output is added\n",
              " */\n",
              "function handle_add_output(event, handle) {\n",
              "  var output_area = handle.output_area;\n",
              "  var output = handle.output;\n",
              "  if ((output.data == undefined) || (!output.data.hasOwnProperty(EXEC_MIME_TYPE))) {\n",
              "    return\n",
              "  }\n",
              "  var id = output.metadata[EXEC_MIME_TYPE][\"id\"];\n",
              "  var toinsert = output_area.element.find(\".\" + CLASS_NAME.split(' ')[0]);\n",
              "  if (id !== undefined) {\n",
              "    var nchildren = toinsert.length;\n",
              "    var html_node = toinsert[nchildren-1].children[0];\n",
              "    html_node.innerHTML = output.data[HTML_MIME_TYPE];\n",
              "    var scripts = [];\n",
              "    var nodelist = html_node.querySelectorAll(\"script\");\n",
              "    for (var i in nodelist) {\n",
              "      if (nodelist.hasOwnProperty(i)) {\n",
              "        scripts.push(nodelist[i])\n",
              "      }\n",
              "    }\n",
              "\n",
              "    scripts.forEach( function (oldScript) {\n",
              "      var newScript = document.createElement(\"script\");\n",
              "      var attrs = [];\n",
              "      var nodemap = oldScript.attributes;\n",
              "      for (var j in nodemap) {\n",
              "        if (nodemap.hasOwnProperty(j)) {\n",
              "          attrs.push(nodemap[j])\n",
              "        }\n",
              "      }\n",
              "      attrs.forEach(function(attr) { newScript.setAttribute(attr.name, attr.value) });\n",
              "      newScript.appendChild(document.createTextNode(oldScript.innerHTML));\n",
              "      oldScript.parentNode.replaceChild(newScript, oldScript);\n",
              "    });\n",
              "    if (JS_MIME_TYPE in output.data) {\n",
              "      toinsert[nchildren-1].children[1].textContent = output.data[JS_MIME_TYPE];\n",
              "    }\n",
              "    output_area._hv_plot_id = id;\n",
              "    if ((window.Bokeh !== undefined) && (id in Bokeh.index)) {\n",
              "      window.PyViz.plot_index[id] = Bokeh.index[id];\n",
              "    } else {\n",
              "      window.PyViz.plot_index[id] = null;\n",
              "    }\n",
              "  } else if (output.metadata[EXEC_MIME_TYPE][\"server_id\"] !== undefined) {\n",
              "    var bk_div = document.createElement(\"div\");\n",
              "    bk_div.innerHTML = output.data[HTML_MIME_TYPE];\n",
              "    var script_attrs = bk_div.children[0].attributes;\n",
              "    for (var i = 0; i < script_attrs.length; i++) {\n",
              "      toinsert[toinsert.length - 1].childNodes[1].setAttribute(script_attrs[i].name, script_attrs[i].value);\n",
              "    }\n",
              "    // store reference to server id on output_area\n",
              "    output_area._bokeh_server_id = output.metadata[EXEC_MIME_TYPE][\"server_id\"];\n",
              "  }\n",
              "}\n",
              "\n",
              "/**\n",
              " * Handle when an output is cleared or removed\n",
              " */\n",
              "function handle_clear_output(event, handle) {\n",
              "  var id = handle.cell.output_area._hv_plot_id;\n",
              "  var server_id = handle.cell.output_area._bokeh_server_id;\n",
              "  if (((id === undefined) || !(id in PyViz.plot_index)) && (server_id !== undefined)) { return; }\n",
              "  var comm = window.PyViz.comm_manager.get_client_comm(\"hv-extension-comm\", \"hv-extension-comm\", function () {});\n",
              "  if (server_id !== null) {\n",
              "    comm.send({event_type: 'server_delete', 'id': server_id});\n",
              "    return;\n",
              "  } else if (comm !== null) {\n",
              "    comm.send({event_type: 'delete', 'id': id});\n",
              "  }\n",
              "  delete PyViz.plot_index[id];\n",
              "  if ((window.Bokeh !== undefined) & (id in window.Bokeh.index)) {\n",
              "    var doc = window.Bokeh.index[id].model.document\n",
              "    doc.clear();\n",
              "    const i = window.Bokeh.documents.indexOf(doc);\n",
              "    if (i > -1) {\n",
              "      window.Bokeh.documents.splice(i, 1);\n",
              "    }\n",
              "  }\n",
              "}\n",
              "\n",
              "/**\n",
              " * Handle kernel restart event\n",
              " */\n",
              "function handle_kernel_cleanup(event, handle) {\n",
              "  delete PyViz.comms[\"hv-extension-comm\"];\n",
              "  window.PyViz.plot_index = {}\n",
              "}\n",
              "\n",
              "/**\n",
              " * Handle update_display_data messages\n",
              " */\n",
              "function handle_update_output(event, handle) {\n",
              "  handle_clear_output(event, {cell: {output_area: handle.output_area}})\n",
              "  handle_add_output(event, handle)\n",
              "}\n",
              "\n",
              "function register_renderer(events, OutputArea) {\n",
              "  function append_mime(data, metadata, element) {\n",
              "    // create a DOM node to render to\n",
              "    var toinsert = this.create_output_subarea(\n",
              "    metadata,\n",
              "    CLASS_NAME,\n",
              "    EXEC_MIME_TYPE\n",
              "    );\n",
              "    this.keyboard_manager.register_events(toinsert);\n",
              "    // Render to node\n",
              "    var props = {data: data, metadata: metadata[EXEC_MIME_TYPE]};\n",
              "    render(props, toinsert[0]);\n",
              "    element.append(toinsert);\n",
              "    return toinsert\n",
              "  }\n",
              "\n",
              "  events.on('output_added.OutputArea', handle_add_output);\n",
              "  events.on('output_updated.OutputArea', handle_update_output);\n",
              "  events.on('clear_output.CodeCell', handle_clear_output);\n",
              "  events.on('delete.Cell', handle_clear_output);\n",
              "  events.on('kernel_ready.Kernel', handle_kernel_cleanup);\n",
              "\n",
              "  OutputArea.prototype.register_mime_type(EXEC_MIME_TYPE, append_mime, {\n",
              "    safe: true,\n",
              "    index: 0\n",
              "  });\n",
              "}\n",
              "\n",
              "if (window.Jupyter !== undefined) {\n",
              "  try {\n",
              "    var events = require('base/js/events');\n",
              "    var OutputArea = require('notebook/js/outputarea').OutputArea;\n",
              "    if (OutputArea.prototype.mime_types().indexOf(EXEC_MIME_TYPE) == -1) {\n",
              "      register_renderer(events, OutputArea);\n",
              "    }\n",
              "  } catch(err) {\n",
              "  }\n",
              "}\n"
            ]
          },
          "metadata": {}
        },
        {
          "output_type": "display_data",
          "data": {
            "text/html": [
              "<style>*[data-root-id],\n",
              "*[data-root-id] > * {\n",
              "  box-sizing: border-box;\n",
              "  font-family: var(--jp-ui-font-family);\n",
              "  font-size: var(--jp-ui-font-size1);\n",
              "  color: var(--vscode-editor-foreground, var(--jp-ui-font-color1));\n",
              "}\n",
              "\n",
              "/* Override VSCode background color */\n",
              ".cell-output-ipywidget-background:has(\n",
              "    > .cell-output-ipywidget-background > .lm-Widget > *[data-root-id]\n",
              "  ),\n",
              ".cell-output-ipywidget-background:has(> .lm-Widget > *[data-root-id]) {\n",
              "  background-color: transparent !important;\n",
              "}\n",
              "</style>"
            ]
          },
          "metadata": {}
        },
        {
          "output_type": "display_data",
          "data": {},
          "metadata": {}
        },
        {
          "output_type": "execute_result",
          "data": {
            "text/html": [
              "<div id='875ae3f7-b884-4a50-81df-43840f3c8c23'>\n",
              "  <div id=\"d24648f7-5780-4094-9934-71e32833e6e8\" data-root-id=\"875ae3f7-b884-4a50-81df-43840f3c8c23\" style=\"display: contents;\"></div>\n",
              "</div>\n",
              "<script type=\"application/javascript\">(function(root) {\n",
              "  var docs_json = {\"29f16b2d-0e16-498c-a4cf-4b488b3d2447\":{\"version\":\"3.3.1\",\"title\":\"Bokeh Application\",\"roots\":[{\"type\":\"object\",\"name\":\"panel.models.layout.Column\",\"id\":\"875ae3f7-b884-4a50-81df-43840f3c8c23\",\"attributes\":{\"name\":\"Column00184\",\"stylesheets\":[\"\\n:host(.pn-loading.pn-arc):before, .pn-loading.pn-arc:before {\\n  background-image: url(\\\"data:image/svg+xml;base64,PHN2ZyB4bWxucz0iaHR0cDovL3d3dy53My5vcmcvMjAwMC9zdmciIHN0eWxlPSJtYXJnaW46IGF1dG87IGJhY2tncm91bmQ6IG5vbmU7IGRpc3BsYXk6IGJsb2NrOyBzaGFwZS1yZW5kZXJpbmc6IGF1dG87IiB2aWV3Qm94PSIwIDAgMTAwIDEwMCIgcHJlc2VydmVBc3BlY3RSYXRpbz0ieE1pZFlNaWQiPiAgPGNpcmNsZSBjeD0iNTAiIGN5PSI1MCIgZmlsbD0ibm9uZSIgc3Ryb2tlPSIjYzNjM2MzIiBzdHJva2Utd2lkdGg9IjEwIiByPSIzNSIgc3Ryb2tlLWRhc2hhcnJheT0iMTY0LjkzMzYxNDMxMzQ2NDE1IDU2Ljk3Nzg3MTQzNzgyMTM4Ij4gICAgPGFuaW1hdGVUcmFuc2Zvcm0gYXR0cmlidXRlTmFtZT0idHJhbnNmb3JtIiB0eXBlPSJyb3RhdGUiIHJlcGVhdENvdW50PSJpbmRlZmluaXRlIiBkdXI9IjFzIiB2YWx1ZXM9IjAgNTAgNTA7MzYwIDUwIDUwIiBrZXlUaW1lcz0iMDsxIj48L2FuaW1hdGVUcmFuc2Zvcm0+ICA8L2NpcmNsZT48L3N2Zz4=\\\");\\n  background-size: auto calc(min(50%, 400px));\\n}\",{\"type\":\"object\",\"name\":\"ImportedStyleSheet\",\"id\":\"848b1e6e-00cc-45f5-8138-b32eb301dccf\",\"attributes\":{\"url\":\"https://cdn.holoviz.org/panel/1.3.4/dist/css/loading.css\"}},{\"type\":\"object\",\"name\":\"ImportedStyleSheet\",\"id\":\"a3f65278-97a4-4003-93a8-d42da149c345\",\"attributes\":{\"url\":\"https://cdn.holoviz.org/panel/1.3.4/dist/css/listpanel.css\"}},{\"type\":\"object\",\"name\":\"ImportedStyleSheet\",\"id\":\"7d7dea17-0a8e-437b-98c2-60d9d869e6de\",\"attributes\":{\"url\":\"https://cdn.holoviz.org/panel/1.3.4/dist/bundled/theme/default.css\"}},{\"type\":\"object\",\"name\":\"ImportedStyleSheet\",\"id\":\"243ec149-f7ee-479e-82c5-4b4d496cb3a9\",\"attributes\":{\"url\":\"https://cdn.holoviz.org/panel/1.3.4/dist/bundled/theme/native.css\"}}],\"margin\":0,\"align\":\"start\",\"children\":[{\"type\":\"object\",\"name\":\"TextInput\",\"id\":\"e7339c04-f82a-4f63-801c-2b70f1842d1b\",\"attributes\":{\"stylesheets\":[\"\\n:host(.pn-loading.pn-arc):before, .pn-loading.pn-arc:before {\\n  background-image: url(\\\"data:image/svg+xml;base64,PHN2ZyB4bWxucz0iaHR0cDovL3d3dy53My5vcmcvMjAwMC9zdmciIHN0eWxlPSJtYXJnaW46IGF1dG87IGJhY2tncm91bmQ6IG5vbmU7IGRpc3BsYXk6IGJsb2NrOyBzaGFwZS1yZW5kZXJpbmc6IGF1dG87IiB2aWV3Qm94PSIwIDAgMTAwIDEwMCIgcHJlc2VydmVBc3BlY3RSYXRpbz0ieE1pZFlNaWQiPiAgPGNpcmNsZSBjeD0iNTAiIGN5PSI1MCIgZmlsbD0ibm9uZSIgc3Ryb2tlPSIjYzNjM2MzIiBzdHJva2Utd2lkdGg9IjEwIiByPSIzNSIgc3Ryb2tlLWRhc2hhcnJheT0iMTY0LjkzMzYxNDMxMzQ2NDE1IDU2Ljk3Nzg3MTQzNzgyMTM4Ij4gICAgPGFuaW1hdGVUcmFuc2Zvcm0gYXR0cmlidXRlTmFtZT0idHJhbnNmb3JtIiB0eXBlPSJyb3RhdGUiIHJlcGVhdENvdW50PSJpbmRlZmluaXRlIiBkdXI9IjFzIiB2YWx1ZXM9IjAgNTAgNTA7MzYwIDUwIDUwIiBrZXlUaW1lcz0iMDsxIj48L2FuaW1hdGVUcmFuc2Zvcm0+ICA8L2NpcmNsZT48L3N2Zz4=\\\");\\n  background-size: auto calc(min(50%, 400px));\\n}\",{\"id\":\"848b1e6e-00cc-45f5-8138-b32eb301dccf\"},{\"id\":\"7d7dea17-0a8e-437b-98c2-60d9d869e6de\"},{\"id\":\"243ec149-f7ee-479e-82c5-4b4d496cb3a9\"}],\"width\":300,\"min_width\":300,\"margin\":[5,10],\"align\":\"start\",\"placeholder\":\"Enter text here\\u2026\",\"max_length\":5000}},{\"type\":\"object\",\"name\":\"Row\",\"id\":\"8806ed90-eb8c-4f5c-92b1-b4f7958f1875\",\"attributes\":{\"name\":\"Row00129\",\"stylesheets\":[\"\\n:host(.pn-loading.pn-arc):before, .pn-loading.pn-arc:before {\\n  background-image: url(\\\"data:image/svg+xml;base64,PHN2ZyB4bWxucz0iaHR0cDovL3d3dy53My5vcmcvMjAwMC9zdmciIHN0eWxlPSJtYXJnaW46IGF1dG87IGJhY2tncm91bmQ6IG5vbmU7IGRpc3BsYXk6IGJsb2NrOyBzaGFwZS1yZW5kZXJpbmc6IGF1dG87IiB2aWV3Qm94PSIwIDAgMTAwIDEwMCIgcHJlc2VydmVBc3BlY3RSYXRpbz0ieE1pZFlNaWQiPiAgPGNpcmNsZSBjeD0iNTAiIGN5PSI1MCIgZmlsbD0ibm9uZSIgc3Ryb2tlPSIjYzNjM2MzIiBzdHJva2Utd2lkdGg9IjEwIiByPSIzNSIgc3Ryb2tlLWRhc2hhcnJheT0iMTY0LjkzMzYxNDMxMzQ2NDE1IDU2Ljk3Nzg3MTQzNzgyMTM4Ij4gICAgPGFuaW1hdGVUcmFuc2Zvcm0gYXR0cmlidXRlTmFtZT0idHJhbnNmb3JtIiB0eXBlPSJyb3RhdGUiIHJlcGVhdENvdW50PSJpbmRlZmluaXRlIiBkdXI9IjFzIiB2YWx1ZXM9IjAgNTAgNTA7MzYwIDUwIDUwIiBrZXlUaW1lcz0iMDsxIj48L2FuaW1hdGVUcmFuc2Zvcm0+ICA8L2NpcmNsZT48L3N2Zz4=\\\");\\n  background-size: auto calc(min(50%, 400px));\\n}\",{\"id\":\"848b1e6e-00cc-45f5-8138-b32eb301dccf\"},{\"id\":\"a3f65278-97a4-4003-93a8-d42da149c345\"},{\"id\":\"7d7dea17-0a8e-437b-98c2-60d9d869e6de\"},{\"id\":\"243ec149-f7ee-479e-82c5-4b4d496cb3a9\"}],\"margin\":0,\"align\":\"start\",\"children\":[{\"type\":\"object\",\"name\":\"panel.models.widgets.Button\",\"id\":\"018d5464-e320-48a0-8009-58b04a556876\",\"attributes\":{\"js_event_callbacks\":{\"type\":\"map\",\"entries\":[[\"button_click\",[{\"type\":\"object\",\"name\":\"CustomJS\",\"id\":\"cb1352e1-807e-403d-8b7b-042c4e0864ff\",\"attributes\":{\"tags\":[[139554459081440,[null,\"event:button_click\"],[null,\"loading\"]]],\"args\":{\"type\":\"map\",\"entries\":[[\"bidirectional\",false],[\"properties\",{\"type\":\"map\",\"entries\":[[\"event:button_click\",\"loading\"]]}],[\"source\",{\"id\":\"018d5464-e320-48a0-8009-58b04a556876\"}],[\"target\",{\"type\":\"object\",\"name\":\"panel.models.layout.Column\",\"id\":\"4bf3befd-635c-4814-9b72-ddae28e3becf\",\"attributes\":{\"name\":\"Column00144\",\"stylesheets\":[\"\\n:host(.pn-loading.pn-arc):before, .pn-loading.pn-arc:before {\\n  background-image: url(\\\"data:image/svg+xml;base64,PHN2ZyB4bWxucz0iaHR0cDovL3d3dy53My5vcmcvMjAwMC9zdmciIHN0eWxlPSJtYXJnaW46IGF1dG87IGJhY2tncm91bmQ6IG5vbmU7IGRpc3BsYXk6IGJsb2NrOyBzaGFwZS1yZW5kZXJpbmc6IGF1dG87IiB2aWV3Qm94PSIwIDAgMTAwIDEwMCIgcHJlc2VydmVBc3BlY3RSYXRpbz0ieE1pZFlNaWQiPiAgPGNpcmNsZSBjeD0iNTAiIGN5PSI1MCIgZmlsbD0ibm9uZSIgc3Ryb2tlPSIjYzNjM2MzIiBzdHJva2Utd2lkdGg9IjEwIiByPSIzNSIgc3Ryb2tlLWRhc2hhcnJheT0iMTY0LjkzMzYxNDMxMzQ2NDE1IDU2Ljk3Nzg3MTQzNzgyMTM4Ij4gICAgPGFuaW1hdGVUcmFuc2Zvcm0gYXR0cmlidXRlTmFtZT0idHJhbnNmb3JtIiB0eXBlPSJyb3RhdGUiIHJlcGVhdENvdW50PSJpbmRlZmluaXRlIiBkdXI9IjFzIiB2YWx1ZXM9IjAgNTAgNTA7MzYwIDUwIDUwIiBrZXlUaW1lcz0iMDsxIj48L2FuaW1hdGVUcmFuc2Zvcm0+ICA8L2NpcmNsZT48L3N2Zz4=\\\");\\n  background-size: auto calc(min(50%, 400px));\\n}\",{\"id\":\"848b1e6e-00cc-45f5-8138-b32eb301dccf\"},{\"id\":\"a3f65278-97a4-4003-93a8-d42da149c345\"},{\"id\":\"7d7dea17-0a8e-437b-98c2-60d9d869e6de\"},{\"id\":\"243ec149-f7ee-479e-82c5-4b4d496cb3a9\"}],\"height\":300,\"min_height\":300,\"margin\":0,\"align\":\"start\",\"children\":[{\"type\":\"object\",\"name\":\"panel.models.layout.Column\",\"id\":\"121ea6e2-39e3-4550-aaba-ff36a309686f\",\"attributes\":{\"name\":\"Column00178\",\"stylesheets\":[\"\\n:host(.pn-loading.pn-arc):before, .pn-loading.pn-arc:before {\\n  background-image: url(\\\"data:image/svg+xml;base64,PHN2ZyB4bWxucz0iaHR0cDovL3d3dy53My5vcmcvMjAwMC9zdmciIHN0eWxlPSJtYXJnaW46IGF1dG87IGJhY2tncm91bmQ6IG5vbmU7IGRpc3BsYXk6IGJsb2NrOyBzaGFwZS1yZW5kZXJpbmc6IGF1dG87IiB2aWV3Qm94PSIwIDAgMTAwIDEwMCIgcHJlc2VydmVBc3BlY3RSYXRpbz0ieE1pZFlNaWQiPiAgPGNpcmNsZSBjeD0iNTAiIGN5PSI1MCIgZmlsbD0ibm9uZSIgc3Ryb2tlPSIjYzNjM2MzIiBzdHJva2Utd2lkdGg9IjEwIiByPSIzNSIgc3Ryb2tlLWRhc2hhcnJheT0iMTY0LjkzMzYxNDMxMzQ2NDE1IDU2Ljk3Nzg3MTQzNzgyMTM4Ij4gICAgPGFuaW1hdGVUcmFuc2Zvcm0gYXR0cmlidXRlTmFtZT0idHJhbnNmb3JtIiB0eXBlPSJyb3RhdGUiIHJlcGVhdENvdW50PSJpbmRlZmluaXRlIiBkdXI9IjFzIiB2YWx1ZXM9IjAgNTAgNTA7MzYwIDUwIDUwIiBrZXlUaW1lcz0iMDsxIj48L2FuaW1hdGVUcmFuc2Zvcm0+ICA8L2NpcmNsZT48L3N2Zz4=\\\");\\n  background-size: auto calc(min(50%, 400px));\\n}\",{\"id\":\"848b1e6e-00cc-45f5-8138-b32eb301dccf\"},{\"id\":\"a3f65278-97a4-4003-93a8-d42da149c345\"},{\"id\":\"7d7dea17-0a8e-437b-98c2-60d9d869e6de\"},{\"id\":\"243ec149-f7ee-479e-82c5-4b4d496cb3a9\"}],\"margin\":0,\"align\":\"start\",\"children\":[{\"type\":\"object\",\"name\":\"Row\",\"id\":\"f02a2a18-e96e-4569-911b-851d3f0e3069\",\"attributes\":{\"name\":\"Row00160\",\"stylesheets\":[\"\\n:host(.pn-loading.pn-arc):before, .pn-loading.pn-arc:before {\\n  background-image: url(\\\"data:image/svg+xml;base64,PHN2ZyB4bWxucz0iaHR0cDovL3d3dy53My5vcmcvMjAwMC9zdmciIHN0eWxlPSJtYXJnaW46IGF1dG87IGJhY2tncm91bmQ6IG5vbmU7IGRpc3BsYXk6IGJsb2NrOyBzaGFwZS1yZW5kZXJpbmc6IGF1dG87IiB2aWV3Qm94PSIwIDAgMTAwIDEwMCIgcHJlc2VydmVBc3BlY3RSYXRpbz0ieE1pZFlNaWQiPiAgPGNpcmNsZSBjeD0iNTAiIGN5PSI1MCIgZmlsbD0ibm9uZSIgc3Ryb2tlPSIjYzNjM2MzIiBzdHJva2Utd2lkdGg9IjEwIiByPSIzNSIgc3Ryb2tlLWRhc2hhcnJheT0iMTY0LjkzMzYxNDMxMzQ2NDE1IDU2Ljk3Nzg3MTQzNzgyMTM4Ij4gICAgPGFuaW1hdGVUcmFuc2Zvcm0gYXR0cmlidXRlTmFtZT0idHJhbnNmb3JtIiB0eXBlPSJyb3RhdGUiIHJlcGVhdENvdW50PSJpbmRlZmluaXRlIiBkdXI9IjFzIiB2YWx1ZXM9IjAgNTAgNTA7MzYwIDUwIDUwIiBrZXlUaW1lcz0iMDsxIj48L2FuaW1hdGVUcmFuc2Zvcm0+ICA8L2NpcmNsZT48L3N2Zz4=\\\");\\n  background-size: auto calc(min(50%, 400px));\\n}\",{\"id\":\"848b1e6e-00cc-45f5-8138-b32eb301dccf\"},{\"id\":\"a3f65278-97a4-4003-93a8-d42da149c345\"},{\"id\":\"7d7dea17-0a8e-437b-98c2-60d9d869e6de\"},{\"id\":\"243ec149-f7ee-479e-82c5-4b4d496cb3a9\"}],\"margin\":0,\"align\":\"start\",\"children\":[{\"type\":\"object\",\"name\":\"panel.models.markup.HTML\",\"id\":\"2014501a-1933-43f1-a7dc-cac38ab70890\",\"attributes\":{\"css_classes\":[\"markdown\"],\"stylesheets\":[\"\\n:host(.pn-loading.pn-arc):before, .pn-loading.pn-arc:before {\\n  background-image: url(\\\"data:image/svg+xml;base64,PHN2ZyB4bWxucz0iaHR0cDovL3d3dy53My5vcmcvMjAwMC9zdmciIHN0eWxlPSJtYXJnaW46IGF1dG87IGJhY2tncm91bmQ6IG5vbmU7IGRpc3BsYXk6IGJsb2NrOyBzaGFwZS1yZW5kZXJpbmc6IGF1dG87IiB2aWV3Qm94PSIwIDAgMTAwIDEwMCIgcHJlc2VydmVBc3BlY3RSYXRpbz0ieE1pZFlNaWQiPiAgPGNpcmNsZSBjeD0iNTAiIGN5PSI1MCIgZmlsbD0ibm9uZSIgc3Ryb2tlPSIjYzNjM2MzIiBzdHJva2Utd2lkdGg9IjEwIiByPSIzNSIgc3Ryb2tlLWRhc2hhcnJheT0iMTY0LjkzMzYxNDMxMzQ2NDE1IDU2Ljk3Nzg3MTQzNzgyMTM4Ij4gICAgPGFuaW1hdGVUcmFuc2Zvcm0gYXR0cmlidXRlTmFtZT0idHJhbnNmb3JtIiB0eXBlPSJyb3RhdGUiIHJlcGVhdENvdW50PSJpbmRlZmluaXRlIiBkdXI9IjFzIiB2YWx1ZXM9IjAgNTAgNTA7MzYwIDUwIDUwIiBrZXlUaW1lcz0iMDsxIj48L2FuaW1hdGVUcmFuc2Zvcm0+ICA8L2NpcmNsZT48L3N2Zz4=\\\");\\n  background-size: auto calc(min(50%, 400px));\\n}\",{\"id\":\"848b1e6e-00cc-45f5-8138-b32eb301dccf\"},{\"type\":\"object\",\"name\":\"ImportedStyleSheet\",\"id\":\"1f752d4e-385c-40f4-a9fc-9e1797cfb12a\",\"attributes\":{\"url\":\"https://cdn.holoviz.org/panel/1.3.4/dist/css/markdown.css\"}},{\"id\":\"7d7dea17-0a8e-437b-98c2-60d9d869e6de\"},{\"id\":\"243ec149-f7ee-479e-82c5-4b4d496cb3a9\"}],\"margin\":[5,10],\"align\":\"start\",\"text\":\"&lt;p&gt;User:&lt;/p&gt;\\n\"}},{\"type\":\"object\",\"name\":\"panel.models.markup.HTML\",\"id\":\"7f8f3c8c-c810-4660-a290-786ebbacc3d5\",\"attributes\":{\"css_classes\":[\"markdown\"],\"stylesheets\":[\"\\n:host(.pn-loading.pn-arc):before, .pn-loading.pn-arc:before {\\n  background-image: url(\\\"data:image/svg+xml;base64,PHN2ZyB4bWxucz0iaHR0cDovL3d3dy53My5vcmcvMjAwMC9zdmciIHN0eWxlPSJtYXJnaW46IGF1dG87IGJhY2tncm91bmQ6IG5vbmU7IGRpc3BsYXk6IGJsb2NrOyBzaGFwZS1yZW5kZXJpbmc6IGF1dG87IiB2aWV3Qm94PSIwIDAgMTAwIDEwMCIgcHJlc2VydmVBc3BlY3RSYXRpbz0ieE1pZFlNaWQiPiAgPGNpcmNsZSBjeD0iNTAiIGN5PSI1MCIgZmlsbD0ibm9uZSIgc3Ryb2tlPSIjYzNjM2MzIiBzdHJva2Utd2lkdGg9IjEwIiByPSIzNSIgc3Ryb2tlLWRhc2hhcnJheT0iMTY0LjkzMzYxNDMxMzQ2NDE1IDU2Ljk3Nzg3MTQzNzgyMTM4Ij4gICAgPGFuaW1hdGVUcmFuc2Zvcm0gYXR0cmlidXRlTmFtZT0idHJhbnNmb3JtIiB0eXBlPSJyb3RhdGUiIHJlcGVhdENvdW50PSJpbmRlZmluaXRlIiBkdXI9IjFzIiB2YWx1ZXM9IjAgNTAgNTA7MzYwIDUwIDUwIiBrZXlUaW1lcz0iMDsxIj48L2FuaW1hdGVUcmFuc2Zvcm0+ICA8L2NpcmNsZT48L3N2Zz4=\\\");\\n  background-size: auto calc(min(50%, 400px));\\n}\",{\"id\":\"848b1e6e-00cc-45f5-8138-b32eb301dccf\"},{\"id\":\"1f752d4e-385c-40f4-a9fc-9e1797cfb12a\"},{\"id\":\"7d7dea17-0a8e-437b-98c2-60d9d869e6de\"},{\"id\":\"243ec149-f7ee-479e-82c5-4b4d496cb3a9\"}],\"width\":600,\"min_width\":600,\"margin\":[5,10],\"align\":\"start\"}}]}},{\"type\":\"object\",\"name\":\"Row\",\"id\":\"f2827635-5df5-49bf-bc9d-1df755bd208f\",\"attributes\":{\"name\":\"Row00175\",\"stylesheets\":[\"\\n:host(.pn-loading.pn-arc):before, .pn-loading.pn-arc:before {\\n  background-image: url(\\\"data:image/svg+xml;base64,PHN2ZyB4bWxucz0iaHR0cDovL3d3dy53My5vcmcvMjAwMC9zdmciIHN0eWxlPSJtYXJnaW46IGF1dG87IGJhY2tncm91bmQ6IG5vbmU7IGRpc3BsYXk6IGJsb2NrOyBzaGFwZS1yZW5kZXJpbmc6IGF1dG87IiB2aWV3Qm94PSIwIDAgMTAwIDEwMCIgcHJlc2VydmVBc3BlY3RSYXRpbz0ieE1pZFlNaWQiPiAgPGNpcmNsZSBjeD0iNTAiIGN5PSI1MCIgZmlsbD0ibm9uZSIgc3Ryb2tlPSIjYzNjM2MzIiBzdHJva2Utd2lkdGg9IjEwIiByPSIzNSIgc3Ryb2tlLWRhc2hhcnJheT0iMTY0LjkzMzYxNDMxMzQ2NDE1IDU2Ljk3Nzg3MTQzNzgyMTM4Ij4gICAgPGFuaW1hdGVUcmFuc2Zvcm0gYXR0cmlidXRlTmFtZT0idHJhbnNmb3JtIiB0eXBlPSJyb3RhdGUiIHJlcGVhdENvdW50PSJpbmRlZmluaXRlIiBkdXI9IjFzIiB2YWx1ZXM9IjAgNTAgNTA7MzYwIDUwIDUwIiBrZXlUaW1lcz0iMDsxIj48L2FuaW1hdGVUcmFuc2Zvcm0+ICA8L2NpcmNsZT48L3N2Zz4=\\\");\\n  background-size: auto calc(min(50%, 400px));\\n}\",{\"id\":\"848b1e6e-00cc-45f5-8138-b32eb301dccf\"},{\"id\":\"a3f65278-97a4-4003-93a8-d42da149c345\"},{\"id\":\"7d7dea17-0a8e-437b-98c2-60d9d869e6de\"},{\"id\":\"243ec149-f7ee-479e-82c5-4b4d496cb3a9\"}],\"margin\":0,\"align\":\"start\",\"children\":[{\"type\":\"object\",\"name\":\"panel.models.markup.HTML\",\"id\":\"cabe8896-55fd-4e23-9f1e-e326336661ad\",\"attributes\":{\"css_classes\":[\"markdown\"],\"stylesheets\":[\"\\n:host(.pn-loading.pn-arc):before, .pn-loading.pn-arc:before {\\n  background-image: url(\\\"data:image/svg+xml;base64,PHN2ZyB4bWxucz0iaHR0cDovL3d3dy53My5vcmcvMjAwMC9zdmciIHN0eWxlPSJtYXJnaW46IGF1dG87IGJhY2tncm91bmQ6IG5vbmU7IGRpc3BsYXk6IGJsb2NrOyBzaGFwZS1yZW5kZXJpbmc6IGF1dG87IiB2aWV3Qm94PSIwIDAgMTAwIDEwMCIgcHJlc2VydmVBc3BlY3RSYXRpbz0ieE1pZFlNaWQiPiAgPGNpcmNsZSBjeD0iNTAiIGN5PSI1MCIgZmlsbD0ibm9uZSIgc3Ryb2tlPSIjYzNjM2MzIiBzdHJva2Utd2lkdGg9IjEwIiByPSIzNSIgc3Ryb2tlLWRhc2hhcnJheT0iMTY0LjkzMzYxNDMxMzQ2NDE1IDU2Ljk3Nzg3MTQzNzgyMTM4Ij4gICAgPGFuaW1hdGVUcmFuc2Zvcm0gYXR0cmlidXRlTmFtZT0idHJhbnNmb3JtIiB0eXBlPSJyb3RhdGUiIHJlcGVhdENvdW50PSJpbmRlZmluaXRlIiBkdXI9IjFzIiB2YWx1ZXM9IjAgNTAgNTA7MzYwIDUwIDUwIiBrZXlUaW1lcz0iMDsxIj48L2FuaW1hdGVUcmFuc2Zvcm0+ICA8L2NpcmNsZT48L3N2Zz4=\\\");\\n  background-size: auto calc(min(50%, 400px));\\n}\",{\"id\":\"848b1e6e-00cc-45f5-8138-b32eb301dccf\"},{\"id\":\"1f752d4e-385c-40f4-a9fc-9e1797cfb12a\"},{\"id\":\"7d7dea17-0a8e-437b-98c2-60d9d869e6de\"},{\"id\":\"243ec149-f7ee-479e-82c5-4b4d496cb3a9\"}],\"margin\":[5,10],\"align\":\"start\",\"text\":\"&lt;p&gt;Assistant:&lt;/p&gt;\\n\"}},{\"type\":\"object\",\"name\":\"panel.models.markup.HTML\",\"id\":\"b8b1b822-619b-4ae2-b2a7-c624bf81f954\",\"attributes\":{\"css_classes\":[\"markdown\"],\"styles\":{\"type\":\"map\",\"entries\":[[\"background-color\",\"#F6F6F6\"]]},\"stylesheets\":[\"\\n:host(.pn-loading.pn-arc):before, .pn-loading.pn-arc:before {\\n  background-image: url(\\\"data:image/svg+xml;base64,PHN2ZyB4bWxucz0iaHR0cDovL3d3dy53My5vcmcvMjAwMC9zdmciIHN0eWxlPSJtYXJnaW46IGF1dG87IGJhY2tncm91bmQ6IG5vbmU7IGRpc3BsYXk6IGJsb2NrOyBzaGFwZS1yZW5kZXJpbmc6IGF1dG87IiB2aWV3Qm94PSIwIDAgMTAwIDEwMCIgcHJlc2VydmVBc3BlY3RSYXRpbz0ieE1pZFlNaWQiPiAgPGNpcmNsZSBjeD0iNTAiIGN5PSI1MCIgZmlsbD0ibm9uZSIgc3Ryb2tlPSIjYzNjM2MzIiBzdHJva2Utd2lkdGg9IjEwIiByPSIzNSIgc3Ryb2tlLWRhc2hhcnJheT0iMTY0LjkzMzYxNDMxMzQ2NDE1IDU2Ljk3Nzg3MTQzNzgyMTM4Ij4gICAgPGFuaW1hdGVUcmFuc2Zvcm0gYXR0cmlidXRlTmFtZT0idHJhbnNmb3JtIiB0eXBlPSJyb3RhdGUiIHJlcGVhdENvdW50PSJpbmRlZmluaXRlIiBkdXI9IjFzIiB2YWx1ZXM9IjAgNTAgNTA7MzYwIDUwIDUwIiBrZXlUaW1lcz0iMDsxIj48L2FuaW1hdGVUcmFuc2Zvcm0+ICA8L2NpcmNsZT48L3N2Zz4=\\\");\\n  background-size: auto calc(min(50%, 400px));\\n}\",{\"id\":\"848b1e6e-00cc-45f5-8138-b32eb301dccf\"},{\"id\":\"1f752d4e-385c-40f4-a9fc-9e1797cfb12a\"},{\"id\":\"7d7dea17-0a8e-437b-98c2-60d9d869e6de\"},{\"id\":\"243ec149-f7ee-479e-82c5-4b4d496cb3a9\"}],\"width\":600,\"min_width\":600,\"margin\":[5,10],\"align\":\"start\",\"text\":\"&lt;p&gt;Hello! Welcome to our pizza restaurant. How can I assist you today?&lt;/p&gt;\\n\"}}]}}]}}]}}]]},\"code\":\"\\n    if ('event:button_click'.startsWith('event:')) {\\n      var value = true\\n    } else {\\n      var value = source['event:button_click'];\\n      value = value;\\n    }\\n    if (typeof value !== 'boolean' || source.labels !== ['Loading']) {\\n      value = true\\n    }\\n    var css_classes = target.css_classes.slice()\\n    var loading_css = ['pn-loading', 'pn-arc']\\n    if (value) {\\n      for (var css of loading_css) {\\n        if (!(css in css_classes)) {\\n          css_classes.push(css)\\n        }\\n      }\\n    } else {\\n     for (var css of loading_css) {\\n        var index = css_classes.indexOf(css)\\n        if (index > -1) {\\n          css_classes.splice(index, 1)\\n        }\\n      }\\n    }\\n    target['css_classes'] = css_classes\\n    \"}}]]]},\"subscribed_events\":{\"type\":\"set\",\"entries\":[\"button_click\"]},\"css_classes\":[\"solid\"],\"stylesheets\":[\"\\n:host(.pn-loading.pn-arc):before, .pn-loading.pn-arc:before {\\n  background-image: url(\\\"data:image/svg+xml;base64,PHN2ZyB4bWxucz0iaHR0cDovL3d3dy53My5vcmcvMjAwMC9zdmciIHN0eWxlPSJtYXJnaW46IGF1dG87IGJhY2tncm91bmQ6IG5vbmU7IGRpc3BsYXk6IGJsb2NrOyBzaGFwZS1yZW5kZXJpbmc6IGF1dG87IiB2aWV3Qm94PSIwIDAgMTAwIDEwMCIgcHJlc2VydmVBc3BlY3RSYXRpbz0ieE1pZFlNaWQiPiAgPGNpcmNsZSBjeD0iNTAiIGN5PSI1MCIgZmlsbD0ibm9uZSIgc3Ryb2tlPSIjYzNjM2MzIiBzdHJva2Utd2lkdGg9IjEwIiByPSIzNSIgc3Ryb2tlLWRhc2hhcnJheT0iMTY0LjkzMzYxNDMxMzQ2NDE1IDU2Ljk3Nzg3MTQzNzgyMTM4Ij4gICAgPGFuaW1hdGVUcmFuc2Zvcm0gYXR0cmlidXRlTmFtZT0idHJhbnNmb3JtIiB0eXBlPSJyb3RhdGUiIHJlcGVhdENvdW50PSJpbmRlZmluaXRlIiBkdXI9IjFzIiB2YWx1ZXM9IjAgNTAgNTA7MzYwIDUwIDUwIiBrZXlUaW1lcz0iMDsxIj48L2FuaW1hdGVUcmFuc2Zvcm0+ICA8L2NpcmNsZT48L3N2Zz4=\\\");\\n  background-size: auto calc(min(50%, 400px));\\n}\",{\"id\":\"848b1e6e-00cc-45f5-8138-b32eb301dccf\"},{\"type\":\"object\",\"name\":\"ImportedStyleSheet\",\"id\":\"2986f8b1-ef83-4d8b-9f18-384a09884605\",\"attributes\":{\"url\":\"https://cdn.holoviz.org/panel/1.3.4/dist/css/button.css\"}},{\"id\":\"7d7dea17-0a8e-437b-98c2-60d9d869e6de\"},{\"id\":\"243ec149-f7ee-479e-82c5-4b4d496cb3a9\"}],\"margin\":[5,10],\"align\":\"start\",\"label\":\"Chat!\"}}]}},{\"id\":\"4bf3befd-635c-4814-9b72-ddae28e3becf\"}]}},{\"type\":\"object\",\"name\":\"panel.models.comm_manager.CommManager\",\"id\":\"ba0b5d17-27d8-4fc8-8ed8-0d9a898c057d\",\"attributes\":{\"plot_id\":\"875ae3f7-b884-4a50-81df-43840f3c8c23\",\"comm_id\":\"df968c6db3e74a1883296f746a73d1be\",\"client_comm_id\":\"5b8841727441437c951bbaefe0226daf\"}}],\"defs\":[{\"type\":\"model\",\"name\":\"ReactiveHTML1\"},{\"type\":\"model\",\"name\":\"FlexBox1\",\"properties\":[{\"name\":\"align_content\",\"kind\":\"Any\",\"default\":\"flex-start\"},{\"name\":\"align_items\",\"kind\":\"Any\",\"default\":\"flex-start\"},{\"name\":\"flex_direction\",\"kind\":\"Any\",\"default\":\"row\"},{\"name\":\"flex_wrap\",\"kind\":\"Any\",\"default\":\"wrap\"},{\"name\":\"justify_content\",\"kind\":\"Any\",\"default\":\"flex-start\"}]},{\"type\":\"model\",\"name\":\"FloatPanel1\",\"properties\":[{\"name\":\"config\",\"kind\":\"Any\",\"default\":{\"type\":\"map\"}},{\"name\":\"contained\",\"kind\":\"Any\",\"default\":true},{\"name\":\"position\",\"kind\":\"Any\",\"default\":\"right-top\"},{\"name\":\"offsetx\",\"kind\":\"Any\",\"default\":null},{\"name\":\"offsety\",\"kind\":\"Any\",\"default\":null},{\"name\":\"theme\",\"kind\":\"Any\",\"default\":\"primary\"},{\"name\":\"status\",\"kind\":\"Any\",\"default\":\"normalized\"}]},{\"type\":\"model\",\"name\":\"GridStack1\",\"properties\":[{\"name\":\"mode\",\"kind\":\"Any\",\"default\":\"warn\"},{\"name\":\"ncols\",\"kind\":\"Any\",\"default\":null},{\"name\":\"nrows\",\"kind\":\"Any\",\"default\":null},{\"name\":\"allow_resize\",\"kind\":\"Any\",\"default\":true},{\"name\":\"allow_drag\",\"kind\":\"Any\",\"default\":true},{\"name\":\"state\",\"kind\":\"Any\",\"default\":[]}]},{\"type\":\"model\",\"name\":\"drag1\",\"properties\":[{\"name\":\"slider_width\",\"kind\":\"Any\",\"default\":5},{\"name\":\"slider_color\",\"kind\":\"Any\",\"default\":\"black\"},{\"name\":\"value\",\"kind\":\"Any\",\"default\":50}]},{\"type\":\"model\",\"name\":\"click1\",\"properties\":[{\"name\":\"terminal_output\",\"kind\":\"Any\",\"default\":\"\"},{\"name\":\"debug_name\",\"kind\":\"Any\",\"default\":\"\"},{\"name\":\"clears\",\"kind\":\"Any\",\"default\":0}]},{\"type\":\"model\",\"name\":\"toggle_value1\",\"properties\":[{\"name\":\"active_icons\",\"kind\":\"Any\",\"default\":{\"type\":\"map\"}},{\"name\":\"options\",\"kind\":\"Any\",\"default\":{\"type\":\"map\",\"entries\":[[\"favorite\",\"heart\"]]}},{\"name\":\"value\",\"kind\":\"Any\",\"default\":[]},{\"name\":\"_reactions\",\"kind\":\"Any\",\"default\":[]},{\"name\":\"_base_url\",\"kind\":\"Any\",\"default\":\"https://tabler-icons.io/static/tabler-icons/icons/\"}]},{\"type\":\"model\",\"name\":\"copy_to_clipboard1\",\"properties\":[{\"name\":\"value\",\"kind\":\"Any\",\"default\":null},{\"name\":\"fill\",\"kind\":\"Any\",\"default\":\"none\"}]},{\"type\":\"model\",\"name\":\"FastWrapper1\",\"properties\":[{\"name\":\"object\",\"kind\":\"Any\",\"default\":null},{\"name\":\"style\",\"kind\":\"Any\",\"default\":null}]},{\"type\":\"model\",\"name\":\"NotificationAreaBase1\",\"properties\":[{\"name\":\"js_events\",\"kind\":\"Any\",\"default\":{\"type\":\"map\"}},{\"name\":\"position\",\"kind\":\"Any\",\"default\":\"bottom-right\"},{\"name\":\"_clear\",\"kind\":\"Any\",\"default\":0}]},{\"type\":\"model\",\"name\":\"NotificationArea1\",\"properties\":[{\"name\":\"js_events\",\"kind\":\"Any\",\"default\":{\"type\":\"map\"}},{\"name\":\"notifications\",\"kind\":\"Any\",\"default\":[]},{\"name\":\"position\",\"kind\":\"Any\",\"default\":\"bottom-right\"},{\"name\":\"_clear\",\"kind\":\"Any\",\"default\":0},{\"name\":\"types\",\"kind\":\"Any\",\"default\":[{\"type\":\"map\",\"entries\":[[\"type\",\"warning\"],[\"background\",\"#ffc107\"],[\"icon\",{\"type\":\"map\",\"entries\":[[\"className\",\"fas fa-exclamation-triangle\"],[\"tagName\",\"i\"],[\"color\",\"white\"]]}]]},{\"type\":\"map\",\"entries\":[[\"type\",\"info\"],[\"background\",\"#007bff\"],[\"icon\",{\"type\":\"map\",\"entries\":[[\"className\",\"fas fa-info-circle\"],[\"tagName\",\"i\"],[\"color\",\"white\"]]}]]}]}]},{\"type\":\"model\",\"name\":\"Notification\",\"properties\":[{\"name\":\"background\",\"kind\":\"Any\",\"default\":null},{\"name\":\"duration\",\"kind\":\"Any\",\"default\":3000},{\"name\":\"icon\",\"kind\":\"Any\",\"default\":null},{\"name\":\"message\",\"kind\":\"Any\",\"default\":\"\"},{\"name\":\"notification_type\",\"kind\":\"Any\",\"default\":null},{\"name\":\"_destroyed\",\"kind\":\"Any\",\"default\":false}]},{\"type\":\"model\",\"name\":\"TemplateActions1\",\"properties\":[{\"name\":\"open_modal\",\"kind\":\"Any\",\"default\":0},{\"name\":\"close_modal\",\"kind\":\"Any\",\"default\":0}]},{\"type\":\"model\",\"name\":\"BootstrapTemplateActions1\",\"properties\":[{\"name\":\"open_modal\",\"kind\":\"Any\",\"default\":0},{\"name\":\"close_modal\",\"kind\":\"Any\",\"default\":0}]},{\"type\":\"model\",\"name\":\"MaterialTemplateActions1\",\"properties\":[{\"name\":\"open_modal\",\"kind\":\"Any\",\"default\":0},{\"name\":\"close_modal\",\"kind\":\"Any\",\"default\":0}]}]}};\n",
              "  var render_items = [{\"docid\":\"29f16b2d-0e16-498c-a4cf-4b488b3d2447\",\"roots\":{\"875ae3f7-b884-4a50-81df-43840f3c8c23\":\"d24648f7-5780-4094-9934-71e32833e6e8\"},\"root_ids\":[\"875ae3f7-b884-4a50-81df-43840f3c8c23\"]}];\n",
              "  var docs = Object.values(docs_json)\n",
              "  if (!docs) {\n",
              "    return\n",
              "  }\n",
              "  const py_version = docs[0].version.replace('rc', '-rc.').replace('.dev', '-dev.')\n",
              "  function embed_document(root) {\n",
              "    var Bokeh = get_bokeh(root)\n",
              "    Bokeh.embed.embed_items_notebook(docs_json, render_items);\n",
              "    for (const render_item of render_items) {\n",
              "      for (const root_id of render_item.root_ids) {\n",
              "\tconst id_el = document.getElementById(root_id)\n",
              "\tif (id_el.children.length && (id_el.children[0].className === 'bk-root')) {\n",
              "\t  const root_el = id_el.children[0]\n",
              "\t  root_el.id = root_el.id + '-rendered'\n",
              "\t}\n",
              "      }\n",
              "    }\n",
              "  }\n",
              "  function get_bokeh(root) {\n",
              "    if (root.Bokeh === undefined) {\n",
              "      return null\n",
              "    } else if (root.Bokeh.version !== py_version) {\n",
              "      if (root.Bokeh.versions === undefined || !root.Bokeh.versions.has(py_version)) {\n",
              "\treturn null\n",
              "      }\n",
              "      return root.Bokeh.versions.get(py_version);\n",
              "    } else if (root.Bokeh.version === py_version) {\n",
              "      return root.Bokeh\n",
              "    }\n",
              "    return null\n",
              "  }\n",
              "  function is_loaded(root) {\n",
              "    var Bokeh = get_bokeh(root)\n",
              "    return (Bokeh != null && Bokeh.Panel !== undefined)\n",
              "  }\n",
              "  if (is_loaded(root)) {\n",
              "    embed_document(root);\n",
              "  } else {\n",
              "    var attempts = 0;\n",
              "    var timer = setInterval(function(root) {\n",
              "      if (is_loaded(root)) {\n",
              "        clearInterval(timer);\n",
              "        embed_document(root);\n",
              "      } else if (document.readyState == \"complete\") {\n",
              "        attempts++;\n",
              "        if (attempts > 200) {\n",
              "          clearInterval(timer);\n",
              "\t  var Bokeh = get_bokeh(root)\n",
              "\t  if (Bokeh == null || Bokeh.Panel == null) {\n",
              "            console.warn(\"Panel: ERROR: Unable to run Panel code because Bokeh or Panel library is missing\");\n",
              "\t  } else {\n",
              "\t    console.warn(\"Panel: WARNING: Attempting to render but not all required libraries could be resolved.\")\n",
              "\t    embed_document(root)\n",
              "\t  }\n",
              "        }\n",
              "      }\n",
              "    }, 25, root)\n",
              "  }\n",
              "})(window);</script>"
            ],
            "application/vnd.holoviews_exec.v0+json": "",
            "text/plain": [
              "Column\n",
              "    [0] TextInput(placeholder='Enter text here…')\n",
              "    [1] Row\n",
              "        [0] Button(name='Chat!')\n",
              "    [2] ParamFunction(function, _pane=Column, defer_load=False, height=300, loading_indicator=True)"
            ]
          },
          "metadata": {
            "application/vnd.holoviews_exec.v0+json": {
              "id": "875ae3f7-b884-4a50-81df-43840f3c8c23"
            }
          },
          "execution_count": 82
        }
      ],
      "source": [
        "import panel as pn # GUI\n",
        "pn.extension()\n",
        "\n",
        "panels = [] # collect display\n",
        "\n",
        "context = [ {'role':'system', 'content':\"\"\"\n",
        "You are OrderBot, an automated service to collect orders for a pizza res taurant. \\\n",
        "You first greet the customer, then collects the order, \\ and then asks if it's a pickup or delivery. \\\n",
        "You wait to collect the entire order, then summarize it and check for a final \\\n",
        "time if the customer wants to add anything else. \\ If it's a delivery, you ask for an address. \\ Finally you collect the payment.\\\n",
        "Make sure to clarify all options, extras and sizes to uniquely \\ identify the item from the menu.\\\n",
        "You respond in a short, very conversational friendly style. \\ The menu includes \\\n",
        "pepperoni pizza 12.95, 10.00, 7.00 \\\n",
        "cheese pizza\t10.95, 9.25, 6.50 \\\n",
        "eggplant pizza\t11.95, 9.75, 6.75 \\\n",
        "fries 4.50, 3.50 \\ greek salad 7.25 \\ Toppings: \\\n",
        "extra cheese 2.00, \\ mushrooms 1.50 \\\n",
        "sausage 3.00 \\ canadian bacon 3.50 \\ AI sauce 1.50 \\ peppers 1.00 \\ Drinks: \\\n",
        "coke 3.00, 2.00, 1.00 \\\n",
        "sprite 3.00, 2.00, 1.00 \\ bottled water 5.00 \\\n",
        "\"\"\"} ] # accumulate messages\n",
        "\n",
        "inp = pn.widgets.TextInput(value=\"Hi\", placeholder='Enter text here…')\n",
        "button_conversation = pn.widgets.Button(name=\"Chat!\")\n",
        "\n",
        "interactive_conversation = pn.bind(collect_messages, button_conversation)\n",
        "\n",
        "dashboard = pn.Column(inp,\n",
        "  pn.Row(button_conversation),\n",
        "  pn.panel(interactive_conversation, loading_indicator=True, height=300),)\n",
        "dashboard\n"
      ]
    }
  ],
  "metadata": {
    "colab": {
      "provenance": []
    },
    "kernelspec": {
      "display_name": "Python 3",
      "name": "python3"
    },
    "language_info": {
      "name": "python"
    }
  },
  "nbformat": 4,
  "nbformat_minor": 0
}